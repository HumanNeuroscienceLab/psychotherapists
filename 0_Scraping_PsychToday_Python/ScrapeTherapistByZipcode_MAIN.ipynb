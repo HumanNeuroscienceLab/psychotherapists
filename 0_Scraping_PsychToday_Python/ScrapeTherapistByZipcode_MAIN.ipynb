{
 "cells": [
  {
   "cell_type": "code",
   "execution_count": null,
   "metadata": {
    "collapsed": true
   },
   "outputs": [],
   "source": [
    "# This Python script webscrapes Psychology Today psychotherapists zipcode by zipcode and \n",
    "# saves the webscraping results for each zipcode in a separate .csv file."
   ]
  },
  {
   "cell_type": "code",
   "execution_count": 1,
   "metadata": {
    "collapsed": true
   },
   "outputs": [],
   "source": [
    "# Import the main function for webscraping 'myscrape' defined in file 'myscrape_function.py':\n",
    "from myscrape_function import myscrape\n",
    "\n",
    "# That function, in turn, imports and uses function 'scrape_single_page'\n",
    "# from file 'single_url_scrape.py' that parses the BeautifulSoup of one url (one therapist)\n",
    "\n",
    "# !!! Make sure both of those files are in the same directory as this code."
   ]
  },
  {
   "cell_type": "code",
   "execution_count": 5,
   "metadata": {},
   "outputs": [],
   "source": [
    "# I want to webscrape New York City zip codes only. Here they are:\n",
    "\n",
    "myzips = ['10001','10002','10003','10004','10005','10006','10007','10009','10010','10011', '10012',\\\n",
    "          '10013','10014','10016','10017','10018','10019','10020','10021','10022','10023','10024', \\\n",
    "          '10025','10026','10027','10028','10029','10030','10031','10032','10033','10034','10035', \\\n",
    "          '10036','10037','10038','10039','10040','10044','10045','10065','10115','10119','10128', \\\n",
    "          '10154','10278','10280','10301','10302','10303','10304','10305','10306','10307','10309', \\\n",
    "          '10310','10312','10314','10451','10452','10453','10454','10455','10456','10457','10458', \\\n",
    "          '10459','10460','10461','10462','10463','10464','10465','10466','10467','10468','10469', \\\n",
    "          '10471','10472','10473','10474','10475','10514','10543','10553','10573','10701','10705', \\\n",
    "          '10911','10965','10977','11001','11021','11050','11101','11102','11103','11104','11105', \\\n",
    "          '11106','11111','11112','11201','11202','11203','11204','11205','11206','11207','11208', \\\n",
    "          '11209','11210','11211','11212','11213','11214','11215','11216','11217','11218','11219', \\\n",
    "          '11220','11221','11222','11223','11224','11225','11226','11228','11229','11230','11231', \\\n",
    "          '11232','11233','11234','11235','11236','11237','11238','11239','11252','11354','11355', \\\n",
    "          '11356','11357','11358','11360','11361','11362','11364','11365','11366','11367','11368', \\\n",
    "          '11369','11370','11371','11372','11373','11374','11375','11377','11378','11379','11385', \\\n",
    "          '11411','11412','11413','11414','11415','11416','11417','11418','11419','11420','11421', \\\n",
    "          '11422','11423','11424','11425','11426','11427','11428','11429','11430','11431','11432', \\\n",
    "          '11433','11434','11435','11436','11439','11451','11471','11510','11548','11566','11577', \\\n",
    "          '11580','11598','11629','11691','11692','11693','11694','11695','11731','11798','11968', \\\n",
    "          '12423','12428','12435','12458','12466','12473','12528','12701','12733','12734','12737', \\\n",
    "          '12750','12751','12754','12758','12759','12763','12764','12768','12779','12783','12786', \\\n",
    "          '12788','12789','13731','16091','20459']"
   ]
  },
  {
   "cell_type": "code",
   "execution_count": 7,
   "metadata": {},
   "outputs": [],
   "source": [
    "# Number of zipcodes:\n",
    "len(myzips)"
   ]
  },
  {
   "cell_type": "code",
   "execution_count": 2,
   "metadata": {
    "collapsed": true
   },
   "outputs": [],
   "source": [
    "# If you want to test it, you can run it with just a few zipcodes:\n",
    "# myzips = ['12423', '12435']"
   ]
  },
  {
   "cell_type": "code",
   "execution_count": 4,
   "metadata": {
    "scrolled": true
   },
   "outputs": [],
   "source": [
    "# The next line, if uncommented, will run the webscraping\n",
    "# myscrape(myzips)"
   ]
  }
 ],
 "metadata": {
  "kernelspec": {
   "display_name": "Python 3",
   "language": "python",
   "name": "python3"
  },
  "language_info": {
   "codemirror_mode": {
    "name": "ipython",
    "version": 3
   },
   "file_extension": ".py",
   "mimetype": "text/x-python",
   "name": "python",
   "nbconvert_exporter": "python",
   "pygments_lexer": "ipython3",
   "version": "3.6.1"
  }
 },
 "nbformat": 4,
 "nbformat_minor": 2
}
