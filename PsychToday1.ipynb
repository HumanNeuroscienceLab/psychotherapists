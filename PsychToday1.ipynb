{
 "cells": [
  {
   "cell_type": "code",
   "execution_count": null,
   "metadata": {
    "collapsed": true
   },
   "outputs": [],
   "source": [
    "Looking at Psychology Today search results for 07670 - just one therapist at a time"
   ]
  },
  {
   "cell_type": "code",
   "execution_count": 1,
   "metadata": {
    "collapsed": true
   },
   "outputs": [],
   "source": [
    "from bs4 import BeautifulSoup\n",
    "import requests, re, time, random\n",
    "# import re\n",
    "# import time\n",
    "# import random"
   ]
  },
  {
   "cell_type": "code",
   "execution_count": 2,
   "metadata": {},
   "outputs": [
    {
     "name": "stdout",
     "output_type": "stream",
     "text": [
      "https://therapists.psychologytoday.com/rms/prof_results.php?search=07670\n"
     ]
    }
   ],
   "source": [
    "headers = {\n",
    "    'Connection': 'keep-alive',\n",
    "    'Access-Control-Request-Headers': 'content-type',\n",
    "    'Accept': '*/*',\n",
    "    'User-Agent': 'Mozilla/5.0 (Macintosh; Intel Mac OS X 10_12_3) AppleWebKit/537.36 (KHTML, like Gecko) Chrome/58.0.3029.110 Safari/537.36'\n",
    "}\n",
    "# Grabbing just one site - results of therapist search in ONE zip code: 07670:\n",
    "myzip = ['07670']\n",
    "zipurl = 'https://therapists.psychologytoday.com/rms/prof_results.php?search=' + str(myzip[0])\n",
    "print(zipurl)\n",
    "response_zip = requests.get(zipurl, headers=headers).text\n",
    "soup_zip = BeautifulSoup(response_zip, 'html.parser')"
   ]
  },
  {
   "cell_type": "code",
   "execution_count": 3,
   "metadata": {},
   "outputs": [
    {
     "data": {
      "text/plain": [
       "bs4.BeautifulSoup"
      ]
     },
     "execution_count": 3,
     "metadata": {},
     "output_type": "execute_result"
    }
   ],
   "source": [
    "type(soup_zip)"
   ]
  },
  {
   "cell_type": "code",
   "execution_count": 4,
   "metadata": {
    "collapsed": true
   },
   "outputs": [],
   "source": [
    "# Manually constructing the list of urls for ALL psychotherapists in one zip - 07670:\n",
    "pages_url_list = []\n",
    "i = 1\n",
    "while True:\n",
    "    myurl = 'https://therapists.psychologytoday.com/rms/prof_results.php?sid=1507757611.7036_14284&zipcode=07670&rec_next='+str(i)\n",
    "    response = requests.get(myurl, headers=headers).text\n",
    "    soup = BeautifulSoup(response, 'html.parser')\n",
    "    alert = soup.find('div', attrs={'class': 'alert-alert'})\n",
    "    if alert is None:\n",
    "        i = i + 20\n",
    "        pages_url_list.append(myurl)\n",
    "        # time.sleep(random.randint(1,2))\n",
    "    else:\n",
    "        break"
   ]
  },
  {
   "cell_type": "code",
   "execution_count": 5,
   "metadata": {},
   "outputs": [
    {
     "name": "stdout",
     "output_type": "stream",
     "text": [
      "['https://therapists.psychologytoday.com/rms/prof_results.php?sid=1507757611.7036_14284&zipcode=07670&rec_next=1', 'https://therapists.psychologytoday.com/rms/prof_results.php?sid=1507757611.7036_14284&zipcode=07670&rec_next=21', 'https://therapists.psychologytoday.com/rms/prof_results.php?sid=1507757611.7036_14284&zipcode=07670&rec_next=41', 'https://therapists.psychologytoday.com/rms/prof_results.php?sid=1507757611.7036_14284&zipcode=07670&rec_next=61']\n",
      "4\n"
     ]
    }
   ],
   "source": [
    "print(pages_url_list)  # This list contains URLs of all pages that contain therapists found for this zip\n",
    "print(len(pages_url_list))"
   ]
  },
  {
   "cell_type": "code",
   "execution_count": 6,
   "metadata": {
    "collapsed": true
   },
   "outputs": [],
   "source": [
    "# Loop through all pages of therapist search for that zip and grab the urls of each and every therapist:\n",
    "therapist_urls = []\n",
    "for url in pages_url_list:\n",
    "    response = requests.get(url, headers = headers).text\n",
    "    soup = BeautifulSoup(response, 'html.parser')\n",
    "    therapists = soup.find_all('a', {'class': \"result-name\"})\n",
    "    for i in range(len(therapists)):\n",
    "        therapist_urls.append(therapists[i][\"href\"])\n",
    "        # time.sleep(random.randint(1,2))"
   ]
  },
  {
   "cell_type": "code",
   "execution_count": 7,
   "metadata": {},
   "outputs": [
    {
     "data": {
      "text/plain": [
       "75"
      ]
     },
     "execution_count": 7,
     "metadata": {},
     "output_type": "execute_result"
    }
   ],
   "source": [
    "len(therapist_urls)"
   ]
  },
  {
   "cell_type": "code",
   "execution_count": 8,
   "metadata": {},
   "outputs": [
    {
     "data": {
      "text/plain": [
       "'https://therapists.psychologytoday.com/rms/prof_detail.php?profid=143075&rec_next=1&ref=1&sid=1507757611.7036_14284&zipcode=07670&tr=ResultsName'"
      ]
     },
     "execution_count": 8,
     "metadata": {},
     "output_type": "execute_result"
    }
   ],
   "source": [
    "therapist_urls[0]"
   ]
  },
  {
   "cell_type": "code",
   "execution_count": 51,
   "metadata": {
    "collapsed": true
   },
   "outputs": [],
   "source": [
    "# For one single therapist, grabbing info from his/her page:\n",
    "response_one = requests.get(therapist_urls[32], headers=headers).text\n",
    "one_therap = BeautifulSoup(response_one, 'html.parser')\n",
    "# Grabbing qualifications of one therapist\n",
    "qualif_div = one_therap.find('div', {'class': \"profile-qualifications\"})\n",
    "allqualif = qualif_div.find_all('li')   # they are saved in 'li'"
   ]
  },
  {
   "cell_type": "code",
   "execution_count": 52,
   "metadata": {},
   "outputs": [
    {
     "data": {
      "text/plain": [
       "[<li>\n",
       " <strong>Years in Practice:</strong>\n",
       "             15+ Years\n",
       "         </li>, <li>\n",
       " <strong>School:</strong>\n",
       "             Adelphi University</li>, <li>\n",
       " <strong>Year Graduated:</strong>\n",
       "             1985\n",
       "         </li>, <li>\n",
       " <strong>License No. and State:</strong>\n",
       "             44SC01440900 New Jersey\n",
       "         </li>]"
      ]
     },
     "execution_count": 52,
     "metadata": {},
     "output_type": "execute_result"
    }
   ],
   "source": [
    "allqualif"
   ]
  },
  {
   "cell_type": "code",
   "execution_count": 53,
   "metadata": {
    "collapsed": true
   },
   "outputs": [],
   "source": [
    "# Collecting Years in Practice:\n",
    "\n",
    "years_check = [i.text.split('\\n')[2].strip() for i in allqualif if \"Years in Practice\" in i.text]\n",
    "if len(years_check) > 0:\n",
    "    years_in_practice = years_check[0]\n",
    "else:\n",
    "    years_in_practice = ''"
   ]
  },
  {
   "cell_type": "code",
   "execution_count": 54,
   "metadata": {},
   "outputs": [
    {
     "name": "stdout",
     "output_type": "stream",
     "text": [
      "15+ Years\n"
     ]
    }
   ],
   "source": [
    "print(years_in_practice)"
   ]
  },
  {
   "cell_type": "code",
   "execution_count": 55,
   "metadata": {
    "collapsed": true
   },
   "outputs": [],
   "source": [
    "# Collecting School:\n",
    "\n",
    "school_check = [i.text.split('\\n')[2].strip() for i in allqualif if \"School\" in i.text]\n",
    "if len(school_check) > 0:\n",
    "    school = school_check[0]\n",
    "else:\n",
    "    school = ''"
   ]
  },
  {
   "cell_type": "code",
   "execution_count": 56,
   "metadata": {},
   "outputs": [
    {
     "name": "stdout",
     "output_type": "stream",
     "text": [
      "Adelphi University\n"
     ]
    }
   ],
   "source": [
    "print(school)"
   ]
  },
  {
   "cell_type": "code",
   "execution_count": 57,
   "metadata": {
    "collapsed": true
   },
   "outputs": [],
   "source": [
    "# Collecting Year Graduated:\n",
    "\n",
    "yeargrad_check = [i.text.split('\\n')[2].strip() for i in allqualif if \"Year Graduated\" in i.text]\n",
    "if len(yeargrad_check) > 0:\n",
    "    yeargrad = int(yeargrad_check[0])\n",
    "else:\n",
    "    yeargrad = ''"
   ]
  },
  {
   "cell_type": "code",
   "execution_count": 58,
   "metadata": {},
   "outputs": [
    {
     "name": "stdout",
     "output_type": "stream",
     "text": [
      "1985\n"
     ]
    }
   ],
   "source": [
    "print(yeargrad)"
   ]
  },
  {
   "cell_type": "code",
   "execution_count": 59,
   "metadata": {
    "collapsed": true
   },
   "outputs": [],
   "source": [
    "# Collecting Board Certification:\n",
    "\n",
    "board_check = [i.text.split('\\n')[2].strip() for i in allqualif if \"Board Certification\" in i.text]\n",
    "if len(board_check) > 0:\n",
    "    board_certif = board_check[0]\n",
    "else:\n",
    "    board_certif = ''"
   ]
  },
  {
   "cell_type": "code",
   "execution_count": 60,
   "metadata": {},
   "outputs": [
    {
     "name": "stdout",
     "output_type": "stream",
     "text": [
      "\n"
     ]
    }
   ],
   "source": [
    "print(board_certif)"
   ]
  },
  {
   "cell_type": "code",
   "execution_count": 61,
   "metadata": {
    "collapsed": true
   },
   "outputs": [],
   "source": [
    "# Collecting License number & State:\n",
    "\n",
    "license_check = [i.text.split('\\n')[2].strip() for i in allqualif if \"License No. and State\" in i.text]\n",
    "if len(license_check) > 0:\n",
    "    # license = license_check[0]\n",
    "    license = license_check[0].split()[0]\n",
    "    license_state = \" \".join(license_check[0].split()[1:])\n",
    "else:\n",
    "    license = ''\n",
    "    license_state = ''"
   ]
  },
  {
   "cell_type": "code",
   "execution_count": 62,
   "metadata": {},
   "outputs": [
    {
     "name": "stdout",
     "output_type": "stream",
     "text": [
      "44SC01440900\n",
      "New Jersey\n"
     ]
    }
   ],
   "source": [
    "print(license)\n",
    "print(license_state)"
   ]
  },
  {
   "cell_type": "code",
   "execution_count": 63,
   "metadata": {
    "collapsed": true
   },
   "outputs": [],
   "source": [
    "# Grabbing all titles of one therapist\n",
    "\n",
    "titles = one_therap.find('div', {'class': \"profile-title\"}).text"
   ]
  },
  {
   "cell_type": "code",
   "execution_count": 64,
   "metadata": {
    "collapsed": true
   },
   "outputs": [],
   "source": [
    "titles = titles.replace(\"\\n\", \"\")"
   ]
  },
  {
   "cell_type": "code",
   "execution_count": 65,
   "metadata": {},
   "outputs": [
    {
     "data": {
      "text/plain": [
       "'Clinical Social Work/Therapist, LCSW'"
      ]
     },
     "execution_count": 65,
     "metadata": {},
     "output_type": "execute_result"
    }
   ],
   "source": [
    "titles"
   ]
  },
  {
   "cell_type": "code",
   "execution_count": 123,
   "metadata": {
    "collapsed": true
   },
   "outputs": [],
   "source": [
    "# Grabbing financial info:\n",
    "finances = one_therap.find('div', {'class': \"profile-finances\"})"
   ]
  },
  {
   "cell_type": "code",
   "execution_count": 125,
   "metadata": {},
   "outputs": [],
   "source": [
    "# Grabbing several financial metrics:\n",
    "lis = finances.find_all('li')"
   ]
  },
  {
   "cell_type": "code",
   "execution_count": 133,
   "metadata": {},
   "outputs": [
    {
     "data": {
      "text/plain": [
       "[<li>\n",
       " <strong>Avg Cost (per session):</strong> $80 - $120\n",
       "             </li>, <li>\n",
       " <strong>Sliding Scale:</strong> Yes\n",
       "             </li>, <li>\n",
       " <strong>Accepts Insurance:</strong> Yes\n",
       "             </li>, <li>\n",
       " <strong>Accepted Payment Methods: </strong>\n",
       "                                     Cash,                                     Check                            </li>, <li>Aetna</li>, <li>AmeriHealth</li>, <li>BlueCross and BlueShield</li>, <li>Cigna</li>, <li>GHI</li>, <li>Health Net</li>, <li>Holman Group</li>, <li>MHN</li>, <li>Magellan Behavioral Health</li>, <li>MagnaCare</li>, <li>Medicare</li>, <li>Oxford</li>, <li>PHCS</li>, <li>TRICARE</li>, <li>UnitedHealthcare</li>, <li>ValueOptions</li>, <li>WellPoint</li>, <li>Out of Network</li>]"
      ]
     },
     "execution_count": 133,
     "metadata": {},
     "output_type": "execute_result"
    }
   ],
   "source": [
    "lis"
   ]
  },
  {
   "cell_type": "code",
   "execution_count": 131,
   "metadata": {},
   "outputs": [],
   "source": [
    "# Grab cost per session:\n",
    "\n",
    "persession_check = [i.text.split(': ')[1].strip() for i in lis if \"Avg Cost (per session)\" in i.text]\n",
    "if len(persession_check) > 0:\n",
    "    per_session = persession_check[0]\n",
    "else:\n",
    "    per_session = ''"
   ]
  },
  {
   "cell_type": "code",
   "execution_count": 132,
   "metadata": {},
   "outputs": [
    {
     "data": {
      "text/plain": [
       "'$80 - $120'"
      ]
     },
     "execution_count": 132,
     "metadata": {},
     "output_type": "execute_result"
    }
   ],
   "source": [
    "per_session"
   ]
  },
  {
   "cell_type": "code",
   "execution_count": 137,
   "metadata": {
    "collapsed": true
   },
   "outputs": [],
   "source": [
    "# Grab sliding scale - yes or no:\n",
    "\n",
    "sliding_check = [i.text.split(': ')[1].strip() for i in lis if \"Sliding Scale\" in i.text]\n",
    "if len(sliding_check) > 0:\n",
    "     sliding = sliding_check[0]\n",
    "else:\n",
    "     sliding = ''"
   ]
  },
  {
   "cell_type": "code",
   "execution_count": 139,
   "metadata": {},
   "outputs": [
    {
     "data": {
      "text/plain": [
       "'Yes'"
      ]
     },
     "execution_count": 139,
     "metadata": {},
     "output_type": "execute_result"
    }
   ],
   "source": [
    "sliding"
   ]
  },
  {
   "cell_type": "code",
   "execution_count": 140,
   "metadata": {
    "collapsed": true
   },
   "outputs": [],
   "source": [
    "# Grab Accepts Insurance - yes or no:\n",
    "\n",
    "insur_check = [i.text.split(': ')[1].strip() for i in lis if \"Accepts Insurance\" in i.text]\n",
    "if len(insur_check) > 0:\n",
    "     insurance_yes = insur_check[0]\n",
    "else:\n",
    "     insurance_yes = ''"
   ]
  },
  {
   "cell_type": "code",
   "execution_count": 141,
   "metadata": {},
   "outputs": [
    {
     "data": {
      "text/plain": [
       "'Yes'"
      ]
     },
     "execution_count": 141,
     "metadata": {},
     "output_type": "execute_result"
    }
   ],
   "source": [
    "insurance_yes"
   ]
  },
  {
   "cell_type": "code",
   "execution_count": 155,
   "metadata": {
    "collapsed": true
   },
   "outputs": [],
   "source": [
    "# Grab Methods of Payment:\n",
    "\n",
    "payment_check = [i.text for i in lis if \"Accepted Payment Methods\" in i.text]\n",
    "payment_check = [i.text.split('\\n')[2].strip().split(',') for i in lis if \"Accepted Payment Methods\" in i.text]\n",
    "# if len(payment_check ) > 0:\n",
    "#      payment_method = insur_check[0]\n",
    "# else:\n",
    "#      payment_method = ''"
   ]
  },
  {
   "cell_type": "code",
   "execution_count": 157,
   "metadata": {},
   "outputs": [
    {
     "data": {
      "text/plain": [
       "[['Cash', '                                     Check']]"
      ]
     },
     "execution_count": 157,
     "metadata": {},
     "output_type": "execute_result"
    }
   ],
   "source": [
    "payment_check"
   ]
  },
  {
   "cell_type": "code",
   "execution_count": null,
   "metadata": {
    "collapsed": true
   },
   "outputs": [],
   "source": []
  }
 ],
 "metadata": {
  "kernelspec": {
   "display_name": "Python 3",
   "language": "python",
   "name": "python3"
  },
  "language_info": {
   "codemirror_mode": {
    "name": "ipython",
    "version": 3
   },
   "file_extension": ".py",
   "mimetype": "text/x-python",
   "name": "python",
   "nbconvert_exporter": "python",
   "pygments_lexer": "ipython3",
   "version": "3.6.1"
  }
 },
 "nbformat": 4,
 "nbformat_minor": 2
}
