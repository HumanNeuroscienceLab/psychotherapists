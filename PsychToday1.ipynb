{
 "cells": [
  {
   "cell_type": "code",
   "execution_count": null,
   "metadata": {
    "collapsed": true
   },
   "outputs": [],
   "source": [
    "Looking at Psychology Today search results for 07670"
   ]
  },
  {
   "cell_type": "code",
   "execution_count": 6,
   "metadata": {
    "collapsed": true
   },
   "outputs": [],
   "source": [
    "from bs4 import BeautifulSoup\n",
    "import requests, re, time, random\n",
    "import pandas as pd"
   ]
  },
  {
   "cell_type": "code",
   "execution_count": 8,
   "metadata": {},
   "outputs": [
    {
     "data": {
      "text/plain": [
       "<!DOCTYPE html>\n",
       "\n",
       "<html lang=\"en-US\">\n",
       "<head>\n",
       "<meta charset=\"utf-8\"/>\n",
       "<meta content=\"width=device-width,initial-scale=1.0,maximum-scale=1\" name=\"viewport\"/>\n",
       "<meta content=\"telephone=no\" name=\"format-detection\"/>\n",
       "<meta content=\"\" name=\"description\"/>\n",
       "<meta content=\"noindex,nofollow\" name=\"robots\"/> <title>Page Not Found</title>\n",
       "<link href=\"https://resources.psychologytoday.com/v3.52.0/css/directoryweb/psychologytoday.en-US.css\" rel=\"stylesheet\" type=\"text/css\"/>\n",
       "<link href=\"https://resources.psychologytoday.com/v3.52.0/images/favicon-TD.ico\" rel=\"icon\" type=\"image/x-icon\"/>\n",
       "<link href=\"https://resources.psychologytoday.com/v3.52.0/images/favicon-TD.ico\" rel=\"shortcut icon\" type=\"image/x-icon\"/>\n",
       "<link href=\"https://resources.psychologytoday.com/v3.52.0/images/apple-touch-icon-TD.png\" rel=\"apple-touch-icon\"/>\n",
       "<script src=\"https://resources.psychologytoday.com/v3.52.0/js/jquery/jquery-1.12.4.min.js\" type=\"text/javascript\"></script>\n",
       "<script src=\"https://resources.psychologytoday.com/v3.52.0/js/bootstrap/bootstrap.min.js\" type=\"text/javascript\"></script>\n",
       "<script src=\"https://resources.psychologytoday.com/v3.52.0/js/jquery/fastclick.js\" type=\"text/javascript\"></script>\n",
       "<script src=\"https://resources.psychologytoday.com/v3.52.0/js/jquery/directoryweb-sx.ui.js\" type=\"text/javascript\"></script>\n",
       "<script src=\"https://resources.psychologytoday.com/v3.52.0/js/jquery/sx.flag.js\" type=\"text/javascript\"></script>\n",
       "<script>\n",
       "        window.addEventListener('load', function () {\n",
       "            FastClick.attach(document.body);\n",
       "        }, false);\n",
       "    </script>\n",
       "<script>\n",
       "        var dataLayer = [{'SxTrackingID': \"UA-2018330-4\"}];\n",
       "    </script>\n",
       "<script type=\"text/javascript\">\n",
       "        var _vwo_code=(function(){\n",
       "            var account_id=198383,\n",
       "                settings_tolerance=2000,\n",
       "                library_tolerance=2500,\n",
       "                use_existing_jquery=true,\n",
       "                f=false,d=document;return{use_existing_jquery:function(){return use_existing_jquery;},library_tolerance:function(){return library_tolerance;},finish:function(){if(!f){f=true;var a=d.getElementById('_vis_opt_path_hides');if(a)a.parentNode.removeChild(a);}},finished:function(){return f;},load:function(a){var b=d.createElement('script');b.src=a;b.type='text/javascript';b.innerText;b.onerror=function(){_vwo_code.finish();};d.getElementsByTagName('head')[0].appendChild(b);},init:function(){settings_timer=setTimeout('_vwo_code.finish()',settings_tolerance);var a=d.createElement('style'),b='body{opacity:0 !important;filter:alpha(opacity=0) !important;background:none !important;}',h=d.getElementsByTagName('head')[0];a.setAttribute('id','_vis_opt_path_hides');a.setAttribute('type','text/css');if(a.styleSheet)a.styleSheet.cssText=b;else a.appendChild(d.createTextNode(b));h.appendChild(a);this.load('//dev.visualwebsiteoptimizer.com/j.php?a='+account_id+'&u='+encodeURIComponent(d.URL)+'&r='+Math.random());return settings_timer;}};}());_vwo_settings_timer=_vwo_code.init();\n",
       "    </script>\n",
       "<script src=\"https://cdn.optimizely.com/js/6265930501.js\"></script>\n",
       "</head>\n",
       "<body data-spid-raw=\"\" data-spid-type=\"TD\">\n",
       "<!-- Start Google Tag Manager -->\n",
       "<noscript><iframe height=\"0\" src=\"//www.googletagmanager.com/ns.html?id=GTM-WGTKPG\" style=\"display:none;visibility:hidden\" width=\"0\"></iframe></noscript>\n",
       "<script>(function(w,d,s,l,i){w[l]=w[l]||[];w[l].push({'gtm.start':\n",
       "            new Date().getTime(),event:'gtm.js'});var f=d.getElementsByTagName(s)[0],\n",
       "            j=d.createElement(s),dl=l!='dataLayer'?'&l='+l:'';j.async=true;j.src=\n",
       "            '//www.googletagmanager.com/gtm.js?id='+i+dl;f.parentNode.insertBefore(j,f);\n",
       "    })(window,document,'script','dataLayer','GTM-WGTKPG');</script>\n",
       "<!-- End Google Tag Manager -->\n",
       "<!-- Calling ../rms/rms_html/top_nav.php -->\n",
       "<div id=\"pageContainer\">\n",
       "<div id=\"headerShadow\"></div>\n",
       "<header class=\"outerWrapper TD fixed-header\" id=\"headerWrapper\">\n",
       "<div class=\"pageInner\">\n",
       "<div class=\"row\">\n",
       "<div class=\"col-lg-8 col-md-8 col-sm-7 col-xs-12\">\n",
       "<button class=\"app-menu-btn btn btn-frost hidden-xs\" id=\"subBrandsBtn\">\n",
       "<i class=\"icon icon-white icon-show_lines\"></i>\n",
       "</button>\n",
       "<a class=\"app-menu-btn hidden-sm hidden-md hidden-lg\" id=\"subBrandsBtnXs\">\n",
       "<i class=\"icon icon-white icon-show_lines\"></i>\n",
       "</a>\n",
       "<h1>\n",
       "<a class=\"headerLogo brandFace\" href=\"https://therapists.psychologytoday.com/rms/?tr=Hdr_Brand\" id=\"headerBrand\" title=\"Psychology Today\"> <span class=\"ui-sprite ui-sprite-resp\" id=\"headerLogo\">Psychology Today</span>\n",
       "</a>\n",
       "<a class=\"headerLogo subBrandFace\" href=\"https://therapists.psychologytoday.com/rms/?tr=Hdr_SubBrand\" id=\"headerSubBrand\" title=\"Therapists\">Therapists</a>\n",
       "</h1>\n",
       "<a class=\"hidden-sm hidden-md hidden-lg\" data-event-label=\"Search_HeaderButton\" data-trigger=\"search-autosuggest\" href=\"https://therapists.psychologytoday.com/rms/\" id=\"headerSearchIcon\" title=\"Find a Therapist\"></a>\n",
       "</div>\n",
       "<div class=\"col-lg-4 col-md-4 col-sm-5 hidden-xs\" id=\"headerActions\" style=\"text-align: right;\">\n",
       "<a class=\"btn btn btn-frost headerBtn\" href=\"https://member.psychologytoday.com/rms-sec/\">Log In</a>\n",
       "<a class=\"btn headerBtn btn-orange\" href=\"https://member.psychologytoday.com/therapist/?src=RMSLOG\">Sign Up and Get Listed</a>\n",
       "</div>\n",
       "</div>\n",
       "</div>\n",
       "</header>\n",
       "<div class=\"app-menu-container\">\n",
       "<div class=\"container\">\n",
       "<nav class=\"app-menu\" id=\"subBrands\">\n",
       "<ul>\n",
       "<li>\n",
       "<a href=\"https://therapists.psychologytoday.com/rms/?tr=Header_Menu2\" title=\"Find Therapists\">Therapists</a>\n",
       "</li>\n",
       "<li>\n",
       "<a href=\"https://psychiatrists.psychologytoday.com/rms/?tr=Header_Menu2\" title=\"Find Psychiatrists\">Psychiatrists</a>\n",
       "</li>\n",
       "<li>\n",
       "<a href=\"https://groups.psychologytoday.com/rms/?tr=Header_Menu2\" title=\"Find Support Groups\">Support Groups</a>\n",
       "</li>\n",
       "<li>\n",
       "<a href=\"https://treatment.psychologytoday.com/rms/?tr=Header_Menu2\" title=\"Find Treatment Centers\">Treatment Centers</a>\n",
       "</li>\n",
       "<li>\n",
       "<br/><a href=\"https://member.psychologytoday.com/rms-sec/\">Log In</a>\n",
       "</li>\n",
       "<li>\n",
       "<a href=\"https://member.psychologytoday.com/therapist/?src=RMSLOG\">Sign\n",
       "                            Up</a>\n",
       "</li>\n",
       "</ul>\n",
       "</nav>\n",
       "</div>\n",
       "</div><div class=\"no-min-height\" id=\"main\">\n",
       "<div class=\"pageInner no-breadcrumb\">\n",
       "<div class=\"row\">\n",
       "<div class=\"col-xs-12 col-sm-11 col-md-11 col-lg-11\">\n",
       "<h1>Sorry!</h1>\n",
       "<p>The page you were looking for was not found. Please check\n",
       "                    the address and try again or <a href=\"https://therapists.psychologytoday.com/rms/\">start from the top</a>.\n",
       "            </p></div>\n",
       "</div>\n",
       "</div>\n",
       "</div>\n",
       "<div class=\"modal search-modal\" data-directory-url=\"https://therapists.psychologytoday.com/rms/prof_results.php\" id=\"searchModal\">\n",
       "<div class=\"modal-dialog\" role=\"document\">\n",
       "<div class=\"modal-content\">\n",
       "<div class=\"modal-body scrollable\">\n",
       "<div class=\"autosuggest-container\" data-endpoint=\"https://therapists.psychologytoday.com/rms/search/suggest\" data-placeholder=\"City, Zip or Name\" id=\"autosuggestContainer\">\n",
       "<div class=\"autosuggest-header\">\n",
       "<div class=\"autosuggest-input\">\n",
       "<i class=\"icon icon-chevron-left hidden-sm hidden-md hidden-lg\" data-dismiss=\"modal\"></i>\n",
       "<input autocapitalize=\"off\" autocorrect=\"off\" autosuggest=\"off\" class=\"search-autosuggest\" data-label=\"Search_SearchField\" id=\"autosuggestSearchInput\" tabindex=\"0\" type=\"text\"/>\n",
       "<input id=\"autosuggestHiddenInput\" type=\"hidden\"/>\n",
       "<button class=\"btn btn-blue btn-search\" id=\"autosuggestSearchButton\" title=\"Search for Therapists near you.\">\n",
       "<i class=\"icon icon-search icon-white\"></i>\n",
       "</button>\n",
       "</div>\n",
       "<div class=\"autosuggest-message\"></div>\n",
       "</div>\n",
       "<div class=\"autosuggest-sections\" id=\"searchSuggestions\">\n",
       "<div class=\"autosuggest-section\" data-section=\"locations\" id=\"locationSuggestions\"></div>\n",
       "<div class=\"autosuggest-section\" data-section=\"names\" id=\"nameSuggestions\"></div>\n",
       "</div>\n",
       "</div>\n",
       "<script charset=\"UTF-8\" src=\"https://resources.psychologytoday.com/v3.52.0/js/search/autosuggest.js\"></script>\n",
       "<div class=\"scrollable-ios-hack\"></div>\n",
       "</div>\n",
       "<div class=\"modal-footer\"></div>\n",
       "</div>\n",
       "</div>\n",
       "</div>\n",
       "<script src=\"https://resources.psychologytoday.com/v3.52.0/js/modal/modal.js\" type=\"text/javascript\"></script>\n",
       "<footer class=\"outerWrapper\" id=\"pageFooter\">\n",
       "<div class=\"pageInner\">\n",
       "<section class=\"collapsible hidden-xs col-xs-12 col-sm-12 col-md-12 col-lg-12\" id=\"metaSearches\">\n",
       "<h3>Search All Professionals</h3>\n",
       "<div class=\"collapsible-content\">\n",
       "<div class=\"span3\" style=\"width:22%;\">\n",
       "<h4>Therapy</h4>\n",
       "<ul>\n",
       "<li>\n",
       "<a href=\"https://therapists.psychologytoday.com/rms/\" title=\"Find Therapists\">Therapists</a>\n",
       "</li>\n",
       "<li>\n",
       "<a href=\"https://groups.psychologytoday.com/rms/\" title=\"Find Support Groups\">Support Groups</a>\n",
       "</li>\n",
       "<li>\n",
       "<a href=\"https://treatment.psychologytoday.com/rms/\" title=\"Find Treatment Centers\">Treatment Centers</a>\n",
       "</li>\n",
       "<li>\n",
       "<a href=\"https://psychiatrists.psychologytoday.com/rms/\" title=\"Find Psychiatrists\">Psychiatrists</a>\n",
       "</li>\n",
       "<li>\n",
       "<a href=\"https://therapists.psychologytoday.com/rms/prof_listing.php\">Professional Listings</a>\n",
       "</li>\n",
       "<li>\n",
       "<a href=\"https://therapists.psychologytoday.com/rms/company.php\">Company Listings</a>\n",
       "</li>\n",
       "</ul>\n",
       "</div>\n",
       "<div class=\"span3\" style=\"width:22%;\">\n",
       "<h4>Health Professionals</h4>\n",
       "<ul>\n",
       "<li>\n",
       "<a href=\"https://acupuncturists.healthprofs.com/cam/\" title=\"Find Acupuncturists\">Acupuncturists</a>\n",
       "</li>\n",
       "<li>\n",
       "<a href=\"https://chiropractors.healthprofs.com/cam/\" title=\"Find Chiropractors\">Chiropractors</a>\n",
       "</li>\n",
       "<li>\n",
       "<a href=\"https://dentists.healthprofs.com/cam/\" title=\"Find Dentists\">Dentists</a>\n",
       "</li>\n",
       "<li>\n",
       "<a href=\"https://homeopaths.healthprofs.com/cam/\" title=\"Find Homeopaths\">Homeopaths</a>\n",
       "</li>\n",
       "<li>\n",
       "<a href=\"https://massagetherapists.healthprofs.com/cam/\" title=\"Find Massage Therapists\">Massage Therapists</a>\n",
       "</li>\n",
       "<li>\n",
       "<a href=\"https://mds.healthprofs.com/cam/\" title=\"Find Medical Doctors\">Medical Doctors</a>\n",
       "</li>\n",
       "<li>\n",
       "<a href=\"https://naturopaths.healthprofs.com/cam/\" title=\"Find Naturopaths\">Naturopaths</a>\n",
       "</li>\n",
       "<li>\n",
       "<a href=\"https://nutritionists.healthprofs.com/cam/\" title=\"Find Nutritionists and Dietitians\">Nutritionists and Dietitians</a>\n",
       "</li>\n",
       "<li>\n",
       "<a href=\"https://physicaltherapists.healthprofs.com/cam/\" title=\"Find Physical Therapists\">Physical Therapists</a>\n",
       "</li>\n",
       "</ul>\n",
       "</div>\n",
       "</div>\n",
       "</section>\n",
       "<div class=\"row\">\n",
       "<div class=\"promo-ribbon hidden-xs col-sm-12 hidden-md hidden-lg\">\n",
       "<div class=\"signupPromo ui-sprite\">\n",
       "<div class=\"signupPromoMessage\">\n",
       "                        Attention Licensed Professionals!<br/>Get included on Psychology Today.\n",
       "                    </div>\n",
       "<a class=\"signupPromoBtn btn btn-orange\" href=\"https://member.psychologytoday.com/therapist/?src=RMSLOGFOOT\">Sign Up and Get Listed</a>\n",
       "</div>\n",
       "</div>\n",
       "<div class=\"col-xs-12 col-sm-6 col-md-6 col-lg-6 footerActions\">\n",
       "<div class=\"hidden-sm hidden-md hidden-lg text-xs-center\">\n",
       "<a class=\"footerLoginBtn btn btn-blue\" href=\"https://member.psychologytoday.com/rms-sec/\">Log In</a>\n",
       "<a class=\"signupPromoBtn btn btn-orange\" href=\"https://member.psychologytoday.com/therapist/?src=RMSLOGFOOT\">Sign Up and Get Listed</a>\n",
       "</div>\n",
       "<div class=\"hidden-xs col-sm-12 col-md-12 col-lg-12\">\n",
       "<a class=\"footerLogo ui-sprite\" href=\"https://therapists.psychologytoday.com\" id=\"footerLogoTd\" title=\"Psychology Today\">Psychology Today</a>\n",
       "<a class=\"footerLogo ui-sprite\" href=\"https://www.healthprofs.com\" id=\"footerLogoCam\" title=\"The Health Professionals Directory\">HealthProfs.com</a>\n",
       "<div class=\"footerActions col-xs-12 hidden-sm hidden-md hidden-lg\">\n",
       "<a class=\"footerLoginBtn btn btn-blue\" href=\"https://member.psychologytoday.com/rms-sec/\">Log In</a>\n",
       "<a class=\"signupPromoBtn btn btn-orange\" href=\"https://member.psychologytoday.com/therapist/?src=RMSLOGFOOT\">Sign Up and Get Listed</a>\n",
       "</div>\n",
       "</div>\n",
       "<div class=\"col-xs-12 col-sm-12 col-md-12 col-lg-12 text-left text-xs-center\">\n",
       "<ul id=\"footerNav\">\n",
       "<li>\n",
       "<a class=\"footerNavItem first\" href=\"https://therapists.psychologytoday.com/rms/content/about.html\">About</a>\n",
       "</li>\n",
       "<li>\n",
       "<a class=\"footerNavItem first\" href=\"https://therapists.psychologytoday.com/us/careers\">Careers</a>\n",
       "</li>\n",
       "<li>\n",
       "<a class=\"footerNavItem\" href=\"https://therapists.psychologytoday.com/rms/content/privacy.html\">Privacy</a>\n",
       "</li>\n",
       "<li>\n",
       "<a class=\"footerNavItem\" href=\"https://therapists.psychologytoday.com/rms/content/terms.html\">Terms</a>\n",
       "</li>\n",
       "</ul>\n",
       "<div id=\"footerCopyright\">\n",
       "                        © 2017 <a href=\"https://sussexdirectories.com\">Sussex Directories Inc.</a><span class=\"hidden-xs hidden-sm\">, Psychology Today is © 2017\n",
       "                                <a href=\"https://www.psychologytoday.com\">Sussex Publishers, LLC</a></span> </div>\n",
       "</div>\n",
       "</div>\n",
       "<div class=\"promo-ribbon hidden-xs col-xs-12 hidden-sm col-md-6 col-lg-6 pull-left\">\n",
       "<div class=\"signupPromo ui-sprite\">\n",
       "<div class=\"signupPromoMessage\">\n",
       "                        Attention Licensed Professionals!<br/>Get included on Psychology Today.\n",
       "                    </div>\n",
       "<a class=\"signupPromoBtn btn btn-orange\" href=\"https://member.psychologytoday.com/therapist/?src=RMSLOGFOOT\">Sign Up and Get Listed</a>\n",
       "</div>\n",
       "</div>\n",
       "</div>\n",
       "</div>\n",
       "</footer></div></body>\n",
       "</html>"
      ]
     },
     "execution_count": 8,
     "metadata": {},
     "output_type": "execute_result"
    }
   ],
   "source": [
    "headers = {\n",
    "    'Connection': 'keep-alive',\n",
    "    'Access-Control-Request-Headers': 'content-type',\n",
    "    'Accept': '*/*',\n",
    "    'User-Agent': 'Mozilla/5.0 (Macintosh; Intel Mac OS X 10_12_3) AppleWebKit/537.36 (KHTML, like Gecko) Chrome/58.0.3029.110 Safari/537.36'\n",
    "}\n",
    "# Grabbing just the results of therapist search in ONE zip code: myzip:\n",
    "myzip = '11205'\n",
    "longurl = 'https://therapists.psychologytoday.com/rms/prof_results.php?sid=1508208980.5752_6405&zipcode=07024&rec_next='\n",
    "zipurl = 'https://therapists.psychologytoday.com/rms/prof_results.php?search=' + myzip\n",
    "# print(zipurl)\n",
    "response_zip = requests.get(zipurl, headers=headers).text\n",
    "soup_zip = BeautifulSoup(response_zip, 'html.parser')\n",
    "soup_zip"
   ]
  },
  {
   "cell_type": "code",
   "execution_count": 3,
   "metadata": {
    "collapsed": true
   },
   "outputs": [],
   "source": [
    "# Manually constructing the list of urls for ALL available search result pages in that tip - 20 therapists per page:\n",
    "pages_url_list = []\n",
    "i = 1\n",
    "while True:\n",
    "    myurl = longurl+str(i)\n",
    "    response = requests.get(myurl, headers=headers).text\n",
    "    soup = BeautifulSoup(response, 'html.parser')\n",
    "    alert = soup.find('div', attrs={'class': 'alert-alert'})\n",
    "    if alert is None:\n",
    "        i = i + 20\n",
    "        pages_url_list.append(myurl)\n",
    "        # time.sleep(random.randint(1,2))\n",
    "    else:\n",
    "        break"
   ]
  },
  {
   "cell_type": "code",
   "execution_count": 4,
   "metadata": {},
   "outputs": [
    {
     "name": "stdout",
     "output_type": "stream",
     "text": [
      "['https://therapists.psychologytoday.com/rms/prof_results.php?sid=1508208980.5752_6405&zipcode=07024&rec_next=1', 'https://therapists.psychologytoday.com/rms/prof_results.php?sid=1508208980.5752_6405&zipcode=07024&rec_next=21', 'https://therapists.psychologytoday.com/rms/prof_results.php?sid=1508208980.5752_6405&zipcode=07024&rec_next=41', 'https://therapists.psychologytoday.com/rms/prof_results.php?sid=1508208980.5752_6405&zipcode=07024&rec_next=61']\n",
      "4\n"
     ]
    }
   ],
   "source": [
    "print(pages_url_list)  # This list contains URLs of all pages that contain therapists found for this zip\n",
    "print(len(pages_url_list))"
   ]
  },
  {
   "cell_type": "code",
   "execution_count": 5,
   "metadata": {
    "collapsed": true
   },
   "outputs": [],
   "source": [
    "# Loop through all urls found above (for pages of therapist search for that zip) and grab the urls of each and every therapist:\n",
    "therapist_urls = []\n",
    "for url in pages_url_list:\n",
    "    response = requests.get(url, headers = headers).text\n",
    "    soup = BeautifulSoup(response, 'html.parser')\n",
    "    therapists = soup.find_all('a', {'class': \"result-name\"})\n",
    "    for i in range(len(therapists)):\n",
    "        therapist_urls.append(therapists[i][\"href\"])\n",
    "        # time.sleep(random.randint(1,2))"
   ]
  },
  {
   "cell_type": "code",
   "execution_count": 6,
   "metadata": {},
   "outputs": [
    {
     "name": "stdout",
     "output_type": "stream",
     "text": [
      "65\n"
     ]
    }
   ],
   "source": [
    "print(len(therapist_urls))"
   ]
  },
  {
   "cell_type": "code",
   "execution_count": 57,
   "metadata": {},
   "outputs": [
    {
     "ename": "NameError",
     "evalue": "name 'therapist_urls' is not defined",
     "output_type": "error",
     "traceback": [
      "\u001b[1;31m---------------------------------------------------------------------------\u001b[0m",
      "\u001b[1;31mNameError\u001b[0m                                 Traceback (most recent call last)",
      "\u001b[1;32m<ipython-input-57-1bb5363ed8c5>\u001b[0m in \u001b[0;36m<module>\u001b[1;34m()\u001b[0m\n\u001b[0;32m      7\u001b[0m \u001b[0mresponse_one\u001b[0m \u001b[1;33m=\u001b[0m \u001b[0mrequests\u001b[0m\u001b[1;33m.\u001b[0m\u001b[0mget\u001b[0m\u001b[1;33m(\u001b[0m\u001b[0mtemp\u001b[0m\u001b[1;33m,\u001b[0m \u001b[0mheaders\u001b[0m\u001b[1;33m=\u001b[0m\u001b[0mheaders\u001b[0m\u001b[1;33m)\u001b[0m\u001b[1;33m.\u001b[0m\u001b[0mtext\u001b[0m\u001b[1;33m\u001b[0m\u001b[0m\n\u001b[0;32m      8\u001b[0m \u001b[0mone_therap\u001b[0m \u001b[1;33m=\u001b[0m \u001b[0mBeautifulSoup\u001b[0m\u001b[1;33m(\u001b[0m\u001b[0mresponse_one\u001b[0m\u001b[1;33m,\u001b[0m \u001b[1;34m'html.parser'\u001b[0m\u001b[1;33m)\u001b[0m\u001b[1;33m\u001b[0m\u001b[0m\n\u001b[1;32m----> 9\u001b[1;33m \u001b[0mtherapist_urls\u001b[0m\u001b[1;33m[\u001b[0m\u001b[1;36m27\u001b[0m\u001b[1;33m]\u001b[0m\u001b[1;33m\u001b[0m\u001b[0m\n\u001b[0m\u001b[0;32m     10\u001b[0m \u001b[0mtemp\u001b[0m\u001b[1;33m\u001b[0m\u001b[0m\n",
      "\u001b[1;31mNameError\u001b[0m: name 'therapist_urls' is not defined"
     ]
    }
   ],
   "source": [
    "# For a single therapist, parse his/her page:\n",
    "ter = 0\n",
    "# response_one = requests.get(therapist_urls[ter], headers=headers).text\n",
    "# temp = therapist_urls[ter]\n",
    "# temp = 'https://therapists.psychologytoday.com/rms/prof_detail.php?profid=35956&rec_next=1&ref=16&sid=1508110622.8452_29222&zipcode=11205&tr=ResultsName'\n",
    "temp = 'https://therapists.psychologytoday.com/rms/prof_detail.php?profid=147000&rec_next=1&ref=1&sid=1508249435.4562_29222&zipcode=10012&tr=ResultsName'\n",
    "response_one = requests.get(temp, headers=headers).text\n",
    "one_therap = BeautifulSoup(response_one, 'html.parser')\n",
    "therapist_urls[27]\n",
    "temp"
   ]
  },
  {
   "cell_type": "code",
   "execution_count": 5,
   "metadata": {
    "collapsed": true
   },
   "outputs": [],
   "source": [
    "# Grab qualifications of one therapist\n",
    "qualif_div = one_therap.find('div', {'class': \"profile-qualifications\"})\n",
    "allqualif = qualif_div.find_all('li')   # they are saved in 'li'\n",
    "# allqualif"
   ]
  },
  {
   "cell_type": "code",
   "execution_count": 6,
   "metadata": {},
   "outputs": [
    {
     "data": {
      "text/plain": [
       "'20+'"
      ]
     },
     "execution_count": 6,
     "metadata": {},
     "output_type": "execute_result"
    }
   ],
   "source": [
    "# Collecting Years in Practice:\n",
    "\n",
    "years_check = [i.text.split('\\n')[2].strip() for i in allqualif if \"Years in Practice\" in i.text]\n",
    "if len(years_check) > 0:\n",
    "    years_in_practice = years_check[0].replace(' Years', '')\n",
    "else:\n",
    "    years_in_practice = ''\n",
    "years_in_practice"
   ]
  },
  {
   "cell_type": "code",
   "execution_count": 12,
   "metadata": {
    "collapsed": true
   },
   "outputs": [],
   "source": [
    "# Collecting School:\n",
    "\n",
    "school_check = [i.text.split('\\n')[2].strip() for i in allqualif if \"School\" in i.text]\n",
    "if len(school_check) > 0:\n",
    "    school = school_check[0]\n",
    "    school = re.sub(r'\\([^)]*\\)', '', school).strip()\n",
    "    school = school.replace(', ', '_')\n",
    "    school = school.replace(',', '_')\n",
    "    school = school.replace('/ ', '_')\n",
    "    school = school.replace('/', '_')\n",
    "    school = school.replace(' - ', '_')\n",
    "    school = school.replace(' ', '_').lower()\n",
    "else:\n",
    "    school = ''"
   ]
  },
  {
   "cell_type": "code",
   "execution_count": 13,
   "metadata": {},
   "outputs": [
    {
     "data": {
      "text/plain": [
       "'hunter_college_grad_school_of_social_work'"
      ]
     },
     "execution_count": 13,
     "metadata": {},
     "output_type": "execute_result"
    }
   ],
   "source": [
    "school"
   ]
  },
  {
   "cell_type": "code",
   "execution_count": 14,
   "metadata": {
    "collapsed": true
   },
   "outputs": [],
   "source": [
    "# Collecting Year Graduated:\n",
    "\n",
    "yeargrad_check = [i.text.split('\\n')[2].strip() for i in allqualif if \"Year Graduated\" in i.text]\n",
    "if len(yeargrad_check) > 0:\n",
    "    yeargrad = int(yeargrad_check[0])\n",
    "else:\n",
    "    yeargrad = ''"
   ]
  },
  {
   "cell_type": "code",
   "execution_count": 15,
   "metadata": {},
   "outputs": [
    {
     "data": {
      "text/plain": [
       "1978"
      ]
     },
     "execution_count": 15,
     "metadata": {},
     "output_type": "execute_result"
    }
   ],
   "source": [
    "yeargrad"
   ]
  },
  {
   "cell_type": "code",
   "execution_count": 16,
   "metadata": {
    "collapsed": true
   },
   "outputs": [],
   "source": [
    "# Collecting Board Certification:\n",
    "\n",
    "board_check = [i.text.split('\\n')[2].strip() for i in allqualif if \"Board Certification\" in i.text]\n",
    "if len(board_check) > 0:\n",
    "    board_certif = 1\n",
    "else:\n",
    "    board_certif = 0"
   ]
  },
  {
   "cell_type": "code",
   "execution_count": 17,
   "metadata": {},
   "outputs": [
    {
     "data": {
      "text/plain": [
       "0"
      ]
     },
     "execution_count": 17,
     "metadata": {},
     "output_type": "execute_result"
    }
   ],
   "source": [
    "board_certif"
   ]
  },
  {
   "cell_type": "code",
   "execution_count": 18,
   "metadata": {
    "collapsed": true
   },
   "outputs": [],
   "source": [
    "# Collecting License number & State:\n",
    "\n",
    "license_check = [i.text.split('\\n')[2].strip() for i in allqualif if \"License No. and State\" in i.text]\n",
    "if len(license_check) > 0:\n",
    "    # license = license_check[0]\n",
    "    license = license_check[0].split()[0]\n",
    "    license_state = \" \".join(license_check[0].split()[1:])\n",
    "else:\n",
    "    license = ''\n",
    "    license_state = ''"
   ]
  },
  {
   "cell_type": "code",
   "execution_count": 19,
   "metadata": {},
   "outputs": [
    {
     "name": "stdout",
     "output_type": "stream",
     "text": [
      "R022106-1\n",
      "New York\n"
     ]
    }
   ],
   "source": [
    "print(license)\n",
    "print(license_state)"
   ]
  },
  {
   "cell_type": "code",
   "execution_count": 20,
   "metadata": {
    "collapsed": true
   },
   "outputs": [],
   "source": [
    "# Grabbing all titles of one therapist\n",
    "titles = one_therap.find('div', {'class': \"profile-title\"}).text.strip()\n",
    "titles = titles.replace(\"\\n\", \"\")\n",
    "titles = titles.replace('/', '_').strip()\n",
    "titles = titles.replace(', ', ',')\n",
    "titles = titles.replace(' ', '_')\n",
    "titles = titles.replace(',', ', ')"
   ]
  },
  {
   "cell_type": "code",
   "execution_count": 21,
   "metadata": {},
   "outputs": [
    {
     "data": {
      "text/plain": [
       "'Clinical_Social_Work_Therapist, LCSW'"
      ]
     },
     "execution_count": 21,
     "metadata": {},
     "output_type": "execute_result"
    }
   ],
   "source": [
    "titles"
   ]
  },
  {
   "cell_type": "code",
   "execution_count": 22,
   "metadata": {
    "collapsed": true
   },
   "outputs": [],
   "source": [
    "finances = one_therap.find('div', {'class': \"profile-finances\"})\n",
    "finances == None\n",
    "# Grabbing financial info:\n",
    "finances = one_therap.find('div', {'class': \"profile-finances\"})\n",
    "# print(finances)"
   ]
  },
  {
   "cell_type": "code",
   "execution_count": 23,
   "metadata": {},
   "outputs": [
    {
     "data": {
      "text/plain": [
       "False"
      ]
     },
     "execution_count": 23,
     "metadata": {},
     "output_type": "execute_result"
    }
   ],
   "source": [
    "finances == None"
   ]
  },
  {
   "cell_type": "code",
   "execution_count": 24,
   "metadata": {},
   "outputs": [
    {
     "data": {
      "text/plain": [
       "'100-170'"
      ]
     },
     "execution_count": 24,
     "metadata": {},
     "output_type": "execute_result"
    }
   ],
   "source": [
    "# Grabbing several financial metrics:\n",
    "lis = finances.find_all('li')\n",
    "\n",
    "# Grab cost per session:\n",
    "persession_check = [i.text.split(': ')[1].strip() for i in lis if \"Avg Cost (per session)\" in i.text]\n",
    "if len(persession_check) > 0:\n",
    "    per_session = persession_check[0].replace('$', '')\n",
    "    per_session = per_session.replace(' ', '')\n",
    "else:\n",
    "    per_session = ''\n",
    "per_session"
   ]
  },
  {
   "cell_type": "code",
   "execution_count": 25,
   "metadata": {},
   "outputs": [
    {
     "name": "stdout",
     "output_type": "stream",
     "text": [
      "\n",
      "Sliding Scale: Yes\n",
      "            \n"
     ]
    },
    {
     "data": {
      "text/plain": [
       "True"
      ]
     },
     "execution_count": 25,
     "metadata": {},
     "output_type": "execute_result"
    }
   ],
   "source": [
    "# print(lis)\n",
    "# for i in lis:\n",
    "#     print(i.text)\n",
    "sliding_check = [i.text for i in lis if 'Sliding Scale' in i.text]\n",
    "if sliding_check != None:\n",
    "    sliding_check = \" \".join(sliding_check)\n",
    "print(sliding_check)\n",
    "'Sliding Scale: Yes' in sliding_check"
   ]
  },
  {
   "cell_type": "code",
   "execution_count": 26,
   "metadata": {},
   "outputs": [
    {
     "data": {
      "text/plain": [
       "1"
      ]
     },
     "execution_count": 26,
     "metadata": {},
     "output_type": "execute_result"
    }
   ],
   "source": [
    "sliding_check = [i.text for i in lis if 'Sliding Scale' in i.text]\n",
    "if sliding_check != None:\n",
    "    sliding_check = \" \".join(sliding_check)\n",
    "    if 'Sliding Scale: Yes' in sliding_check:\n",
    "        sliding = 1\n",
    "    else:\n",
    "        sliding = 0\n",
    "else:\n",
    "    sliding = 0\n",
    "sliding"
   ]
  },
  {
   "cell_type": "code",
   "execution_count": 27,
   "metadata": {
    "collapsed": true
   },
   "outputs": [],
   "source": [
    "sliding_check = [i.text.split(': ')[1].strip() for i in lis if \"Sliding Scale\" in i.text]"
   ]
  },
  {
   "cell_type": "code",
   "execution_count": 28,
   "metadata": {
    "collapsed": true
   },
   "outputs": [],
   "source": [
    "# Grab sliding scale (1 = yes, 0 = no):\n",
    "sliding_check = [i.text.split(': ')[1].strip() for i in lis if \"Sliding Scale\" in i.text]\n",
    "if len(sliding_check) > 0:\n",
    "    sliding = 1\n",
    "else:\n",
    "    sliding = 0"
   ]
  },
  {
   "cell_type": "code",
   "execution_count": 29,
   "metadata": {
    "scrolled": true
   },
   "outputs": [
    {
     "name": "stdout",
     "output_type": "stream",
     "text": [
      "<div class=\"profile-finances\">\n",
      "<h2>Finances</h2>\n",
      "<ul>\n",
      "<li>\n",
      "<strong>Avg Cost (per session):</strong> $100 - $170\n",
      "            </li>\n",
      "<li>\n",
      "<strong>Sliding Scale:</strong> Yes\n",
      "            </li>\n",
      "<li>\n",
      "<strong>Accepts Insurance:</strong> Yes\n",
      "            </li>\n",
      "<li>\n",
      "<strong>Accepted Payment Methods: </strong>\n",
      "                                    Cash,                                     Check                            </li>\n",
      "</ul>\n",
      "<br/><strong>Accepted Insurance Plans</strong>\n",
      "<div class=\"spec-list\">\n",
      "<div class=\"row\">\n",
      "<div class=\"col-xs-12 col-sm-6 col-md-6 col-lg-6 col-tight-right\">\n",
      "<ul>\n",
      "<li>BlueCross and BlueShield</li>\n",
      "<li>EmblemHealth</li>\n",
      "<li>Empire BlueCross</li>\n",
      "<li>GHI</li>\n",
      "<li>MagnaCare</li>\n",
      "</ul>\n",
      "</div>\n",
      "<div class=\"col-xs-12 col-sm-6 col-md-6 col-lg-6 col-tight-right\">\n",
      "<ul>\n",
      "<li>Optum</li>\n",
      "<li>Oxford</li>\n",
      "<li>United Health Care</li>\n",
      "<li>ValueOptions</li>\n",
      "<li>Out of Network</li>\n",
      "</ul>\n",
      "</div>\n",
      "</div>\n",
      "</div>\n",
      "<div class=\"profile-verify-ins\">\n",
      "            Verify your health insurance coverage when you\n",
      "                            <a data-action-url=\"https://therapists.psychologytoday.com/rms/profile/147000/contact\" data-element-target=\"#profileContainer\" data-event-label=\"VerifyInsurance_EmailLink\" data-target=\"#modalContactForm\" data-toggle=\"modal\" href=\"#\" rel=\"nofollow\">arrange your first visit</a>.\n",
      "                    </div>\n",
      "</div>\n"
     ]
    }
   ],
   "source": [
    "# Grabbing financial info:\n",
    "finances = one_therap.find('div', {'class': \"profile-finances\"})\n",
    "print(finances)\n",
    "\n",
    "if finances == None:\n",
    "    per_session = ''\n",
    "    sliding = ''\n",
    "    insurance_yes = ''\n",
    "else:\n",
    "    # Grabbing several financial metrics:\n",
    "    lis = finances.find_all('li')\n",
    "\n",
    "    # Grab cost per session:\n",
    "    persession_check = [i.text.split(': ')[1].strip() for i in lis if \"Avg Cost (per session)\" in i.text]\n",
    "    if len(persession_check) > 0:\n",
    "        per_session = persession_check[0].replace('$', '')\n",
    "        per_session = per_session.replace(' ', '')\n",
    "    else:\n",
    "        per_session = ''\n",
    "\n",
    "    # Grab sliding scale (1 = yes, 0 = no):\n",
    "    sliding_check = [i.text.split(': ')[1].strip() for i in lis if \"Sliding Scale\" in i.text]\n",
    "    if len(sliding_check) > 0:\n",
    "        sliding = 1\n",
    "    else:\n",
    "        sliding = 0\n",
    "    \n",
    "    # Grab Accepts Insurance - yes or no:\n",
    "    insur_check = [i.text.split(': ')[1].strip() for i in lis if \"Accepts Insurance\" in i.text]\n",
    "    if len(insur_check) > 0:\n",
    "        insurance_yes = 1   # insur_check[0]\n",
    "    else:\n",
    "        insurance_yes = 0    # ''\n"
   ]
  },
  {
   "cell_type": "code",
   "execution_count": 30,
   "metadata": {},
   "outputs": [
    {
     "data": {
      "text/plain": [
       "'100-170'"
      ]
     },
     "execution_count": 30,
     "metadata": {},
     "output_type": "execute_result"
    }
   ],
   "source": [
    "per_session"
   ]
  },
  {
   "cell_type": "code",
   "execution_count": 31,
   "metadata": {},
   "outputs": [
    {
     "data": {
      "text/plain": [
       "1"
      ]
     },
     "execution_count": 31,
     "metadata": {},
     "output_type": "execute_result"
    }
   ],
   "source": [
    "sliding"
   ]
  },
  {
   "cell_type": "code",
   "execution_count": 32,
   "metadata": {},
   "outputs": [
    {
     "data": {
      "text/plain": [
       "1"
      ]
     },
     "execution_count": 32,
     "metadata": {},
     "output_type": "execute_result"
    }
   ],
   "source": [
    "insurance_yes"
   ]
  },
  {
   "cell_type": "code",
   "execution_count": 33,
   "metadata": {},
   "outputs": [
    {
     "data": {
      "text/plain": [
       "['\\nAccepted Payment Methods: \\n                                    Cash,                                     Check                            ']"
      ]
     },
     "execution_count": 33,
     "metadata": {},
     "output_type": "execute_result"
    }
   ],
   "source": [
    "payment_check = [i.text for i in lis if \"Accepted Payment Methods\" in i.text]\n",
    "payment_check"
   ]
  },
  {
   "cell_type": "code",
   "execution_count": 34,
   "metadata": {
    "collapsed": true
   },
   "outputs": [],
   "source": [
    "# Grab Methods of Payment:\n",
    "# payment_check = [i.text for i in lis if \"Accepted Payment Methods\" in i.text]\n",
    "payment_check = [i.text.split('\\n')[2].strip().split(',') for i in lis if \"Accepted Payment Methods\" in i.text]\n",
    "if len(payment_check) == 0:\n",
    "    payment_methods = ''\n",
    "else:\n",
    "    payment_methods = [item for sublist in payment_check for item in sublist]\n",
    "    # print(payment_check)\n",
    "    # print(len(payment_check))\n",
    "    for index, item in enumerate(payment_methods):\n",
    "        out = item.strip().lower()\n",
    "        out = out.replace(\" \", \"_\")\n",
    "        payment_methods[index] = out\n",
    "payment_methods = ', '.join(payment_methods)\n",
    "# payment_methods"
   ]
  },
  {
   "cell_type": "code",
   "execution_count": 35,
   "metadata": {},
   "outputs": [
    {
     "data": {
      "text/plain": [
       "'cash, check'"
      ]
     },
     "execution_count": 35,
     "metadata": {},
     "output_type": "execute_result"
    }
   ],
   "source": [
    "payment_methods"
   ]
  },
  {
   "cell_type": "code",
   "execution_count": 71,
   "metadata": {
    "collapsed": true
   },
   "outputs": [],
   "source": [
    "long = one_therap.find_all('div', {'class': \"col-xs-12 col-sm-6 col-md-6 col-lg-6 col-tight-right\"})\n",
    "# long"
   ]
  },
  {
   "cell_type": "code",
   "execution_count": 36,
   "metadata": {},
   "outputs": [
    {
     "data": {
      "text/plain": [
       "'bluecross_and_blueshield, emblemhealth, empire_bluecross, ghi, magnacare, optum, oxford, united_health_care, valueoptions, out_of_network'"
      ]
     },
     "execution_count": 36,
     "metadata": {},
     "output_type": "execute_result"
    }
   ],
   "source": [
    "# Grab Accepted Insurance Plans:\n",
    "\n",
    "long = one_therap.find_all('div', {'class': \"col-xs-12 col-sm-6 col-md-6 col-lg-6 col-tight-right\"})\n",
    "if len(long) > 0:\n",
    "    result = []\n",
    "    for i in long:\n",
    "        result.extend(i.find_all('li'))\n",
    "    plans = []\n",
    "    for i in range(len(result)):\n",
    "        out = result[i].text\n",
    "        out = re.sub(r'\\([^)]*\\)', '', out)\n",
    "        out = out.replace(' ', '_')\n",
    "        out = out.replace('-', '_')\n",
    "        plans.append(out)   # plans.append(result[i].text)\n",
    "    plans = ', '.join(plans).lower()\n",
    "else:\n",
    "    plans = ''\n",
    "plans"
   ]
  },
  {
   "cell_type": "code",
   "execution_count": 38,
   "metadata": {},
   "outputs": [
    {
     "data": {
      "text/plain": [
       "[]"
      ]
     },
     "execution_count": 38,
     "metadata": {},
     "output_type": "execute_result"
    }
   ],
   "source": [
    "spec_check = one_therap.find_all('li', {'class': \"highlight\"})\n",
    "spec_check"
   ]
  },
  {
   "cell_type": "code",
   "execution_count": 40,
   "metadata": {},
   "outputs": [
    {
     "data": {
      "text/plain": [
       "0"
      ]
     },
     "execution_count": 40,
     "metadata": {},
     "output_type": "execute_result"
    }
   ],
   "source": [
    "len(spec_check)"
   ]
  },
  {
   "cell_type": "code",
   "execution_count": 46,
   "metadata": {
    "collapsed": true
   },
   "outputs": [],
   "source": [
    "# Grab specialties:\n",
    "\n",
    "spec_check = one_therap.find_all('li', {'class': \"highlight\"})\n",
    "if len(spec_check) == 0:\n",
    "    specialties = ''\n",
    "else:\n",
    "    specialties = []\n",
    "    for i in range(len(spec_check)):\n",
    "        out = spec_check[i].text.replace(', ', '_')\n",
    "        out = out.replace(' ', '_').lower()\n",
    "        specialties.append(out)\n",
    "    specialties = \", \".join(specialties)"
   ]
  },
  {
   "cell_type": "code",
   "execution_count": 47,
   "metadata": {},
   "outputs": [
    {
     "data": {
      "text/plain": [
       "''"
      ]
     },
     "execution_count": 47,
     "metadata": {},
     "output_type": "execute_result"
    }
   ],
   "source": [
    "specialties"
   ]
  },
  {
   "cell_type": "code",
   "execution_count": 48,
   "metadata": {},
   "outputs": [
    {
     "data": {
      "text/plain": [
       "''"
      ]
     },
     "execution_count": 48,
     "metadata": {},
     "output_type": "execute_result"
    }
   ],
   "source": [
    "# Grab issues:\n",
    "import re\n",
    "issues_check = one_therap.find_all('div', {'class': 'col-xs-12 col-sm-12 col-md-6 col-lg-6'})\n",
    "if len(issues_check) == 0:\n",
    "    issues = ''\n",
    "else:\n",
    "    result = []\n",
    "    for i in issues_check:\n",
    "        result.extend(i.find_all('li'))\n",
    "\n",
    "    issues = []\n",
    "    for i in range(len(result)):\n",
    "        out = result[i].text.strip()\n",
    "        out = re.sub(r'\\([^)]*\\)', '', out)\n",
    "        out = re.sub(r' $', '', out)\n",
    "        out = out.replace(', ', '_')\n",
    "        out = out.replace('-', '_')\n",
    "        out = out.replace('\\'', '')\n",
    "        out = out.replace(' ', '_').lower()\n",
    "        issues.append(out)\n",
    "    issues = \", \".join(issues)\n",
    "issues"
   ]
  },
  {
   "cell_type": "code",
   "execution_count": 49,
   "metadata": {
    "collapsed": true
   },
   "outputs": [],
   "source": [
    "# Grab preferred ages:\n",
    " \n",
    "# In rare cases when no specialties were selected, we need to grab the 3rd, not the 4th element:\n",
    "if specialties == '':\n",
    "    age_check = one_therap.find_all('div', {'class': 'col-xs-12 col-sm-12 col-md-12 col-lg-12'})[2]\n",
    "else:\n",
    "    age_check = one_therap.find_all('div', {'class': 'col-xs-12 col-sm-12 col-md-12 col-lg-12'})[3]\n",
    "len(age_check)\n",
    "age_check\n",
    "\n",
    "age_lis = age_check.find_all('li')\n",
    "\n",
    "ages = []\n",
    "for i in age_lis:\n",
    "    ages.append(i.text)\n",
    "\n",
    "# Creating values for age categories:\n",
    "\n",
    "# Age - toddlers:\n",
    "if \"Toddlers / Preschoolers (0 to 6)\" in ages:\n",
    "    age_toddlers = 1\n",
    "else:\n",
    "    age_toddlers = 0\n",
    "\n",
    "# Age - children:\n",
    "if \"Children (6 to 10)\" in ages:\n",
    "    age_children = 1\n",
    "else:\n",
    "    age_children = 0\n",
    "    \n",
    "# Age - preteens:\n",
    "if \"Preteens / Tweens (11 to 13)\" in ages:\n",
    "    age_preteens = 1\n",
    "else:\n",
    "    age_preteens = 0\n",
    "\n",
    "# Age - teens:\n",
    "if \"Adolescents / Teenagers (14 to 19)\" in ages:\n",
    "    age_teens = 1\n",
    "else:\n",
    "    age_teens = 0\n",
    "\n",
    "# Age - adults:\n",
    "if \"Adults\" in ages:\n",
    "    age_adults = 1\n",
    "else:\n",
    "    age_adults = 0\n",
    "\n",
    "# Age - elders:\n",
    "if \"Elders (65+)\" in ages:\n",
    "    age_elders = 1\n",
    "else:\n",
    "    age_elders = 0\n",
    "agesum = age_toddlers+age_children+age_preteens+age_teens+age_adults+age_elders"
   ]
  },
  {
   "cell_type": "code",
   "execution_count": 50,
   "metadata": {},
   "outputs": [
    {
     "name": "stdout",
     "output_type": "stream",
     "text": [
      "0\n",
      "0\n",
      "0\n",
      "0\n",
      "0\n",
      "0\n"
     ]
    }
   ],
   "source": [
    "print(age_toddlers)\n",
    "print(age_children)\n",
    "print(age_preteens)\n",
    "print(age_teens)\n",
    "print(age_adults)\n",
    "print(age_elders)"
   ]
  },
  {
   "cell_type": "code",
   "execution_count": 51,
   "metadata": {},
   "outputs": [
    {
     "data": {
      "text/plain": [
       "0"
      ]
     },
     "execution_count": 51,
     "metadata": {},
     "output_type": "execute_result"
    }
   ],
   "source": [
    "agesum = age_toddlers+age_children+age_preteens+age_teens+age_adults+age_elders\n",
    "agesum"
   ]
  },
  {
   "cell_type": "code",
   "execution_count": 52,
   "metadata": {},
   "outputs": [
    {
     "name": "stdout",
     "output_type": "stream",
     "text": [
      "0\n"
     ]
    }
   ],
   "source": [
    "# Grab subcategories\n",
    "if specialties == '' and agesum == 0:\n",
    "    subcat_check = one_therap.find_all('div', {'class': 'col-xs-12 col-sm-12 col-md-12 col-lg-12'})[2]\n",
    "elif specialties == '' and agesum > 0:\n",
    "    subcat_check = one_therap.find_all('div', {'class': 'col-xs-12 col-sm-12 col-md-12 col-lg-12'})[3]\n",
    "elif specialties != '' and agesum == 0:\n",
    "    subcat_check = one_therap.find_all('div', {'class': 'col-xs-12 col-sm-12 col-md-12 col-lg-12'})[3]\n",
    "else:\n",
    "    subcat_check = one_therap.find_all('div', {'class': 'col-xs-12 col-sm-12 col-md-12 col-lg-12'})[4]\n",
    "len(subcat_check)\n",
    "subcat_check\n",
    "\n",
    "subcat_lis = subcat_check.find_all('li')\n",
    "\n",
    "subcats = []\n",
    "for i in subcat_lis:\n",
    "    subcats.append(i.text)\n",
    "\n",
    "if \"Aviation Professionals\" in subcats:  # Subcategories - Aviation:\n",
    "    sub_pilots = 1\n",
    "else:\n",
    "    sub_pilots = 0\n",
    "\n",
    "if \"Bisexual Clients\" in subcats:  # Subcategories - HIV:\n",
    "    sub_bisexuals = 1\n",
    "else:\n",
    "    sub_bisexuals = 0\n",
    "\n",
    "if \"Cancer\" in subcats:      # Subcategories - Cancer:\n",
    "    sub_cancer = 1\n",
    "else:\n",
    "    sub_cancer = 0\n",
    "\n",
    "if \"Gay Clients\" in subcats:  # Subcategories - Gays:\n",
    "    sub_gays = 1\n",
    "else:\n",
    "    sub_gays = 0\n",
    "\n",
    "if \"HIV / AIDS Clients\" in subcats:  # Subcategories - HIV:\n",
    "    sub_hiv = 1\n",
    "else:\n",
    "    sub_hiv = 0\n",
    "\n",
    "if \"Heterosexual Clients\" in subcats:  # Subcategories - Heterosexual:\n",
    "    sub_heteros = 1\n",
    "else:\n",
    "    sub_heteros = 0\n",
    "\n",
    "if \"Lesbian Clients\" in subcats:   # Subcategories - Lesbian:\n",
    "    sub_lesbians = 1\n",
    "else:\n",
    "    sub_lesbians = 0\n",
    "\n",
    "if \"Transgender Clients\" in subcats:  # Subcategories - Transgender:\n",
    "    sub_transgender = 1\n",
    "else:\n",
    "    sub_transgender = 0\n",
    "\n",
    "if \"Veterans\" in subcats:   # Subcategories - Veterans:\n",
    "    sub_veterans = 1\n",
    "else:\n",
    "    sub_veterans = 0\n",
    "\n",
    "subsum = sub_pilots+sub_bisexuals+sub_cancer+sub_gays+sub_hiv+sub_heteros+sub_lesbians+sub_transgender+sub_veterans\n",
    "print(subsum)"
   ]
  },
  {
   "cell_type": "code",
   "execution_count": 53,
   "metadata": {
    "scrolled": false
   },
   "outputs": [
    {
     "name": "stdout",
     "output_type": "stream",
     "text": [
      "0\n",
      "0\n",
      "0\n",
      "0\n",
      "0\n",
      "\n",
      "\n",
      "0\n",
      "0\n",
      "0\n",
      "0\n"
     ]
    }
   ],
   "source": [
    "print(sub_pilots)\n",
    "print(sub_bisexuals)\n",
    "print(sub_cancer)\n",
    "print(sub_gays)\n",
    "print(sub_hiv)\n",
    "print('\\n')\n",
    "print(sub_heteros)\n",
    "print(sub_lesbians)\n",
    "print(sub_transgender)\n",
    "print(sub_veterans)"
   ]
  },
  {
   "cell_type": "code",
   "execution_count": 56,
   "metadata": {},
   "outputs": [
    {
     "data": {
      "text/plain": [
       "<div class=\"col-xs-12 col-sm-12 col-md-12 col-lg-12\">\n",
       "<h3>Zips:</h3>\n",
       "<ul>\n",
       "<li>\n",
       "<a class=\"textNoLink\" href=\"https://therapists.psychologytoday.com/rms/zip/10012.html\" title=\"Therapists in 10012\">10012</a>\n",
       "</li>\n",
       "<li>\n",
       "<a class=\"textNoLink\" href=\"https://therapists.psychologytoday.com/rms/zip/10015.html\" title=\"Therapists in 10015\">10015</a>\n",
       "</li>\n",
       "<li>\n",
       "<a class=\"textNoLink\" href=\"https://therapists.psychologytoday.com/rms/zip/10016.html\" title=\"Therapists in 10016 (Kips Bay, Murray Hill)\">10016 (Kips Bay, Murray Hill)</a>\n",
       "</li>\n",
       "</ul>\n",
       "</div>"
      ]
     },
     "execution_count": 56,
     "metadata": {},
     "output_type": "execute_result"
    }
   ],
   "source": [
    "approach_check = one_therap.find_all('div', {'class': 'col-xs-12 col-sm-12 col-md-12 col-lg-12'})\n",
    "approach_check[0]"
   ]
  },
  {
   "cell_type": "code",
   "execution_count": 76,
   "metadata": {},
   "outputs": [
    {
     "name": "stdout",
     "output_type": "stream",
     "text": [
      "['\\nPsychiatrist, \\nMD\\n', '\\nPsychiatrist, \\nMD\\n', 'Location', 'Nearby Areas', 'Qualifications', 'Additional Credentials', 'Location', 'Nearby Areas', 'Specialties', 'Client Focus', 'Nearby Areas', '\\nPsychiatrist, \\nMD\\n']\n"
     ]
    },
    {
     "data": {
      "text/plain": [
       "False"
      ]
     },
     "execution_count": 76,
     "metadata": {},
     "output_type": "execute_result"
    }
   ],
   "source": [
    "approach_check = one_therap.find_all('h2')\n",
    "asalist = []\n",
    "count = 1\n",
    "for i in approach_check:\n",
    "    try:\n",
    "        out = i.text\n",
    "    except:\n",
    "        print(\"some error\")\n",
    "    asalist.append(out)\n",
    "print(asalist)\n",
    "'Treatment Approach' in asalist"
   ]
  },
  {
   "cell_type": "code",
   "execution_count": null,
   "metadata": {
    "collapsed": true
   },
   "outputs": [],
   "source": []
  },
  {
   "cell_type": "code",
   "execution_count": 43,
   "metadata": {},
   "outputs": [
    {
     "name": "stdout",
     "output_type": "stream",
     "text": [
      "1\n",
      "approach_eclectic\n"
     ]
    }
   ],
   "source": [
    "# Grab treatment approaches:\n",
    "age_and_sub_sum = agesum + subsum\n",
    "print(age_and_sub_sum)\n",
    "approach_check = one_therap.find_all('div', {'class': 'col-xs-12 col-sm-12 col-md-12 col-lg-12'})\n",
    "if specialties == '' and age_and_sub_sum == 0:           # if all 3 are not there\n",
    "    approach_check = approach_check[2]\n",
    "elif specialties != '' and age_and_sub_sum == 0:         # if only 2 out of 3 are not there\n",
    "    approach_check = approach_check[3]\n",
    "elif specialties == '' and agesum == 0 and subsum > 0:\n",
    "    approach_check = approach_check[3]\n",
    "elif specialties == '' and agesum > 0 and subsum == 0:\n",
    "    approach_check = approach_check[3]\n",
    "elif specialties != '' and agesum == 0  and subsum > 0:  # if only 1 out of 3 is not there\n",
    "    approach_check = approach_check[4]\n",
    "elif specialties != '' and agesum > 0  and subsum == 0:\n",
    "    approach_check = approach_check[4]\n",
    "elif specialties == '' and agesum > 0  and subsum > 0:\n",
    "    approach_check = approach_check[4]\n",
    "else:\n",
    "    approach_check = approach_check[5]\n",
    "\n",
    "approach_lis = approach_check.find_all('li')\n",
    "\n",
    "approaches = []\n",
    "for i in approach_lis:\n",
    "    approaches.append(i.text)\n",
    "\n",
    "for i in range(len(approaches)):\n",
    "    out = approaches[i]\n",
    "    out = out.replace(' / ', '_')\n",
    "    out = re.sub(r'\\([^)]*\\)', '', out)\n",
    "    out = re.sub(r' $', '', out)\n",
    "    out = out.strip().replace('-', '_')\n",
    "    out = out.replace('/', '')\n",
    "    out = out.replace('\\'', '')\n",
    "    out = out.replace(' ', '_').lower()\n",
    "    out = 'approach_' + out\n",
    "    approaches[i] = out\n",
    "approaches = ', '.join(approaches)\n",
    "print(approaches)"
   ]
  },
  {
   "cell_type": "code",
   "execution_count": 75,
   "metadata": {},
   "outputs": [
    {
     "data": {
      "text/plain": [
       "'https://therapists.psychologytoday.com/rms/prof_detail.php?profid=182958&rec_next=21&ref=8&sid=1508249435.4562_29222&zipcode=10012&tr=ResultsName'"
      ]
     },
     "execution_count": 75,
     "metadata": {},
     "output_type": "execute_result"
    }
   ],
   "source": [
    "# For a single therapist, parse his/her page:\n",
    "ter = 1\n",
    "# temp = therapist_urls[ter]\n",
    "# temp = 'https://therapists.psychologytoday.com/rms/prof_detail.php?profid=239688&ref=5&sid=1508208616.6699_11157&zipcode=07670&tr=ResultsName'\n",
    "temp = 'https://therapists.psychologytoday.com/rms/prof_detail.php?profid=143075&ref=7&sid=1508208616.6699_11157&zipcode=07670&tr=ResultsPhoto'\n",
    "temp = 'https://therapists.psychologytoday.com/rms/prof_detail.php?profid=57208&ref=12&sid=1508208616.6699_11157&zipcode=07670&tr=ResultsPhoto'\n",
    "temp = 'https://therapists.psychologytoday.com/rms/prof_detail.php?profid=110966&ref=14&sid=1508208616.6699_11157&zipcode=07670&tr=ResultsName'\n",
    "temp = 'https://therapists.psychologytoday.com/rms/prof_detail.php?profid=264862&ref=2&sid=1508208616.6699_11157&zipcode=07670&tr=ResultsPhoto'\n",
    "temp = 'https://therapists.psychologytoday.com/rms/prof_detail.php?profid=268880&ref=16&sid=1508208616.6699_11157&zipcode=07670&tr=ResultsPhoto'\n",
    "temp = 'https://therapists.psychologytoday.com/rms/prof_detail.php?profid=328027&rec_next=21&ref=9&sid=1508208616.6699_11157&zipcode=07670&tr=ResultsPhoto'\n",
    "temp = 'https://therapists.psychologytoday.com/rms/prof_detail.php?profid=132006&search=10012&ref=1&sid=1508260598.8676_22538&zipcode=10012&tr=ResultsName'\n",
    "temp = 'https://therapists.psychologytoday.com/rms/prof_detail.php?profid=182958&rec_next=21&ref=8&sid=1508249435.4562_29222&zipcode=10012&tr=ResultsName'\n",
    "response_one = requests.get(temp, headers=headers).text\n",
    "one_therap = BeautifulSoup(response_one, 'html.parser')\n",
    "# therapist_urls[ter]\n",
    "temp\n"
   ]
  },
  {
   "cell_type": "code",
   "execution_count": 54,
   "metadata": {},
   "outputs": [
    {
     "data": {
      "text/plain": [
       "[]"
      ]
     },
     "execution_count": 54,
     "metadata": {},
     "output_type": "execute_result"
    }
   ],
   "source": [
    "# grab additional languages\n",
    "spec_subcat = one_therap.find_all('div', {'class': \"spec-subcat\"})\n",
    "spec_subcat"
   ]
  },
  {
   "cell_type": "code",
   "execution_count": 46,
   "metadata": {
    "collapsed": true,
    "scrolled": true
   },
   "outputs": [],
   "source": [
    "# grab additional languages\n",
    "spec_subcat = one_therap.find_all('div', {'class': \"spec-subcat\"})\n",
    "list_of_children = [None] * len(spec_subcat)\n",
    "for i in range(len(spec_subcat)):\n",
    "    list_of_children[i] = spec_subcat[i].findChildren()"
   ]
  },
  {
   "cell_type": "code",
   "execution_count": 47,
   "metadata": {
    "collapsed": true
   },
   "outputs": [],
   "source": [
    "# grab additional languages\n",
    "spec_subcat = one_therap.find_all('div', {'class': \"spec-subcat\"})\n",
    "list_of_children = [None] * len(spec_subcat)\n",
    "for i in range(len(spec_subcat)):\n",
    "    list_of_children[i] = spec_subcat[i].findChildren()\n",
    "whatsthere = []\n",
    "for i in range(len(list_of_children)):\n",
    "    for z in range(len(list_of_children[i])):\n",
    "        for t in [text for text in list_of_children[i][z].stripped_strings]:\n",
    "            whatsthere.append(t)\n",
    "for i in range(len(whatsthere)):\n",
    "    whatsthere[i] = whatsthere[i].replace(',', '')\n"
   ]
  },
  {
   "cell_type": "code",
   "execution_count": 48,
   "metadata": {
    "collapsed": true
   },
   "outputs": [],
   "source": [
    "# Grab ethnicities, languages, religious orientation:\n",
    "spec_subcat = one_therap.find_all('div', {'class': \"spec-subcat\"})\n",
    "list_of_children = [None] * len(spec_subcat)\n",
    "for i in range(len(spec_subcat)):\n",
    "    list_of_children[i] = spec_subcat[i].findChildren()\n",
    "whatsthere = []\n",
    "for i in range(len(list_of_children)):\n",
    "    for z in range(len(list_of_children[i])):\n",
    "        for t in [text for text in list_of_children[i][z].stripped_strings]:\n",
    "            whatsthere.append(t)\n",
    "for i in range(len(whatsthere)):\n",
    "    whatsthere[i] = whatsthere[i].replace(',', '')\n",
    "\n",
    "# Finding indexes for Ethnicity, Languages, and Religious Orientation:\n",
    "if one_therap.find_all(\"strong\", string=\"Ethnicity:\") == []:\n",
    "    ethnicities = ''\n",
    "    index_ethnic = ''\n",
    "else:\n",
    "    index_ethnic = whatsthere.index(\"Ethnicity:\")\n",
    "\n",
    "if one_therap.find_all(\"strong\", string=\"Alternative Languages:\") == []:\n",
    "    languages = ''\n",
    "    index_languages = ''\n",
    "else:\n",
    "    index_languages = whatsthere.index(\"Alternative Languages:\")\n",
    "index_languages\n",
    "if one_therap.find_all(\"strong\", string=\"Religious Orientation:\") == []:\n",
    "    religion = ''\n",
    "    index_religion = ''\n",
    "else:\n",
    "    index_religion = whatsthere.index(\"Religious Orientation:\")\n",
    "\n",
    "# Grabbing applicable info - depending on what's there and what's not:\n",
    "if index_ethnic != '' and index_languages != '' and index_religion != '':  # if all 3 are present\n",
    "    ethnicities = whatsthere[(index_ethnic+1):index_languages]\n",
    "    languages = whatsthere[(index_languages+1):index_religion]\n",
    "    religion = whatsthere[(index_religion+1):len(whatsthere)]\n",
    "\n",
    "if index_ethnic == '' and index_languages != '' and index_religion != '':   # if only languages and religion present\n",
    "    languages = whatsthere[(index_languages+1):index_religion]\n",
    "    religion = whatsthere[(index_religion+1):len(whatsthere)]\n",
    "\n",
    "if index_ethnic != '' and index_languages == '' and index_religion != '':   # if only ethnicities and religion present\n",
    "    ethnicities = whatsthere[(index_ethnicities+1):index_religion]\n",
    "    religion = whatsthere[(index_religion+1):len(whatsthere)]\n",
    "\n",
    "if index_ethnic != '' and index_languages != '' and index_religion == '':   # if only ethnicities and languages present\n",
    "    ethnicities = whatsthere[(index_ethnicities+1):index_languages]\n",
    "    languages = whatsthere[(index_languages+1):len(whatsthere)]\n",
    "\n",
    "if index_ethnic != '' and index_languages == '' and index_religion != '':   # if only ethnicities and religion present\n",
    "    ethnicities = whatsthere[(index_ethnicities+1):index_religion]\n",
    "    religion = whatsthere[(index_religion+1):len(whatsthere)]\n",
    "\n",
    "if index_ethnic != '' and index_languages == '' and index_religion == '':   # if only ethnicities present\n",
    "    ethnicities = whatsthere[(index_ethnicities+1):len(whatsthere)]\n",
    "\n",
    "if index_ethnic == '' and index_languages != '' and index_religion == '':   # if only languages present\n",
    "    languages = whatsthere[(index_languages+1):len(whatsthere)]\n",
    "\n",
    "if index_ethnic == '' and index_languages == '' and index_religion != '':   # if only religion present\n",
    "    religion = whatsthere[(index_religion+1):len(whatsthere)]\n",
    "\n",
    "ethnicities = \", \".join(ethnicities)\n",
    "languages = \", \".join(languages)\n",
    "religion = \", \".join(religion)"
   ]
  },
  {
   "cell_type": "code",
   "execution_count": 49,
   "metadata": {},
   "outputs": [
    {
     "name": "stdout",
     "output_type": "stream",
     "text": [
      "\n",
      "Hebrew\n",
      "Jewish\n"
     ]
    }
   ],
   "source": [
    "print(ethnicities)\n",
    "print(languages)\n",
    "print(religion)"
   ]
  },
  {
   "cell_type": "code",
   "execution_count": 197,
   "metadata": {},
   "outputs": [
    {
     "name": "stdout",
     "output_type": "stream",
     "text": [
      "[<strong>Ethnicity:</strong>, <span>African-American, </span>, <span>Hispanic and Latino</span>]\n",
      "<strong>Ethnicity:</strong>\n",
      "['Ethnicity:']\n"
     ]
    }
   ],
   "source": [
    "i = list_of_children[0]\n",
    "print(i)\n",
    "z = i[0]\n",
    "print(z)\n",
    "mytext = [text for text in z.stripped_strings]\n",
    "print(mytext)"
   ]
  },
  {
   "cell_type": "code",
   "execution_count": 201,
   "metadata": {},
   "outputs": [
    {
     "name": "stdout",
     "output_type": "stream",
     "text": [
      "[<strong>Ethnicity:</strong>, <span>African-American, </span>, <span>Hispanic and Latino</span>]\n",
      "==========\n",
      "<strong>Ethnicity:</strong>\n",
      "*****\n"
     ]
    },
    {
     "ename": "AttributeError",
     "evalue": "'NoneType' object has no attribute 'strings'",
     "output_type": "error",
     "traceback": [
      "\u001b[1;31m---------------------------------------------------------------------------\u001b[0m",
      "\u001b[1;31mAttributeError\u001b[0m                            Traceback (most recent call last)",
      "\u001b[1;32m<ipython-input-201-ca5e9a48a217>\u001b[0m in \u001b[0;36m<module>\u001b[1;34m()\u001b[0m\n\u001b[0;32m      6\u001b[0m         \u001b[0mprint\u001b[0m\u001b[1;33m(\u001b[0m\u001b[0mz\u001b[0m\u001b[1;33m)\u001b[0m\u001b[1;33m\u001b[0m\u001b[0m\n\u001b[0;32m      7\u001b[0m         \u001b[0mprint\u001b[0m\u001b[1;33m(\u001b[0m\u001b[1;34m'*'\u001b[0m\u001b[1;33m*\u001b[0m\u001b[1;36m5\u001b[0m\u001b[1;33m)\u001b[0m\u001b[1;33m\u001b[0m\u001b[0m\n\u001b[1;32m----> 8\u001b[1;33m         \u001b[0mmytext\u001b[0m \u001b[1;33m=\u001b[0m \u001b[1;33m[\u001b[0m\u001b[0mtext\u001b[0m \u001b[1;32mfor\u001b[0m \u001b[0mtext\u001b[0m \u001b[1;32min\u001b[0m \u001b[0mz\u001b[0m\u001b[1;33m.\u001b[0m\u001b[0mstripped\u001b[0m\u001b[1;33m.\u001b[0m\u001b[0mstrings\u001b[0m\u001b[1;33m]\u001b[0m\u001b[1;33m\u001b[0m\u001b[0m\n\u001b[0m\u001b[0;32m      9\u001b[0m         \u001b[1;31m# print(words)\u001b[0m\u001b[1;33m\u001b[0m\u001b[1;33m\u001b[0m\u001b[0m\n",
      "\u001b[1;31mAttributeError\u001b[0m: 'NoneType' object has no attribute 'strings'"
     ]
    }
   ],
   "source": [
    "strongs = []\n",
    "for i in list_of_children:\n",
    "    print(i)\n",
    "    print('='*10)\n",
    "    for z in i:\n",
    "        print(z)\n",
    "        print('*'*5)\n",
    "        mytext = [text for text in z.stripped.strings]\n",
    "        # print(words)"
   ]
  },
  {
   "cell_type": "code",
   "execution_count": 122,
   "metadata": {},
   "outputs": [
    {
     "ename": "AttributeError",
     "evalue": "ResultSet object has no attribute 'find'. You're probably treating a list of items like a single item. Did you call find_all() when you meant to call find()?",
     "output_type": "error",
     "traceback": [
      "\u001b[1;31m---------------------------------------------------------------------------\u001b[0m",
      "\u001b[1;31mAttributeError\u001b[0m                            Traceback (most recent call last)",
      "\u001b[1;32m<ipython-input-122-b422abc72225>\u001b[0m in \u001b[0;36m<module>\u001b[1;34m()\u001b[0m\n\u001b[0;32m      1\u001b[0m \u001b[0mlist_of_strongs\u001b[0m \u001b[1;33m=\u001b[0m \u001b[1;33m[\u001b[0m\u001b[1;32mNone\u001b[0m\u001b[1;33m]\u001b[0m \u001b[1;33m*\u001b[0m \u001b[0mlen\u001b[0m\u001b[1;33m(\u001b[0m\u001b[0mlist_of_children\u001b[0m\u001b[1;33m)\u001b[0m\u001b[1;33m\u001b[0m\u001b[0m\n\u001b[0;32m      2\u001b[0m \u001b[1;32mfor\u001b[0m \u001b[0mi\u001b[0m \u001b[1;32min\u001b[0m \u001b[0mrange\u001b[0m\u001b[1;33m(\u001b[0m\u001b[1;36m0\u001b[0m\u001b[1;33m,\u001b[0m \u001b[0mlen\u001b[0m\u001b[1;33m(\u001b[0m\u001b[0mlist_of_children\u001b[0m\u001b[1;33m)\u001b[0m\u001b[1;33m)\u001b[0m\u001b[1;33m:\u001b[0m\u001b[1;33m\u001b[0m\u001b[0m\n\u001b[1;32m----> 3\u001b[1;33m     \u001b[0mlist_of_strongs\u001b[0m\u001b[1;33m[\u001b[0m\u001b[0mi\u001b[0m\u001b[1;33m]\u001b[0m \u001b[1;33m=\u001b[0m \u001b[0mlist_of_children\u001b[0m\u001b[1;33m[\u001b[0m\u001b[0mi\u001b[0m\u001b[1;33m]\u001b[0m\u001b[1;33m.\u001b[0m\u001b[0mfind\u001b[0m\u001b[1;33m(\u001b[0m\u001b[1;34m'strong'\u001b[0m\u001b[1;33m)\u001b[0m\u001b[1;33m\u001b[0m\u001b[0m\n\u001b[0m",
      "\u001b[1;32mC:\\Anaconda\\lib\\site-packages\\bs4\\element.py\u001b[0m in \u001b[0;36m__getattr__\u001b[1;34m(self, key)\u001b[0m\n\u001b[0;32m   1805\u001b[0m     \u001b[1;32mdef\u001b[0m \u001b[0m__getattr__\u001b[0m\u001b[1;33m(\u001b[0m\u001b[0mself\u001b[0m\u001b[1;33m,\u001b[0m \u001b[0mkey\u001b[0m\u001b[1;33m)\u001b[0m\u001b[1;33m:\u001b[0m\u001b[1;33m\u001b[0m\u001b[0m\n\u001b[0;32m   1806\u001b[0m         raise AttributeError(\n\u001b[1;32m-> 1807\u001b[1;33m             \u001b[1;34m\"ResultSet object has no attribute '%s'. You're probably treating a list of items like a single item. Did you call find_all() when you meant to call find()?\"\u001b[0m \u001b[1;33m%\u001b[0m \u001b[0mkey\u001b[0m\u001b[1;33m\u001b[0m\u001b[0m\n\u001b[0m\u001b[0;32m   1808\u001b[0m         )\n",
      "\u001b[1;31mAttributeError\u001b[0m: ResultSet object has no attribute 'find'. You're probably treating a list of items like a single item. Did you call find_all() when you meant to call find()?"
     ]
    }
   ],
   "source": [
    "list_of_strongs = [None] * len(list_of_children)\n",
    "for i in range(0, len(list_of_children)):\n",
    "    list_of_strongs[i] = list_of_children[i].find('strong')"
   ]
  },
  {
   "cell_type": "code",
   "execution_count": 121,
   "metadata": {},
   "outputs": [
    {
     "data": {
      "text/plain": [
       "3"
      ]
     },
     "execution_count": 121,
     "metadata": {},
     "output_type": "execute_result"
    }
   ],
   "source": [
    "len(list_of_children[0])"
   ]
  },
  {
   "cell_type": "code",
   "execution_count": 114,
   "metadata": {},
   "outputs": [
    {
     "data": {
      "text/plain": [
       "bs4.element.ResultSet"
      ]
     },
     "execution_count": 114,
     "metadata": {},
     "output_type": "execute_result"
    }
   ],
   "source": [
    "type(list_of_children[0])"
   ]
  },
  {
   "cell_type": "code",
   "execution_count": 90,
   "metadata": {},
   "outputs": [
    {
     "ename": "IndexError",
     "evalue": "list assignment index out of range",
     "output_type": "error",
     "traceback": [
      "\u001b[1;31m---------------------------------------------------------------------------\u001b[0m",
      "\u001b[1;31mIndexError\u001b[0m                                Traceback (most recent call last)",
      "\u001b[1;32m<ipython-input-90-645a81478b7f>\u001b[0m in \u001b[0;36m<module>\u001b[1;34m()\u001b[0m\n\u001b[0;32m      1\u001b[0m \u001b[0mout\u001b[0m \u001b[1;33m=\u001b[0m \u001b[1;33m[\u001b[0m\u001b[1;33m]\u001b[0m\u001b[1;33m\u001b[0m\u001b[0m\n\u001b[0;32m      2\u001b[0m \u001b[1;32mfor\u001b[0m \u001b[0mi\u001b[0m \u001b[1;32min\u001b[0m \u001b[0mrange\u001b[0m\u001b[1;33m(\u001b[0m\u001b[1;36m0\u001b[0m\u001b[1;33m,\u001b[0m \u001b[0mlen\u001b[0m\u001b[1;33m(\u001b[0m\u001b[0mspec_subcat\u001b[0m\u001b[1;33m)\u001b[0m\u001b[1;33m)\u001b[0m\u001b[1;33m:\u001b[0m\u001b[1;33m\u001b[0m\u001b[0m\n\u001b[1;32m----> 3\u001b[1;33m     \u001b[0mout\u001b[0m\u001b[1;33m[\u001b[0m\u001b[0mi\u001b[0m\u001b[1;33m]\u001b[0m \u001b[1;33m=\u001b[0m \u001b[0mspec_subcat\u001b[0m\u001b[1;33m[\u001b[0m\u001b[0mi\u001b[0m\u001b[1;33m]\u001b[0m\u001b[1;33m.\u001b[0m\u001b[0mfind\u001b[0m\u001b[1;33m(\u001b[0m\u001b[1;34m'span'\u001b[0m\u001b[1;33m)\u001b[0m\u001b[1;33m\u001b[0m\u001b[0m\n\u001b[0m",
      "\u001b[1;31mIndexError\u001b[0m: list assignment index out of range"
     ]
    }
   ],
   "source": [
    "out = []\n",
    "for i in range(0, len(spec_subcat)):\n",
    "    out[i] = spec_subcat[i].find('span')"
   ]
  },
  {
   "cell_type": "code",
   "execution_count": 95,
   "metadata": {},
   "outputs": [
    {
     "data": {
      "text/plain": [
       "'Spanish'"
      ]
     },
     "execution_count": 95,
     "metadata": {},
     "output_type": "execute_result"
    }
   ],
   "source": [
    "spec_subcat[1].find('span').text"
   ]
  },
  {
   "cell_type": "code",
   "execution_count": 57,
   "metadata": {},
   "outputs": [
    {
     "ename": "SyntaxError",
     "evalue": "unexpected EOF while parsing (<ipython-input-57-bb8d2efcdf57>, line 6)",
     "output_type": "error",
     "traceback": [
      "\u001b[1;36m  File \u001b[1;32m\"<ipython-input-57-bb8d2efcdf57>\"\u001b[1;36m, line \u001b[1;32m6\u001b[0m\n\u001b[1;33m    print(i.tex\u001b[0m\n\u001b[1;37m               ^\u001b[0m\n\u001b[1;31mSyntaxError\u001b[0m\u001b[1;31m:\u001b[0m unexpected EOF while parsing\n"
     ]
    }
   ],
   "source": [
    "# grab modality\n",
    "all_lis = one_therap.find_all('li')\n",
    "all_lis[0]\n",
    "# texts = []\n",
    "for i in all_lis:\n",
    "    print(i.tex"
   ]
  },
  {
   "cell_type": "code",
   "execution_count": 1131,
   "metadata": {},
   "outputs": [
    {
     "data": {
      "text/plain": [
       "[<li><a href=\"https://therapists.psychologytoday.com/rms/?tr=Header_Menu2\" title=\"Find Therapists\">Therapists</a></li>,\n",
       " <li><a href=\"https://psychiatrists.psychologytoday.com/rms/?tr=Header_Menu2\" title=\"Find Psychiatrists\">Psychiatrists</a></li>,\n",
       " <li><a href=\"https://groups.psychologytoday.com/rms/?tr=Header_Menu2\" title=\"Find Support Groups\">Support Groups</a></li>,\n",
       " <li><a href=\"https://treatment.psychologytoday.com/rms/?tr=Header_Menu2\" title=\"Find Treatment Centers\">Treatment Centers</a></li>,\n",
       " <li><br/><a href=\"https://member.psychologytoday.com/rms-sec/\">Log In</a></li>,\n",
       " <li><a href=\"https://member.psychologytoday.com/therapist/?src=RMSLOG\">Sign Up</a></li>,\n",
       " <li>\n",
       " <a class=\"active\" href=\"https://therapists.psychologytoday.com/rms/prof_detail.php?profid=94804&amp;p=1&amp;sid=1507757611.7036_14284&amp;zipcode=07670&amp;rec_next=1&amp;ref=4\" title=\"About\">About</a>\n",
       " </li>,\n",
       " <li>\n",
       " <a href=\"https://therapists.psychologytoday.com/rms/prof_detail.php?profid=94804&amp;p=5&amp;sid=1507757611.7036_14284&amp;zipcode=07670&amp;rec_next=1&amp;ref=4\" title=\"Groups\">Groups</a>\n",
       " </li>,\n",
       " <li>\n",
       " <a class=\"textNoLink\" href=\"https://therapists.psychologytoday.com/rms/state/NJ/Bergenfield.html\" title=\"Therapists in Bergenfield, NJ\">Bergenfield, NJ</a>\n",
       " </li>,\n",
       " <li>\n",
       " <a class=\"textNoLink\" href=\"https://therapists.psychologytoday.com/rms/state/NJ/Englewood.html\" title=\"Therapists in Englewood, NJ\">Englewood, NJ</a>\n",
       " </li>,\n",
       " <li>\n",
       " <a class=\"textNoLink\" href=\"https://therapists.psychologytoday.com/rms/state/NJ/Tenafly.html\" title=\"Therapists in Tenafly, NJ\">Tenafly, NJ</a>\n",
       " </li>,\n",
       " <li>\n",
       " <a class=\"textNoLink\" href=\"https://therapists.psychologytoday.com/rms/county/NJ/Bergen.html\" title=\"Therapists in Bergen County, NJ\">Bergen</a>\n",
       " </li>,\n",
       " <li>\n",
       " <a class=\"textNoLink\" href=\"https://therapists.psychologytoday.com/rms/zip/07621.html\" title=\"Therapists in 07621\">07621</a>\n",
       " </li>,\n",
       " <li>\n",
       " <a class=\"textNoLink\" href=\"https://therapists.psychologytoday.com/rms/zip/07631.html\" title=\"Therapists in 07631\">07631</a>\n",
       " </li>,\n",
       " <li>\n",
       " <a class=\"textNoLink\" href=\"https://therapists.psychologytoday.com/rms/zip/07670.html\" title=\"Therapists in 07670\">07670</a>\n",
       " </li>,\n",
       " <li>\n",
       " <strong>Years in Practice:</strong>\n",
       "             20+ Years\n",
       "         </li>,\n",
       " <li>\n",
       " <strong>License No. and State:</strong>\n",
       "             37PC00066600 New Jersey\n",
       "         </li>,\n",
       " <li>\n",
       " <strong>Avg Cost (per session):</strong> $160+ \n",
       "             </li>,\n",
       " <li>\n",
       " <strong>Sliding Scale:</strong> Yes\n",
       "             </li>,\n",
       " <li>\n",
       " <strong>Accepted Payment Methods: </strong>\n",
       "                                     Cash,                                     Check                            </li>,\n",
       " <li>Out of Network</li>,\n",
       " <li><strong>Certificate:</strong> Eye Movement Desentization and Reprocessing</li>,\n",
       " <li>\n",
       " <a class=\"textNoLink\" href=\"https://therapists.psychologytoday.com/rms/state/NJ/Bergenfield.html\" title=\"Therapists in Bergenfield, NJ\">Bergenfield, NJ</a>\n",
       " </li>,\n",
       " <li>\n",
       " <a class=\"textNoLink\" href=\"https://therapists.psychologytoday.com/rms/state/NJ/Englewood.html\" title=\"Therapists in Englewood, NJ\">Englewood, NJ</a>\n",
       " </li>,\n",
       " <li>\n",
       " <a class=\"textNoLink\" href=\"https://therapists.psychologytoday.com/rms/state/NJ/Tenafly.html\" title=\"Therapists in Tenafly, NJ\">Tenafly, NJ</a>\n",
       " </li>,\n",
       " <li>\n",
       " <a class=\"textNoLink\" href=\"https://therapists.psychologytoday.com/rms/county/NJ/Bergen.html\" title=\"Therapists in Bergen County, NJ\">Bergen</a>\n",
       " </li>,\n",
       " <li>\n",
       " <a class=\"textNoLink\" href=\"https://therapists.psychologytoday.com/rms/zip/07621.html\" title=\"Therapists in 07621\">07621</a>\n",
       " </li>,\n",
       " <li>\n",
       " <a class=\"textNoLink\" href=\"https://therapists.psychologytoday.com/rms/zip/07631.html\" title=\"Therapists in 07631\">07631</a>\n",
       " </li>,\n",
       " <li>\n",
       " <a class=\"textNoLink\" href=\"https://therapists.psychologytoday.com/rms/zip/07670.html\" title=\"Therapists in 07670\">07670</a>\n",
       " </li>,\n",
       " <li class=\"highlight\">Trauma and PTSD</li>,\n",
       " <li class=\"highlight\">Grief</li>,\n",
       " <li class=\"highlight\">Emotional Disturbance</li>,\n",
       " <li>Adoption</li>,\n",
       " <li>Anxiety</li>,\n",
       " <li>Behavioral Issues</li>,\n",
       " <li>Bipolar Disorder</li>,\n",
       " <li>Borderline Personality</li>,\n",
       " <li>Chronic Pain</li>,\n",
       " <li>Codependency</li>,\n",
       " <li>Coping Skills</li>,\n",
       " <li>Depression</li>,\n",
       " <li>Divorce</li>,\n",
       " <li>Domestic Abuse</li>,\n",
       " <li>Eating Disorders</li>,\n",
       " <li>Family Conflict</li>,\n",
       " <li>Narcissistic Personality</li>,\n",
       " <li>Obsessive-Compulsive (OCD)</li>,\n",
       " <li>Parenting</li>,\n",
       " <li>Peer Relationships</li>,\n",
       " <li>Relationship Issues</li>,\n",
       " <li>Self Esteem</li>,\n",
       " <li>Self-Harming</li>,\n",
       " <li>Sexual Abuse</li>,\n",
       " <li>Sleep or Insomnia</li>,\n",
       " <li>Spirituality</li>,\n",
       " <li>Suicidal Ideation</li>,\n",
       " <li>Transgender</li>,\n",
       " <li>Weight Loss</li>,\n",
       " <li>Dissociative Disorders</li>,\n",
       " <li>Mood Disorders</li>,\n",
       " <li>Personality Disorders</li>,\n",
       " <li>Bisexual</li>,\n",
       " <li>Gay</li>,\n",
       " <li>Lesbian</li>,\n",
       " <li>Adolescents / Teenagers (14 to 19)</li>,\n",
       " <li>Adults</li>,\n",
       " <li>Elders (65+)</li>,\n",
       " <li>Bisexual Clients</li>,\n",
       " <li>Cancer</li>,\n",
       " <li>Gay Clients</li>,\n",
       " <li>HIV / AIDS Clients</li>,\n",
       " <li>Heterosexual Clients</li>,\n",
       " <li>Transgender Clients</li>,\n",
       " <li>Veterans</li>,\n",
       " <li><span data-glossary-id=\"580\" data-ui-type=\"glossary\">Attachment-based</span></li>,\n",
       " <li><span data-glossary-id=\"50\" data-ui-type=\"glossary\">Cognitive Behavioral (CBT)</span></li>,\n",
       " <li><span data-glossary-id=\"19\" data-ui-type=\"glossary\">EMDR</span></li>,\n",
       " <li><span data-glossary-id=\"51\" data-ui-type=\"glossary\">Eclectic</span></li>,\n",
       " <li><span data-glossary-id=\"54\" data-ui-type=\"glossary\">Family / Marital</span></li>,\n",
       " <li><span data-glossary-id=\"21\" data-ui-type=\"glossary\">Humanistic</span></li>,\n",
       " <li><span data-glossary-id=\"96\" data-ui-type=\"glossary\">Hypnotherapy</span></li>,\n",
       " <li><span data-glossary-id=\"585\" data-ui-type=\"glossary\">Integrative</span></li>,\n",
       " <li><span data-glossary-id=\"97\" data-ui-type=\"glossary\">Mindfulness-based (MBCT)</span></li>,\n",
       " <li><span data-glossary-id=\"22\" data-ui-type=\"glossary\">Psychoanalytic</span></li>,\n",
       " <li><span data-glossary-id=\"23\" data-ui-type=\"glossary\">Psychodynamic</span></li>,\n",
       " <li><span data-glossary-id=\"98\" data-ui-type=\"glossary\">Relational</span></li>,\n",
       " <li><span data-glossary-id=\"579\" data-ui-type=\"glossary\">Somatic</span></li>,\n",
       " <li><span data-glossary-id=\"25\" data-ui-type=\"glossary\">Transpersonal</span></li>,\n",
       " <li><span data-glossary-id=\"581\" data-ui-type=\"glossary\">Trauma Focused</span></li>,\n",
       " <li>Individuals</li>,\n",
       " <li>Couples</li>,\n",
       " <li>Family</li>,\n",
       " <li>\n",
       " <a class=\"textNoLink\" href=\"https://therapists.psychologytoday.com/rms/state/NJ/Bergenfield.html\" title=\"Therapists in Bergenfield, NJ\">Bergenfield, NJ</a>\n",
       " </li>,\n",
       " <li>\n",
       " <a class=\"textNoLink\" href=\"https://therapists.psychologytoday.com/rms/state/NJ/Englewood.html\" title=\"Therapists in Englewood, NJ\">Englewood, NJ</a>\n",
       " </li>,\n",
       " <li>\n",
       " <a class=\"textNoLink\" href=\"https://therapists.psychologytoday.com/rms/state/NJ/Tenafly.html\" title=\"Therapists in Tenafly, NJ\">Tenafly, NJ</a>\n",
       " </li>,\n",
       " <li>\n",
       " <a class=\"textNoLink\" href=\"https://therapists.psychologytoday.com/rms/county/NJ/Bergen.html\" title=\"Therapists in Bergen County, NJ\">Bergen</a>\n",
       " </li>,\n",
       " <li>\n",
       " <a class=\"textNoLink\" href=\"https://therapists.psychologytoday.com/rms/zip/07621.html\" title=\"Therapists in 07621\">07621</a>\n",
       " </li>,\n",
       " <li>\n",
       " <a class=\"textNoLink\" href=\"https://therapists.psychologytoday.com/rms/zip/07631.html\" title=\"Therapists in 07631\">07631</a>\n",
       " </li>,\n",
       " <li>\n",
       " <a class=\"textNoLink\" href=\"https://therapists.psychologytoday.com/rms/zip/07670.html\" title=\"Therapists in 07670\">07670</a>\n",
       " </li>,\n",
       " <li>The name and contact details of the professional\n",
       "                             </li>,\n",
       " <li>That the professional's license, if applicable, is valid within the state in which he or she practices\n",
       "                             </li>,\n",
       " <li>That the professional is not subject to any license strictures preventing practice\n",
       "                             </li>,\n",
       " <li><a href=\"https://therapists.psychologytoday.com/rms/prof_results.php?city=Tenafly&amp;state=NJ&amp;spec=328&amp;topid=94804\" title=\"65+ Therapists in Tenafly, NJ\">65+ Therapists in Tenafly, NJ</a></li>,\n",
       " <li><a href=\"https://therapists.psychologytoday.com/rms/prof_results.php?city=Tenafly&amp;state=NJ&amp;spec=326&amp;topid=94804\" title=\"Adolescents / Teenagers (14 to 19) Therapists in Tenafly, NJ\">Adolescents / Teenagers (14 to 19) Therapists in Tenafly, NJ</a></li>,\n",
       " <li><a href=\"https://therapists.psychologytoday.com/rms/prof_results.php?city=Tenafly&amp;state=NJ&amp;spec=180&amp;topid=94804\" title=\"Adoption Therapists in Tenafly, NJ\">Adoption Therapists in Tenafly, NJ</a></li>,\n",
       " <li><a href=\"https://therapists.psychologytoday.com/rms/prof_results.php?city=Tenafly&amp;state=NJ&amp;spec=327&amp;topid=94804\" title=\"Adults Therapists in Tenafly, NJ\">Adults Therapists in Tenafly, NJ</a></li>,\n",
       " <li><a href=\"https://therapists.psychologytoday.com/rms/prof_results.php?city=Tenafly&amp;state=NJ&amp;spec=20&amp;topid=94804\" title=\"Amnesia Therapists in Tenafly, NJ\">Amnesia Therapists in Tenafly, NJ</a></li>,\n",
       " <li><a href=\"https://therapists.psychologytoday.com/rms/prof_results.php?city=Tenafly&amp;state=NJ&amp;spec=9&amp;topid=94804\" title=\"Anorexia Therapists in Tenafly, NJ\">Anorexia Therapists in Tenafly, NJ</a></li>,\n",
       " <li><a href=\"https://therapists.psychologytoday.com/rms/prof_results.php?city=Tenafly&amp;state=NJ&amp;spec=3&amp;topid=94804\" title=\"Anxiety Therapists in Tenafly, NJ\">Anxiety Therapists in Tenafly, NJ</a></li>,\n",
       " <li><a href=\"https://therapists.psychologytoday.com/rms/prof_results.php?city=Tenafly&amp;state=NJ&amp;spec=496&amp;topid=94804\" title=\"Attachment-based Therapists in Tenafly, NJ\">Attachment-based Therapists in Tenafly, NJ</a></li>,\n",
       " <li><a href=\"https://therapists.psychologytoday.com/rms/prof_results.php?city=Tenafly&amp;state=NJ&amp;spec=196&amp;topid=94804\" title=\"BPD Therapists in Tenafly, NJ\">BPD Therapists in Tenafly, NJ</a></li>,\n",
       " <li><a href=\"https://therapists.psychologytoday.com/rms/prof_results.php?city=Tenafly&amp;state=NJ&amp;spec=195&amp;topid=94804\" title=\"Behavioral Issues Therapists in Tenafly, NJ\">Behavioral Issues Therapists in Tenafly, NJ</a></li>,\n",
       " <li><a href=\"https://therapists.psychologytoday.com/rms/prof_results.php?city=Tenafly&amp;state=NJ&amp;spec=14&amp;topid=94804\" title=\"Bereavement Therapists in Tenafly, NJ\">Bereavement Therapists in Tenafly, NJ</a></li>,\n",
       " <li><a href=\"https://therapists.psychologytoday.com/rms/prof_results.php?city=Tenafly&amp;state=NJ&amp;spec=168&amp;topid=94804\" title=\"Bipolar Disorder Therapists in Tenafly, NJ\">Bipolar Disorder Therapists in Tenafly, NJ</a></li>,\n",
       " <li><a href=\"https://therapists.psychologytoday.com/rms/prof_results.php?city=Tenafly&amp;state=NJ&amp;spec=271&amp;topid=94804\" title=\"Bisexual Clients Therapists in Tenafly, NJ\">Bisexual Clients Therapists in Tenafly, NJ</a></li>,\n",
       " <li><a href=\"https://therapists.psychologytoday.com/rms/prof_results.php?city=Tenafly&amp;state=NJ&amp;spec=185&amp;topid=94804\" title=\"Bisexual Therapists in Tenafly, NJ\">Bisexual Therapists in Tenafly, NJ</a></li>,\n",
       " <li><a href=\"https://therapists.psychologytoday.com/rms/prof_results.php?city=Tenafly&amp;state=NJ&amp;spec=196&amp;topid=94804\" title=\"Borderline Personality Therapists in Tenafly, NJ\">Borderline Personality Therapists in Tenafly, NJ</a></li>,\n",
       " <li><a href=\"https://therapists.psychologytoday.com/rms/prof_results.php?city=Tenafly&amp;state=NJ&amp;spec=9&amp;topid=94804\" title=\"Bulimia Therapists in Tenafly, NJ\">Bulimia Therapists in Tenafly, NJ</a></li>,\n",
       " <li><a href=\"https://therapists.psychologytoday.com/rms/prof_results.php?city=Tenafly&amp;state=NJ&amp;spec=267&amp;topid=94804\" title=\"Cancer Survivors Therapists in Tenafly, NJ\">Cancer Survivors Therapists in Tenafly, NJ</a></li>,\n",
       " <li><a href=\"https://therapists.psychologytoday.com/rms/prof_results.php?city=Tenafly&amp;state=NJ&amp;spec=267&amp;topid=94804\" title=\"Cancer Therapists in Tenafly, NJ\">Cancer Therapists in Tenafly, NJ</a></li>,\n",
       " <li><a href=\"https://therapists.psychologytoday.com/rms/prof_results.php?city=Tenafly&amp;state=NJ&amp;spec=7&amp;topid=94804\" title=\"Chronic Pain Therapists in Tenafly, NJ\">Chronic Pain Therapists in Tenafly, NJ</a></li>,\n",
       " <li><a href=\"https://therapists.psychologytoday.com/rms/prof_results.php?city=Tenafly&amp;state=NJ&amp;spec=503&amp;topid=94804\" title=\"Codependency Therapists in Tenafly, NJ\">Codependency Therapists in Tenafly, NJ</a></li>,\n",
       " <li><a href=\"https://therapists.psychologytoday.com/rms/prof_results.php?city=Tenafly&amp;state=NJ&amp;spec=293&amp;topid=94804\" title=\"Cognitive Behavioral (CBT) Therapists in Tenafly, NJ\">Cognitive Behavioral (CBT) Therapists in Tenafly, NJ</a></li>,\n",
       " <li><a href=\"https://therapists.psychologytoday.com/rms/prof_results.php?city=Tenafly&amp;state=NJ&amp;spec=249&amp;topid=94804\" title=\"Coping Skills Therapists in Tenafly, NJ\">Coping Skills Therapists in Tenafly, NJ</a></li>,\n",
       " <li><a href=\"https://therapists.psychologytoday.com/rms/prof_results.php?city=Tenafly&amp;state=NJ&amp;spec=287&amp;topid=94804\" title=\"Couples Therapists in Tenafly, NJ\">Couples Therapists in Tenafly, NJ</a></li>,\n",
       " <li><a href=\"https://therapists.psychologytoday.com/rms/prof_results.php?city=Tenafly&amp;state=NJ&amp;spec=283&amp;topid=94804\" title=\"Cutting Therapists in Tenafly, NJ\">Cutting Therapists in Tenafly, NJ</a></li>,\n",
       " <li><a href=\"https://therapists.psychologytoday.com/rms/prof_results.php?city=Tenafly&amp;state=NJ&amp;spec=2&amp;topid=94804\" title=\"Depression Therapists in Tenafly, NJ\">Depression Therapists in Tenafly, NJ</a></li>,\n",
       " <li><a href=\"https://therapists.psychologytoday.com/rms/prof_results.php?city=Tenafly&amp;state=NJ&amp;spec=20&amp;topid=94804\" title=\"Dissociative Disorders Therapists in Tenafly, NJ\">Dissociative Disorders Therapists in Tenafly, NJ</a></li>,\n",
       " <li><a href=\"https://therapists.psychologytoday.com/rms/prof_results.php?city=Tenafly&amp;state=NJ&amp;spec=26&amp;topid=94804\" title=\"Divorce Therapists in Tenafly, NJ\">Divorce Therapists in Tenafly, NJ</a></li>,\n",
       " <li><a href=\"https://therapists.psychologytoday.com/rms/prof_results.php?city=Tenafly&amp;state=NJ&amp;spec=8&amp;topid=94804\" title=\"Domestic Abuse Therapists in Tenafly, NJ\">Domestic Abuse Therapists in Tenafly, NJ</a></li>,\n",
       " <li><a href=\"https://therapists.psychologytoday.com/rms/prof_results.php?city=Tenafly&amp;state=NJ&amp;spec=301&amp;topid=94804\" title=\"EMDR Therapists in Tenafly, NJ\">EMDR Therapists in Tenafly, NJ</a></li>,\n",
       " <li><a href=\"https://therapists.psychologytoday.com/rms/prof_results.php?city=Tenafly&amp;state=NJ&amp;spec=9&amp;topid=94804\" title=\"Eating Disorders Therapists in Tenafly, NJ\">Eating Disorders Therapists in Tenafly, NJ</a></li>,\n",
       " <li><a href=\"https://therapists.psychologytoday.com/rms/prof_results.php?city=Tenafly&amp;state=NJ&amp;spec=295&amp;topid=94804\" title=\"Eclectic Therapists in Tenafly, NJ\">Eclectic Therapists in Tenafly, NJ</a></li>,\n",
       " <li><a href=\"https://therapists.psychologytoday.com/rms/prof_results.php?city=Tenafly&amp;state=NJ&amp;spec=328&amp;topid=94804\" title=\"Elders (65+) Therapists in Tenafly, NJ\">Elders (65+) Therapists in Tenafly, NJ</a></li>,\n",
       " <li><a href=\"https://therapists.psychologytoday.com/rms/prof_results.php?city=Tenafly&amp;state=NJ&amp;spec=198&amp;topid=94804\" title=\"Emotional Disturbance Therapists in Tenafly, NJ\">Emotional Disturbance Therapists in Tenafly, NJ</a></li>,\n",
       " <li><a href=\"https://therapists.psychologytoday.com/rms/prof_results.php?city=Tenafly&amp;state=NJ&amp;spec=296&amp;topid=94804\" title=\"Family / Marital Therapists in Tenafly, NJ\">Family / Marital Therapists in Tenafly, NJ</a></li>,\n",
       " <li><a href=\"https://therapists.psychologytoday.com/rms/prof_results.php?city=Tenafly&amp;state=NJ&amp;spec=200&amp;topid=94804\" title=\"Family Conflict Therapists in Tenafly, NJ\">Family Conflict Therapists in Tenafly, NJ</a></li>,\n",
       " <li><a href=\"https://therapists.psychologytoday.com/rms/prof_results.php?city=Tenafly&amp;state=NJ&amp;spec=288&amp;topid=94804\" title=\"Family Therapists in Tenafly, NJ\">Family Therapists in Tenafly, NJ</a></li>,\n",
       " <li><a href=\"https://therapists.psychologytoday.com/rms/prof_results.php?city=Tenafly&amp;state=NJ&amp;spec=3&amp;topid=94804\" title=\"Fears Therapists in Tenafly, NJ\">Fears Therapists in Tenafly, NJ</a></li>,\n",
       " <li><a href=\"https://therapists.psychologytoday.com/rms/prof_results.php?city=Tenafly&amp;state=NJ&amp;spec=7&amp;topid=94804\" title=\"Fibromyalgia Therapists in Tenafly, NJ\">Fibromyalgia Therapists in Tenafly, NJ</a></li>,\n",
       " <li><a href=\"https://therapists.psychologytoday.com/rms/prof_results.php?city=Tenafly&amp;state=NJ&amp;spec=268&amp;topid=94804\" title=\"Gay Clients Therapists in Tenafly, NJ\">Gay Clients Therapists in Tenafly, NJ</a></li>,\n",
       " <li><a href=\"https://therapists.psychologytoday.com/rms/prof_results.php?city=Tenafly&amp;state=NJ&amp;spec=172&amp;topid=94804\" title=\"Gay Therapists in Tenafly, NJ\">Gay Therapists in Tenafly, NJ</a></li>,\n",
       " <li><a href=\"https://therapists.psychologytoday.com/rms/prof_results.php?city=Tenafly&amp;state=NJ&amp;spec=187&amp;topid=94804\" title=\"Gender Dysphoria Therapists in Tenafly, NJ\">Gender Dysphoria Therapists in Tenafly, NJ</a></li>,\n",
       " <li><a href=\"https://therapists.psychologytoday.com/rms/prof_results.php?city=Tenafly&amp;state=NJ&amp;spec=14&amp;topid=94804\" title=\"Grief Therapists in Tenafly, NJ\">Grief Therapists in Tenafly, NJ</a></li>,\n",
       " <li><a href=\"https://therapists.psychologytoday.com/rms/prof_results.php?city=Tenafly&amp;state=NJ&amp;spec=266&amp;topid=94804\" title=\"HIV / AIDS Clients Therapists in Tenafly, NJ\">HIV / AIDS Clients Therapists in Tenafly, NJ</a></li>,\n",
       " <li><a href=\"https://therapists.psychologytoday.com/rms/prof_results.php?city=Tenafly&amp;state=NJ&amp;spec=15&amp;topid=94804\" title=\"Hair Pulling Therapists in Tenafly, NJ\">Hair Pulling Therapists in Tenafly, NJ</a></li>,\n",
       " <li><a href=\"https://therapists.psychologytoday.com/rms/prof_results.php?city=Tenafly&amp;state=NJ&amp;spec=272&amp;topid=94804\" title=\"Heterosexual Clients Therapists in Tenafly, NJ\">Heterosexual Clients Therapists in Tenafly, NJ</a></li>,\n",
       " <li><a href=\"https://therapists.psychologytoday.com/rms/prof_results.php?city=Tenafly&amp;state=NJ&amp;spec=297&amp;topid=94804\" title=\"Humanistic Therapists in Tenafly, NJ\">Humanistic Therapists in Tenafly, NJ</a></li>,\n",
       " <li><a href=\"https://therapists.psychologytoday.com/rms/prof_results.php?city=Tenafly&amp;state=NJ&amp;spec=305&amp;topid=94804\" title=\"Hypnotherapy Therapists in Tenafly, NJ\">Hypnotherapy Therapists in Tenafly, NJ</a></li>,\n",
       " <li><a href=\"https://therapists.psychologytoday.com/rms/prof_results.php?city=Tenafly&amp;state=NJ&amp;spec=286&amp;topid=94804\" title=\"Individuals Therapists in Tenafly, NJ\">Individuals Therapists in Tenafly, NJ</a></li>,\n",
       " <li><a href=\"https://therapists.psychologytoday.com/rms/prof_results.php?city=Tenafly&amp;state=NJ&amp;spec=498&amp;topid=94804\" title=\"Integrative Therapists in Tenafly, NJ\">Integrative Therapists in Tenafly, NJ</a></li>,\n",
       " <li><a href=\"https://therapists.psychologytoday.com/rms/prof_results.php?city=Tenafly&amp;state=NJ&amp;spec=172&amp;topid=94804\" title=\"LGBTQ Therapists in Tenafly, NJ\">LGBTQ Therapists in Tenafly, NJ</a></li>,\n",
       " <li><a href=\"https://therapists.psychologytoday.com/rms/prof_results.php?city=Tenafly&amp;state=NJ&amp;spec=186&amp;topid=94804\" title=\"Lesbian Therapists in Tenafly, NJ\">Lesbian Therapists in Tenafly, NJ</a></li>,\n",
       " <li><a href=\"https://therapists.psychologytoday.com/rms/prof_results.php?city=Tenafly&amp;state=NJ&amp;spec=14&amp;topid=94804\" title=\"Loss Therapists in Tenafly, NJ\">Loss Therapists in Tenafly, NJ</a></li>,\n",
       " <li><a href=\"https://therapists.psychologytoday.com/rms/prof_results.php?city=Tenafly&amp;state=NJ&amp;spec=168&amp;topid=94804\" title=\"Manic Depression Therapists in Tenafly, NJ\">Manic Depression Therapists in Tenafly, NJ</a></li>,\n",
       " <li><a href=\"https://therapists.psychologytoday.com/rms/prof_results.php?city=Tenafly&amp;state=NJ&amp;spec=510&amp;topid=94804\" title=\"Military Therapists in Tenafly, NJ\">Military Therapists in Tenafly, NJ</a></li>,\n",
       " <li><a href=\"https://therapists.psychologytoday.com/rms/prof_results.php?city=Tenafly&amp;state=NJ&amp;spec=307&amp;topid=94804\" title=\"Mindfulness-based (MBCT) Therapists in Tenafly, NJ\">Mindfulness-based (MBCT) Therapists in Tenafly, NJ</a></li>,\n",
       " <li><a href=\"https://therapists.psychologytoday.com/rms/prof_results.php?city=Tenafly&amp;state=NJ&amp;spec=201&amp;topid=94804\" title=\"Mood Disorders Therapists in Tenafly, NJ\">Mood Disorders Therapists in Tenafly, NJ</a></li>,\n",
       " <li><a href=\"https://therapists.psychologytoday.com/rms/prof_results.php?city=Tenafly&amp;state=NJ&amp;spec=14&amp;topid=94804\" title=\"Mourning Therapists in Tenafly, NJ\">Mourning Therapists in Tenafly, NJ</a></li>,\n",
       " <li><a href=\"https://therapists.psychologytoday.com/rms/prof_results.php?city=Tenafly&amp;state=NJ&amp;spec=20&amp;topid=94804\" title=\"Multiple Personality Therapists in Tenafly, NJ\">Multiple Personality Therapists in Tenafly, NJ</a></li>,\n",
       " <li><a href=\"https://therapists.psychologytoday.com/rms/prof_results.php?city=Tenafly&amp;state=NJ&amp;spec=203&amp;topid=94804\" title=\"Narcissistic Personality Therapists in Tenafly, NJ\">Narcissistic Personality Therapists in Tenafly, NJ</a></li>,\n",
       " <li><a href=\"https://therapists.psychologytoday.com/rms/prof_results.php?city=Tenafly&amp;state=NJ&amp;spec=22&amp;topid=94804\" title=\"Narcissistic Therapists in Tenafly, NJ\">Narcissistic Therapists in Tenafly, NJ</a></li>,\n",
       " <li><a href=\"https://therapists.psychologytoday.com/rms/prof_results.php?city=Tenafly&amp;state=NJ&amp;spec=15&amp;topid=94804\" title=\"Obsessive-Compulsive (OCD) Therapists in Tenafly, NJ\">Obsessive-Compulsive (OCD) Therapists in Tenafly, NJ</a></li>,\n",
       " <li><a href=\"https://therapists.psychologytoday.com/rms/prof_results.php?city=Tenafly&amp;state=NJ&amp;spec=461&amp;topid=94804\" title=\"Out of Network Therapists in Tenafly, NJ\">Out of Network Therapists in Tenafly, NJ</a></li>,\n",
       " <li><a href=\"https://therapists.psychologytoday.com/rms/prof_results.php?city=Tenafly&amp;state=NJ&amp;spec=22&amp;topid=94804\" title=\"Paranoid Therapists in Tenafly, NJ\">Paranoid Therapists in Tenafly, NJ</a></li>,\n",
       " <li><a href=\"https://therapists.psychologytoday.com/rms/prof_results.php?city=Tenafly&amp;state=NJ&amp;spec=16&amp;topid=94804\" title=\"Parenting Therapists in Tenafly, NJ\">Parenting Therapists in Tenafly, NJ</a></li>,\n",
       " <li><a href=\"https://therapists.psychologytoday.com/rms/prof_results.php?city=Tenafly&amp;state=NJ&amp;spec=228&amp;topid=94804\" title=\"Peer Relationships Therapists in Tenafly, NJ\">Peer Relationships Therapists in Tenafly, NJ</a></li>,\n",
       " <li><a href=\"https://therapists.psychologytoday.com/rms/prof_results.php?city=Tenafly&amp;state=NJ&amp;spec=22&amp;topid=94804\" title=\"Personality Disorders Therapists in Tenafly, NJ\">Personality Disorders Therapists in Tenafly, NJ</a></li>,\n",
       " <li><a href=\"https://therapists.psychologytoday.com/rms/prof_results.php?city=Tenafly&amp;state=NJ&amp;spec=3&amp;topid=94804\" title=\"Phobia Therapists in Tenafly, NJ\">Phobia Therapists in Tenafly, NJ</a></li>,\n",
       " <li><a href=\"https://therapists.psychologytoday.com/rms/prof_results.php?city=Tenafly&amp;state=NJ&amp;spec=201&amp;topid=94804\" title=\"Post-Partum Therapists in Tenafly, NJ\">Post-Partum Therapists in Tenafly, NJ</a></li>,\n",
       " <li><a href=\"https://therapists.psychologytoday.com/rms/prof_results.php?city=Tenafly&amp;state=NJ&amp;spec=19&amp;topid=94804\" title=\"Post-Traumatic Stress Therapists in Tenafly, NJ\">Post-Traumatic Stress Therapists in Tenafly, NJ</a></li>,\n",
       " <li><a href=\"https://therapists.psychologytoday.com/rms/prof_results.php?city=Tenafly&amp;state=NJ&amp;spec=298&amp;topid=94804\" title=\"Psychoanalytic Therapists in Tenafly, NJ\">Psychoanalytic Therapists in Tenafly, NJ</a></li>,\n",
       " <li><a href=\"https://therapists.psychologytoday.com/rms/prof_results.php?city=Tenafly&amp;state=NJ&amp;spec=299&amp;topid=94804\" title=\"Psychodynamic Therapists in Tenafly, NJ\">Psychodynamic Therapists in Tenafly, NJ</a></li>,\n",
       " <li><a href=\"https://therapists.psychologytoday.com/rms/prof_results.php?city=Tenafly&amp;state=NJ&amp;spec=308&amp;topid=94804\" title=\"Relational Therapists in Tenafly, NJ\">Relational Therapists in Tenafly, NJ</a></li>,\n",
       " <li><a href=\"https://therapists.psychologytoday.com/rms/prof_results.php?city=Tenafly&amp;state=NJ&amp;spec=1&amp;topid=94804\" title=\"Relationship Issues Therapists in Tenafly, NJ\">Relationship Issues Therapists in Tenafly, NJ</a></li>,\n",
       " <li><a href=\"https://therapists.psychologytoday.com/rms/prof_results.php?city=Tenafly&amp;state=NJ&amp;spec=201&amp;topid=94804\" title=\"Seasonal Affective Therapists in Tenafly, NJ\">Seasonal Affective Therapists in Tenafly, NJ</a></li>,\n",
       " <li><a href=\"https://therapists.psychologytoday.com/rms/prof_results.php?city=Tenafly&amp;state=NJ&amp;spec=260&amp;topid=94804\" title=\"Self Esteem Therapists in Tenafly, NJ\">Self Esteem Therapists in Tenafly, NJ</a></li>,\n",
       " <li><a href=\"https://therapists.psychologytoday.com/rms/prof_results.php?city=Tenafly&amp;state=NJ&amp;spec=283&amp;topid=94804\" title=\"Self-Harming Therapists in Tenafly, NJ\">Self-Harming Therapists in Tenafly, NJ</a></li>,\n",
       " <li><a href=\"https://therapists.psychologytoday.com/rms/prof_results.php?city=Tenafly&amp;state=NJ&amp;spec=328&amp;topid=94804\" title=\"Seniors Therapists in Tenafly, NJ\">Seniors Therapists in Tenafly, NJ</a></li>,\n",
       " <li><a href=\"https://therapists.psychologytoday.com/rms/prof_results.php?city=Tenafly&amp;state=NJ&amp;spec=256&amp;topid=94804\" title=\"Sexual Abuse Therapists in Tenafly, NJ\">Sexual Abuse Therapists in Tenafly, NJ</a></li>,\n",
       " <li><a href=\"https://therapists.psychologytoday.com/rms/prof_results.php?city=Tenafly&amp;state=NJ&amp;spec=15&amp;topid=94804\" title=\"Skin Picking Therapists in Tenafly, NJ\">Skin Picking Therapists in Tenafly, NJ</a></li>,\n",
       " <li><a href=\"https://therapists.psychologytoday.com/rms/prof_results.php?city=Tenafly&amp;state=NJ&amp;spec=190&amp;topid=94804\" title=\"Sleep or Insomnia Therapists in Tenafly, NJ\">Sleep or Insomnia Therapists in Tenafly, NJ</a></li>,\n",
       " <li><a href=\"https://therapists.psychologytoday.com/rms/prof_results.php?city=Tenafly&amp;state=NJ&amp;spec=494&amp;topid=94804\" title=\"Somatic Therapists in Tenafly, NJ\">Somatic Therapists in Tenafly, NJ</a></li>,\n",
       " <li><a href=\"https://therapists.psychologytoday.com/rms/prof_results.php?city=Tenafly&amp;state=NJ&amp;spec=18&amp;topid=94804\" title=\"Spirituality Therapists in Tenafly, NJ\">Spirituality Therapists in Tenafly, NJ</a></li>,\n",
       " <li><a href=\"https://therapists.psychologytoday.com/rms/prof_results.php?city=Tenafly&amp;state=NJ&amp;spec=205&amp;topid=94804\" title=\"Suicidal Ideation Therapists in Tenafly, NJ\">Suicidal Ideation Therapists in Tenafly, NJ</a></li>,\n",
       " <li><a href=\"https://therapists.psychologytoday.com/rms/prof_results.php?city=Tenafly&amp;state=NJ&amp;spec=270&amp;topid=94804\" title=\"Transgender Clients Therapists in Tenafly, NJ\">Transgender Clients Therapists in Tenafly, NJ</a></li>,\n",
       " <li><a href=\"https://therapists.psychologytoday.com/rms/prof_results.php?city=Tenafly&amp;state=NJ&amp;spec=187&amp;topid=94804\" title=\"Transgender Therapists in Tenafly, NJ\">Transgender Therapists in Tenafly, NJ</a></li>,\n",
       " <li><a href=\"https://therapists.psychologytoday.com/rms/prof_results.php?city=Tenafly&amp;state=NJ&amp;spec=300&amp;topid=94804\" title=\"Transpersonal Therapists in Tenafly, NJ\">Transpersonal Therapists in Tenafly, NJ</a></li>,\n",
       " <li><a href=\"https://therapists.psychologytoday.com/rms/prof_results.php?city=Tenafly&amp;state=NJ&amp;spec=495&amp;topid=94804\" title=\"Trauma Focused Therapists in Tenafly, NJ\">Trauma Focused Therapists in Tenafly, NJ</a></li>,\n",
       " <li><a href=\"https://therapists.psychologytoday.com/rms/prof_results.php?city=Tenafly&amp;state=NJ&amp;spec=19&amp;topid=94804\" title=\"Trauma and PTSD Therapists in Tenafly, NJ\">Trauma and PTSD Therapists in Tenafly, NJ</a></li>,\n",
       " <li><a href=\"https://therapists.psychologytoday.com/rms/prof_results.php?city=Tenafly&amp;state=NJ&amp;spec=15&amp;topid=94804\" title=\"Trichotillomania (TTM) Therapists in Tenafly, NJ\">Trichotillomania (TTM) Therapists in Tenafly, NJ</a></li>,\n",
       " <li><a href=\"https://therapists.psychologytoday.com/rms/prof_results.php?city=Tenafly&amp;state=NJ&amp;spec=510&amp;topid=94804\" title=\"Veterans Therapists in Tenafly, NJ\">Veterans Therapists in Tenafly, NJ</a></li>,\n",
       " <li><a href=\"https://therapists.psychologytoday.com/rms/prof_results.php?city=Tenafly&amp;state=NJ&amp;spec=262&amp;topid=94804\" title=\"Weight Loss Therapists in Tenafly, NJ\">Weight Loss Therapists in Tenafly, NJ</a></li>,\n",
       " <li><a href=\"https://therapists.psychologytoday.com/rms/prof_results.php?zipcode=07670&amp;spec=328&amp;topid=94804\" title=\"65+ Therapists in 07670\">65+ Therapists in 07670</a></li>,\n",
       " <li><a href=\"https://therapists.psychologytoday.com/rms/prof_results.php?zipcode=07670&amp;spec=326&amp;topid=94804\" title=\"Adolescents / Teenagers (14 to 19) Therapists in 07670\">Adolescents / Teenagers (14 to 19) Therapists in 07670</a></li>,\n",
       " <li><a href=\"https://therapists.psychologytoday.com/rms/prof_results.php?zipcode=07670&amp;spec=180&amp;topid=94804\" title=\"Adoption Therapists in 07670\">Adoption Therapists in 07670</a></li>,\n",
       " <li><a href=\"https://therapists.psychologytoday.com/rms/prof_results.php?zipcode=07670&amp;spec=327&amp;topid=94804\" title=\"Adults Therapists in 07670\">Adults Therapists in 07670</a></li>,\n",
       " <li><a href=\"https://therapists.psychologytoday.com/rms/prof_results.php?zipcode=07670&amp;spec=20&amp;topid=94804\" title=\"Amnesia Therapists in 07670\">Amnesia Therapists in 07670</a></li>,\n",
       " <li><a href=\"https://therapists.psychologytoday.com/rms/prof_results.php?zipcode=07670&amp;spec=9&amp;topid=94804\" title=\"Anorexia Therapists in 07670\">Anorexia Therapists in 07670</a></li>,\n",
       " <li><a href=\"https://therapists.psychologytoday.com/rms/prof_results.php?zipcode=07670&amp;spec=3&amp;topid=94804\" title=\"Anxiety Therapists in 07670\">Anxiety Therapists in 07670</a></li>,\n",
       " <li><a href=\"https://therapists.psychologytoday.com/rms/prof_results.php?zipcode=07670&amp;spec=496&amp;topid=94804\" title=\"Attachment-based Therapists in 07670\">Attachment-based Therapists in 07670</a></li>,\n",
       " <li><a href=\"https://therapists.psychologytoday.com/rms/prof_results.php?zipcode=07670&amp;spec=196&amp;topid=94804\" title=\"BPD Therapists in 07670\">BPD Therapists in 07670</a></li>,\n",
       " <li><a href=\"https://therapists.psychologytoday.com/rms/prof_results.php?zipcode=07670&amp;spec=195&amp;topid=94804\" title=\"Behavioral Issues Therapists in 07670\">Behavioral Issues Therapists in 07670</a></li>,\n",
       " <li><a href=\"https://therapists.psychologytoday.com/rms/prof_results.php?zipcode=07670&amp;spec=14&amp;topid=94804\" title=\"Bereavement Therapists in 07670\">Bereavement Therapists in 07670</a></li>,\n",
       " <li><a href=\"https://therapists.psychologytoday.com/rms/prof_results.php?zipcode=07670&amp;spec=168&amp;topid=94804\" title=\"Bipolar Disorder Therapists in 07670\">Bipolar Disorder Therapists in 07670</a></li>,\n",
       " <li><a href=\"https://therapists.psychologytoday.com/rms/prof_results.php?zipcode=07670&amp;spec=271&amp;topid=94804\" title=\"Bisexual Clients Therapists in 07670\">Bisexual Clients Therapists in 07670</a></li>,\n",
       " <li><a href=\"https://therapists.psychologytoday.com/rms/prof_results.php?zipcode=07670&amp;spec=185&amp;topid=94804\" title=\"Bisexual Therapists in 07670\">Bisexual Therapists in 07670</a></li>,\n",
       " <li><a href=\"https://therapists.psychologytoday.com/rms/prof_results.php?zipcode=07670&amp;spec=196&amp;topid=94804\" title=\"Borderline Personality Therapists in 07670\">Borderline Personality Therapists in 07670</a></li>,\n",
       " <li><a href=\"https://therapists.psychologytoday.com/rms/prof_results.php?zipcode=07670&amp;spec=9&amp;topid=94804\" title=\"Bulimia Therapists in 07670\">Bulimia Therapists in 07670</a></li>,\n",
       " <li><a href=\"https://therapists.psychologytoday.com/rms/prof_results.php?zipcode=07670&amp;spec=267&amp;topid=94804\" title=\"Cancer Survivors Therapists in 07670\">Cancer Survivors Therapists in 07670</a></li>,\n",
       " <li><a href=\"https://therapists.psychologytoday.com/rms/prof_results.php?zipcode=07670&amp;spec=267&amp;topid=94804\" title=\"Cancer Therapists in 07670\">Cancer Therapists in 07670</a></li>,\n",
       " <li><a href=\"https://therapists.psychologytoday.com/rms/prof_results.php?zipcode=07670&amp;spec=7&amp;topid=94804\" title=\"Chronic Pain Therapists in 07670\">Chronic Pain Therapists in 07670</a></li>,\n",
       " <li><a href=\"https://therapists.psychologytoday.com/rms/prof_results.php?zipcode=07670&amp;spec=503&amp;topid=94804\" title=\"Codependency Therapists in 07670\">Codependency Therapists in 07670</a></li>,\n",
       " <li><a href=\"https://therapists.psychologytoday.com/rms/prof_results.php?zipcode=07670&amp;spec=293&amp;topid=94804\" title=\"Cognitive Behavioral (CBT) Therapists in 07670\">Cognitive Behavioral (CBT) Therapists in 07670</a></li>,\n",
       " <li><a href=\"https://therapists.psychologytoday.com/rms/prof_results.php?zipcode=07670&amp;spec=249&amp;topid=94804\" title=\"Coping Skills Therapists in 07670\">Coping Skills Therapists in 07670</a></li>,\n",
       " <li><a href=\"https://therapists.psychologytoday.com/rms/prof_results.php?zipcode=07670&amp;spec=287&amp;topid=94804\" title=\"Couples Therapists in 07670\">Couples Therapists in 07670</a></li>,\n",
       " <li><a href=\"https://therapists.psychologytoday.com/rms/prof_results.php?zipcode=07670&amp;spec=283&amp;topid=94804\" title=\"Cutting Therapists in 07670\">Cutting Therapists in 07670</a></li>,\n",
       " <li><a href=\"https://therapists.psychologytoday.com/rms/prof_results.php?zipcode=07670&amp;spec=2&amp;topid=94804\" title=\"Depression Therapists in 07670\">Depression Therapists in 07670</a></li>,\n",
       " <li><a href=\"https://therapists.psychologytoday.com/rms/prof_results.php?zipcode=07670&amp;spec=20&amp;topid=94804\" title=\"Dissociative Disorders Therapists in 07670\">Dissociative Disorders Therapists in 07670</a></li>,\n",
       " <li><a href=\"https://therapists.psychologytoday.com/rms/prof_results.php?zipcode=07670&amp;spec=26&amp;topid=94804\" title=\"Divorce Therapists in 07670\">Divorce Therapists in 07670</a></li>,\n",
       " <li><a href=\"https://therapists.psychologytoday.com/rms/prof_results.php?zipcode=07670&amp;spec=8&amp;topid=94804\" title=\"Domestic Abuse Therapists in 07670\">Domestic Abuse Therapists in 07670</a></li>,\n",
       " <li><a href=\"https://therapists.psychologytoday.com/rms/prof_results.php?zipcode=07670&amp;spec=301&amp;topid=94804\" title=\"EMDR Therapists in 07670\">EMDR Therapists in 07670</a></li>,\n",
       " <li><a href=\"https://therapists.psychologytoday.com/rms/prof_results.php?zipcode=07670&amp;spec=9&amp;topid=94804\" title=\"Eating Disorders Therapists in 07670\">Eating Disorders Therapists in 07670</a></li>,\n",
       " <li><a href=\"https://therapists.psychologytoday.com/rms/prof_results.php?zipcode=07670&amp;spec=295&amp;topid=94804\" title=\"Eclectic Therapists in 07670\">Eclectic Therapists in 07670</a></li>,\n",
       " <li><a href=\"https://therapists.psychologytoday.com/rms/prof_results.php?zipcode=07670&amp;spec=328&amp;topid=94804\" title=\"Elders (65+) Therapists in 07670\">Elders (65+) Therapists in 07670</a></li>,\n",
       " <li><a href=\"https://therapists.psychologytoday.com/rms/prof_results.php?zipcode=07670&amp;spec=198&amp;topid=94804\" title=\"Emotional Disturbance Therapists in 07670\">Emotional Disturbance Therapists in 07670</a></li>,\n",
       " <li><a href=\"https://therapists.psychologytoday.com/rms/prof_results.php?zipcode=07670&amp;spec=296&amp;topid=94804\" title=\"Family / Marital Therapists in 07670\">Family / Marital Therapists in 07670</a></li>,\n",
       " <li><a href=\"https://therapists.psychologytoday.com/rms/prof_results.php?zipcode=07670&amp;spec=200&amp;topid=94804\" title=\"Family Conflict Therapists in 07670\">Family Conflict Therapists in 07670</a></li>,\n",
       " <li><a href=\"https://therapists.psychologytoday.com/rms/prof_results.php?zipcode=07670&amp;spec=288&amp;topid=94804\" title=\"Family Therapists in 07670\">Family Therapists in 07670</a></li>,\n",
       " <li><a href=\"https://therapists.psychologytoday.com/rms/prof_results.php?zipcode=07670&amp;spec=3&amp;topid=94804\" title=\"Fears Therapists in 07670\">Fears Therapists in 07670</a></li>,\n",
       " <li><a href=\"https://therapists.psychologytoday.com/rms/prof_results.php?zipcode=07670&amp;spec=7&amp;topid=94804\" title=\"Fibromyalgia Therapists in 07670\">Fibromyalgia Therapists in 07670</a></li>,\n",
       " <li><a href=\"https://therapists.psychologytoday.com/rms/prof_results.php?zipcode=07670&amp;spec=268&amp;topid=94804\" title=\"Gay Clients Therapists in 07670\">Gay Clients Therapists in 07670</a></li>,\n",
       " <li><a href=\"https://therapists.psychologytoday.com/rms/prof_results.php?zipcode=07670&amp;spec=172&amp;topid=94804\" title=\"Gay Therapists in 07670\">Gay Therapists in 07670</a></li>,\n",
       " <li><a href=\"https://therapists.psychologytoday.com/rms/prof_results.php?zipcode=07670&amp;spec=187&amp;topid=94804\" title=\"Gender Dysphoria Therapists in 07670\">Gender Dysphoria Therapists in 07670</a></li>,\n",
       " <li><a href=\"https://therapists.psychologytoday.com/rms/prof_results.php?zipcode=07670&amp;spec=14&amp;topid=94804\" title=\"Grief Therapists in 07670\">Grief Therapists in 07670</a></li>,\n",
       " <li><a href=\"https://therapists.psychologytoday.com/rms/prof_results.php?zipcode=07670&amp;spec=266&amp;topid=94804\" title=\"HIV / AIDS Clients Therapists in 07670\">HIV / AIDS Clients Therapists in 07670</a></li>,\n",
       " <li><a href=\"https://therapists.psychologytoday.com/rms/prof_results.php?zipcode=07670&amp;spec=15&amp;topid=94804\" title=\"Hair Pulling Therapists in 07670\">Hair Pulling Therapists in 07670</a></li>,\n",
       " <li><a href=\"https://therapists.psychologytoday.com/rms/prof_results.php?zipcode=07670&amp;spec=272&amp;topid=94804\" title=\"Heterosexual Clients Therapists in 07670\">Heterosexual Clients Therapists in 07670</a></li>,\n",
       " <li><a href=\"https://therapists.psychologytoday.com/rms/prof_results.php?zipcode=07670&amp;spec=297&amp;topid=94804\" title=\"Humanistic Therapists in 07670\">Humanistic Therapists in 07670</a></li>,\n",
       " <li><a href=\"https://therapists.psychologytoday.com/rms/prof_results.php?zipcode=07670&amp;spec=305&amp;topid=94804\" title=\"Hypnotherapy Therapists in 07670\">Hypnotherapy Therapists in 07670</a></li>,\n",
       " <li><a href=\"https://therapists.psychologytoday.com/rms/prof_results.php?zipcode=07670&amp;spec=286&amp;topid=94804\" title=\"Individuals Therapists in 07670\">Individuals Therapists in 07670</a></li>,\n",
       " <li><a href=\"https://therapists.psychologytoday.com/rms/prof_results.php?zipcode=07670&amp;spec=498&amp;topid=94804\" title=\"Integrative Therapists in 07670\">Integrative Therapists in 07670</a></li>,\n",
       " <li><a href=\"https://therapists.psychologytoday.com/rms/prof_results.php?zipcode=07670&amp;spec=172&amp;topid=94804\" title=\"LGBTQ Therapists in 07670\">LGBTQ Therapists in 07670</a></li>,\n",
       " <li><a href=\"https://therapists.psychologytoday.com/rms/prof_results.php?zipcode=07670&amp;spec=186&amp;topid=94804\" title=\"Lesbian Therapists in 07670\">Lesbian Therapists in 07670</a></li>,\n",
       " <li><a href=\"https://therapists.psychologytoday.com/rms/prof_results.php?zipcode=07670&amp;spec=14&amp;topid=94804\" title=\"Loss Therapists in 07670\">Loss Therapists in 07670</a></li>,\n",
       " <li><a href=\"https://therapists.psychologytoday.com/rms/prof_results.php?zipcode=07670&amp;spec=168&amp;topid=94804\" title=\"Manic Depression Therapists in 07670\">Manic Depression Therapists in 07670</a></li>,\n",
       " <li><a href=\"https://therapists.psychologytoday.com/rms/prof_results.php?zipcode=07670&amp;spec=510&amp;topid=94804\" title=\"Military Therapists in 07670\">Military Therapists in 07670</a></li>,\n",
       " <li><a href=\"https://therapists.psychologytoday.com/rms/prof_results.php?zipcode=07670&amp;spec=307&amp;topid=94804\" title=\"Mindfulness-based (MBCT) Therapists in 07670\">Mindfulness-based (MBCT) Therapists in 07670</a></li>,\n",
       " <li><a href=\"https://therapists.psychologytoday.com/rms/prof_results.php?zipcode=07670&amp;spec=201&amp;topid=94804\" title=\"Mood Disorders Therapists in 07670\">Mood Disorders Therapists in 07670</a></li>,\n",
       " <li><a href=\"https://therapists.psychologytoday.com/rms/prof_results.php?zipcode=07670&amp;spec=14&amp;topid=94804\" title=\"Mourning Therapists in 07670\">Mourning Therapists in 07670</a></li>,\n",
       " <li><a href=\"https://therapists.psychologytoday.com/rms/prof_results.php?zipcode=07670&amp;spec=20&amp;topid=94804\" title=\"Multiple Personality Therapists in 07670\">Multiple Personality Therapists in 07670</a></li>,\n",
       " <li><a href=\"https://therapists.psychologytoday.com/rms/prof_results.php?zipcode=07670&amp;spec=203&amp;topid=94804\" title=\"Narcissistic Personality Therapists in 07670\">Narcissistic Personality Therapists in 07670</a></li>,\n",
       " <li><a href=\"https://therapists.psychologytoday.com/rms/prof_results.php?zipcode=07670&amp;spec=22&amp;topid=94804\" title=\"Narcissistic Therapists in 07670\">Narcissistic Therapists in 07670</a></li>,\n",
       " <li><a href=\"https://therapists.psychologytoday.com/rms/prof_results.php?zipcode=07670&amp;spec=15&amp;topid=94804\" title=\"Obsessive-Compulsive (OCD) Therapists in 07670\">Obsessive-Compulsive (OCD) Therapists in 07670</a></li>,\n",
       " <li><a href=\"https://therapists.psychologytoday.com/rms/prof_results.php?zipcode=07670&amp;spec=461&amp;topid=94804\" title=\"Out of Network Therapists in 07670\">Out of Network Therapists in 07670</a></li>,\n",
       " <li><a href=\"https://therapists.psychologytoday.com/rms/prof_results.php?zipcode=07670&amp;spec=22&amp;topid=94804\" title=\"Paranoid Therapists in 07670\">Paranoid Therapists in 07670</a></li>,\n",
       " <li><a href=\"https://therapists.psychologytoday.com/rms/prof_results.php?zipcode=07670&amp;spec=16&amp;topid=94804\" title=\"Parenting Therapists in 07670\">Parenting Therapists in 07670</a></li>,\n",
       " <li><a href=\"https://therapists.psychologytoday.com/rms/prof_results.php?zipcode=07670&amp;spec=228&amp;topid=94804\" title=\"Peer Relationships Therapists in 07670\">Peer Relationships Therapists in 07670</a></li>,\n",
       " <li><a href=\"https://therapists.psychologytoday.com/rms/prof_results.php?zipcode=07670&amp;spec=22&amp;topid=94804\" title=\"Personality Disorders Therapists in 07670\">Personality Disorders Therapists in 07670</a></li>,\n",
       " <li><a href=\"https://therapists.psychologytoday.com/rms/prof_results.php?zipcode=07670&amp;spec=3&amp;topid=94804\" title=\"Phobia Therapists in 07670\">Phobia Therapists in 07670</a></li>,\n",
       " <li><a href=\"https://therapists.psychologytoday.com/rms/prof_results.php?zipcode=07670&amp;spec=201&amp;topid=94804\" title=\"Post-Partum Therapists in 07670\">Post-Partum Therapists in 07670</a></li>,\n",
       " <li><a href=\"https://therapists.psychologytoday.com/rms/prof_results.php?zipcode=07670&amp;spec=19&amp;topid=94804\" title=\"Post-Traumatic Stress Therapists in 07670\">Post-Traumatic Stress Therapists in 07670</a></li>,\n",
       " <li><a href=\"https://therapists.psychologytoday.com/rms/prof_results.php?zipcode=07670&amp;spec=298&amp;topid=94804\" title=\"Psychoanalytic Therapists in 07670\">Psychoanalytic Therapists in 07670</a></li>,\n",
       " <li><a href=\"https://therapists.psychologytoday.com/rms/prof_results.php?zipcode=07670&amp;spec=299&amp;topid=94804\" title=\"Psychodynamic Therapists in 07670\">Psychodynamic Therapists in 07670</a></li>,\n",
       " <li><a href=\"https://therapists.psychologytoday.com/rms/prof_results.php?zipcode=07670&amp;spec=308&amp;topid=94804\" title=\"Relational Therapists in 07670\">Relational Therapists in 07670</a></li>,\n",
       " <li><a href=\"https://therapists.psychologytoday.com/rms/prof_results.php?zipcode=07670&amp;spec=1&amp;topid=94804\" title=\"Relationship Issues Therapists in 07670\">Relationship Issues Therapists in 07670</a></li>,\n",
       " <li><a href=\"https://therapists.psychologytoday.com/rms/prof_results.php?zipcode=07670&amp;spec=201&amp;topid=94804\" title=\"Seasonal Affective Therapists in 07670\">Seasonal Affective Therapists in 07670</a></li>,\n",
       " <li><a href=\"https://therapists.psychologytoday.com/rms/prof_results.php?zipcode=07670&amp;spec=260&amp;topid=94804\" title=\"Self Esteem Therapists in 07670\">Self Esteem Therapists in 07670</a></li>,\n",
       " <li><a href=\"https://therapists.psychologytoday.com/rms/prof_results.php?zipcode=07670&amp;spec=283&amp;topid=94804\" title=\"Self-Harming Therapists in 07670\">Self-Harming Therapists in 07670</a></li>,\n",
       " <li><a href=\"https://therapists.psychologytoday.com/rms/prof_results.php?zipcode=07670&amp;spec=328&amp;topid=94804\" title=\"Seniors Therapists in 07670\">Seniors Therapists in 07670</a></li>,\n",
       " <li><a href=\"https://therapists.psychologytoday.com/rms/prof_results.php?zipcode=07670&amp;spec=256&amp;topid=94804\" title=\"Sexual Abuse Therapists in 07670\">Sexual Abuse Therapists in 07670</a></li>,\n",
       " <li><a href=\"https://therapists.psychologytoday.com/rms/prof_results.php?zipcode=07670&amp;spec=15&amp;topid=94804\" title=\"Skin Picking Therapists in 07670\">Skin Picking Therapists in 07670</a></li>,\n",
       " <li><a href=\"https://therapists.psychologytoday.com/rms/prof_results.php?zipcode=07670&amp;spec=190&amp;topid=94804\" title=\"Sleep or Insomnia Therapists in 07670\">Sleep or Insomnia Therapists in 07670</a></li>,\n",
       " <li><a href=\"https://therapists.psychologytoday.com/rms/prof_results.php?zipcode=07670&amp;spec=494&amp;topid=94804\" title=\"Somatic Therapists in 07670\">Somatic Therapists in 07670</a></li>,\n",
       " <li><a href=\"https://therapists.psychologytoday.com/rms/prof_results.php?zipcode=07670&amp;spec=18&amp;topid=94804\" title=\"Spirituality Therapists in 07670\">Spirituality Therapists in 07670</a></li>,\n",
       " <li><a href=\"https://therapists.psychologytoday.com/rms/prof_results.php?zipcode=07670&amp;spec=205&amp;topid=94804\" title=\"Suicidal Ideation Therapists in 07670\">Suicidal Ideation Therapists in 07670</a></li>,\n",
       " <li><a href=\"https://therapists.psychologytoday.com/rms/prof_results.php?zipcode=07670&amp;spec=270&amp;topid=94804\" title=\"Transgender Clients Therapists in 07670\">Transgender Clients Therapists in 07670</a></li>,\n",
       " <li><a href=\"https://therapists.psychologytoday.com/rms/prof_results.php?zipcode=07670&amp;spec=187&amp;topid=94804\" title=\"Transgender Therapists in 07670\">Transgender Therapists in 07670</a></li>,\n",
       " <li><a href=\"https://therapists.psychologytoday.com/rms/prof_results.php?zipcode=07670&amp;spec=300&amp;topid=94804\" title=\"Transpersonal Therapists in 07670\">Transpersonal Therapists in 07670</a></li>,\n",
       " <li><a href=\"https://therapists.psychologytoday.com/rms/prof_results.php?zipcode=07670&amp;spec=495&amp;topid=94804\" title=\"Trauma Focused Therapists in 07670\">Trauma Focused Therapists in 07670</a></li>,\n",
       " <li><a href=\"https://therapists.psychologytoday.com/rms/prof_results.php?zipcode=07670&amp;spec=19&amp;topid=94804\" title=\"Trauma and PTSD Therapists in 07670\">Trauma and PTSD Therapists in 07670</a></li>,\n",
       " <li><a href=\"https://therapists.psychologytoday.com/rms/prof_results.php?zipcode=07670&amp;spec=15&amp;topid=94804\" title=\"Trichotillomania (TTM) Therapists in 07670\">Trichotillomania (TTM) Therapists in 07670</a></li>,\n",
       " <li><a href=\"https://therapists.psychologytoday.com/rms/prof_results.php?zipcode=07670&amp;spec=510&amp;topid=94804\" title=\"Veterans Therapists in 07670\">Veterans Therapists in 07670</a></li>,\n",
       " <li><a href=\"https://therapists.psychologytoday.com/rms/prof_results.php?zipcode=07670&amp;spec=262&amp;topid=94804\" title=\"Weight Loss Therapists in 07670\">Weight Loss Therapists in 07670</a></li>,\n",
       " <li>\n",
       " <a class=\"footerNavItem first\" href=\"https://therapists.psychologytoday.com/rms/content/about.html\">About</a>\n",
       " </li>,\n",
       " <li><a class=\"footerNavItem first\" href=\"https://therapists.psychologytoday.com/us/careers\">Careers</a></li>,\n",
       " <li>\n",
       " <a class=\"footerNavItem\" href=\"https://therapists.psychologytoday.com/rms/content/privacy.html\">Privacy</a>\n",
       " </li>,\n",
       " <li>\n",
       " <a class=\"footerNavItem\" href=\"https://therapists.psychologytoday.com/rms/content/terms.html\">Terms</a>\n",
       " </li>]"
      ]
     },
     "execution_count": 1131,
     "metadata": {},
     "output_type": "execute_result"
    }
   ],
   "source": [
    "individuals = [i for i in all_lis.t]\n"
   ]
  },
  {
   "cell_type": "code",
   "execution_count": null,
   "metadata": {
    "collapsed": true
   },
   "outputs": [],
   "source": []
  }
 ],
 "metadata": {
  "kernelspec": {
   "display_name": "Python 3",
   "language": "python",
   "name": "python3"
  },
  "language_info": {
   "codemirror_mode": {
    "name": "ipython",
    "version": 3
   },
   "file_extension": ".py",
   "mimetype": "text/x-python",
   "name": "python",
   "nbconvert_exporter": "python",
   "pygments_lexer": "ipython3",
   "version": "3.6.1"
  }
 },
 "nbformat": 4,
 "nbformat_minor": 2
}
