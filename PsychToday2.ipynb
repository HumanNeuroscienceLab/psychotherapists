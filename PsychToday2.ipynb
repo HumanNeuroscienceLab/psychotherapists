{
 "cells": [
  {
   "cell_type": "code",
   "execution_count": 36,
   "metadata": {
    "collapsed": true
   },
   "outputs": [],
   "source": [
    "from bs4 import BeautifulSoup\n",
    "import requests, re, time, random, csv"
   ]
  },
  {
   "cell_type": "code",
   "execution_count": 28,
   "metadata": {},
   "outputs": [],
   "source": [
    "headers = {\n",
    "    'Connection': 'keep-alive',\n",
    "    'Access-Control-Request-Headers': 'content-type',\n",
    "    'Accept': '*/*',\n",
    "    'User-Agent': 'Mozilla/5.0 (Macintosh; Intel Mac OS X 10_12_3) AppleWebKit/537.36 (KHTML, like Gecko) Chrome/58.0.3029.110 Safari/537.36'\n",
    "}\n",
    "# !!!!!!!!!!!!!!!!!!!!!!!!!!!!!!!!!!!!!!!!!!!!!!!!!!!!!!!!!!!!!!!!!!!!!!!!!!!!!!!1\n",
    "# Specify the zip below !\n",
    "myzip = ['11205']\n",
    "# Specify the core url for one page of reviews for that zipcode:\n",
    "longurl = 'https://therapists.psychologytoday.com/rms/prof_results.php?sid=1508110622.8452_29222&zipcode=11205&rec_next='\n",
    "# !!!!!!!!!!!!!!!!!!!!!!!!!!!!!!!!!!!!!!!!!!!!!!!!!!!!!!!!!!!!!!!!!!!!!!!!!!!!!!!1\n",
    "\n",
    "# My start url:\n",
    "zipurl = 'https://therapists.psychologytoday.com/rms/prof_results.php?search=' + str(myzip[0])\n",
    "response_zip = requests.get(zipurl, headers=headers).text\n",
    "soup_zip = BeautifulSoup(response_zip, 'html.parser')\n",
    "\n",
    "# Manually construct the list of urls for ALL available search result pages in that tip - 20 therapists per page:\n",
    "\n",
    "pages_url_list = []\n",
    "i = 1\n",
    "while True:\n",
    "    myurl = longurl +str(i)\n",
    "    \n",
    "    response = requests.get(myurl, headers=headers).text\n",
    "    soup = BeautifulSoup(response, 'html.parser')\n",
    "    alert = soup.find('div', attrs={'class': 'alert-alert'})\n",
    "    if alert is None:\n",
    "        i = i + 20\n",
    "        pages_url_list.append(myurl)\n",
    "        # time.sleep(random.randint(1,2))\n",
    "    else:\n",
    "        break"
   ]
  },
  {
   "cell_type": "code",
   "execution_count": 29,
   "metadata": {},
   "outputs": [
    {
     "name": "stdout",
     "output_type": "stream",
     "text": [
      "['https://therapists.psychologytoday.com/rms/prof_results.php?sid=1508110622.8452_29222&zipcode=11205&rec_next=1', 'https://therapists.psychologytoday.com/rms/prof_results.php?sid=1508110622.8452_29222&zipcode=11205&rec_next=21', 'https://therapists.psychologytoday.com/rms/prof_results.php?sid=1508110622.8452_29222&zipcode=11205&rec_next=41']\n",
      "3\n"
     ]
    }
   ],
   "source": [
    "print(pages_url_list)  # This list contains URLs of all pages that contain therapists found for this zip\n",
    "print(len(pages_url_list))"
   ]
  },
  {
   "cell_type": "code",
   "execution_count": 31,
   "metadata": {},
   "outputs": [
    {
     "name": "stdout",
     "output_type": "stream",
     "text": [
      "51\n"
     ]
    }
   ],
   "source": [
    "# Loop through all urls found above (for pages of therapist search for that zip) and \n",
    "# create a list of urls - one for each psychotherapist:\n",
    "\n",
    "therapist_urls = []\n",
    "for url in pages_url_list:\n",
    "    response = requests.get(url, headers = headers).text\n",
    "    soup = BeautifulSoup(response, 'html.parser')\n",
    "    therapists = soup.find_all('a', {'class': \"result-name\"})\n",
    "    for i in range(len(therapists)):\n",
    "        therapist_urls.append(therapists[i][\"href\"])\n",
    "        # time.sleep(random.randint(1,2))\n",
    "print(len(therapist_urls))\n",
    "# print(therapist_urls)"
   ]
  },
  {
   "cell_type": "code",
   "execution_count": 78,
   "metadata": {},
   "outputs": [
    {
     "name": "stdout",
     "output_type": "stream",
     "text": [
      "['https://therapists.psychologytoday.com/rms/prof_detail.php?profid=177457&rec_next=1&ref=5&sid=1508110622.8452_29222&zipcode=11205&tr=ResultsName', 'https://therapists.psychologytoday.com/rms/prof_detail.php?profid=173333&rec_next=1&ref=6&sid=1508110622.8452_29222&zipcode=11205&tr=ResultsName', 'https://therapists.psychologytoday.com/rms/prof_detail.php?profid=159172&rec_next=1&ref=7&sid=1508110622.8452_29222&zipcode=11205&tr=ResultsName']\n"
     ]
    }
   ],
   "source": [
    "temp = therapist_urls[4:7]\n",
    "print(temp)"
   ]
  },
  {
   "cell_type": "code",
   "execution_count": 81,
   "metadata": {},
   "outputs": [],
   "source": [
    "def scrape_single_page(onetherapist, csvwriter):\n",
    "    dic = {}\n",
    "    \n",
    "    # Write down the zip defined above:\n",
    "    myzip = '11205'\n",
    "    \n",
    "    # Grab qualifications of one therapist\n",
    "    qualif_div = one_therap.find('div', {'class': \"profile-qualifications\"})\n",
    "    allqualif = qualif_div.find_all('li')   # they are saved in 'li'\n",
    "\n",
    "    # Collecting Years in Practice:\n",
    "    years_check = [i.text.split('\\n')[2].strip() for i in allqualif if \"Years in Practice\" in i.text]\n",
    "    if len(years_check) > 0:\n",
    "        years_in_practice = years_check[0].replace(' Years', '')\n",
    "    else:\n",
    "        years_in_practice = ''\n",
    "    \n",
    "    # Collecting School:\n",
    "    school_check = [i.text.split('\\n')[2].strip() for i in allqualif if \"School\" in i.text]\n",
    "    if len(school_check) > 0:\n",
    "        school = school_check[0]\n",
    "        school = re.sub(r'\\([^)]*\\)', '', school).strip()\n",
    "        school = school.replace(' ', '_').lower()\n",
    "    else:\n",
    "        school = ''\n",
    "    \n",
    "    # Collecting Year Graduated:\n",
    "    yeargrad_check = [i.text.split('\\n')[2].strip() for i in allqualif if \"Year Graduated\" in i.text]\n",
    "    if len(yeargrad_check) > 0:\n",
    "        yeargrad = int(yeargrad_check[0])\n",
    "    else:\n",
    "        yeargrad = ''\n",
    "    \n",
    "    # Collecting Board Certification:\n",
    "    board_check = [i.text.split('\\n')[2].strip() for i in allqualif if \"Board Certification\" in i.text]\n",
    "    if len(board_check) > 0:\n",
    "        board_certif = 1\n",
    "    else:\n",
    "        board_certif = 0\n",
    "    \n",
    "    # Collecting License number & State:\n",
    "    license_check = [i.text.split('\\n')[2].strip() for i in allqualif if \"License No. and State\" in i.text]\n",
    "    if len(license_check) > 0:\n",
    "        license = license_check[0].split()[0]\n",
    "        license_state = \" \".join(license_check[0].split()[1:])\n",
    "    else:\n",
    "        license = ''\n",
    "        license_state = ''\n",
    "    \n",
    "    # Grabbing all his/her titles:\n",
    "    titles = one_therap.find('div', {'class': \"profile-title\"}).text.strip()\n",
    "    titles = titles.replace(\"\\n\", \"\")\n",
    "    titles = titles.replace('/', '_').strip()\n",
    "    titles = titles.replace(', ', ',')\n",
    "    titles = titles.replace(' ', '_')\n",
    "    titles = titles.replace(',', ', ')\n",
    "    \n",
    "    # Grabbing financial info:\n",
    "    finances = one_therap.find('div', {'class': \"profile-finances\"})\n",
    "    if finances == None:\n",
    "        per_session = ''\n",
    "        sliding = ''\n",
    "        insurance_yes = ''\n",
    "        payment_methods = ''\n",
    "    else:\n",
    "        # Grabbing several financial metrics:\n",
    "        lis = finances.find_all('li')\n",
    "        \n",
    "        # Grab cost per session:\n",
    "        persession_check = [i.text.split(': ')[1].strip() for i in lis if \"Avg Cost (per session)\" in i.text]\n",
    "        if len(persession_check) > 0:\n",
    "            per_session = persession_check[0].replace('$', '')\n",
    "            per_session = per_session.replace(' ', '')\n",
    "        else:\n",
    "            per_session = ''\n",
    "            \n",
    "        # Grab sliding scale (1 = yes, 0 = no):\n",
    "        sliding_check = [i.text.split(': ')[1].strip() for i in lis if \"Sliding Scale\" in i.text]\n",
    "        if len(sliding_check) > 0:\n",
    "            sliding = 1\n",
    "        else:\n",
    "            sliding = 0\n",
    "        \n",
    "        # Grab Accepts Insurance - yes or no:\n",
    "        insur_check = [i.text.split(': ')[1].strip() for i in lis if \"Accepts Insurance\" in i.text]\n",
    "        if len(insur_check) > 0:\n",
    "            insurance_yes = 1   # insur_check[0]\n",
    "        else:\n",
    "            insurance_yes = 0    # ''\n",
    "        \n",
    "        # Grab Methods of Payment:\n",
    "        # payment_check = [i.text for i in lis if \"Accepted Payment Methods\" in i.text]\n",
    "        payment_check = [i.text.split('\\n')[2].strip().split(',') for i in lis if \"Accepted Payment Methods\" in i.text]\n",
    "        if len(payment_check) == 0:\n",
    "            payment_methods = ''\n",
    "        else:\n",
    "            payment_methods = [item for sublist in payment_check for item in sublist]\n",
    "            for index, item in enumerate(payment_methods):\n",
    "                out = item.strip().lower()\n",
    "                out = out.replace(\" \", \"_\")\n",
    "                payment_methods[index] = out\n",
    "        payment_methods = ', '.join(payment_methods)\n",
    "\n",
    "    \n",
    "    dic['zipcode'] = myzip\n",
    "    dic['years_in_practice'] = years_in_practice  #.encode('utf-8', 'ignore')\n",
    "    dic['school'] = school\n",
    "    dic['yeargrad'] = yeargrad\n",
    "    dic['board_certif'] = board_certif\n",
    "    dic['license'] = license\n",
    "    dic['license_state'] = license_state\n",
    "    dic['titles'] = titles\n",
    "    dic['per_session'] = per_session\n",
    "    dic['per_session'] = per_session\n",
    "    dic['sliding'] = sliding\n",
    "    dic['insurance_yes'] = insurance_yes\n",
    "    dic['payment_methods'] = payment_methods\n",
    "#     dic[''] = \n",
    "#     dic[''] = \n",
    "    csvwriter.writerow(dic.values())"
   ]
  },
  {
   "cell_type": "code",
   "execution_count": 82,
   "metadata": {},
   "outputs": [
    {
     "name": "stdout",
     "output_type": "stream",
     "text": [
      "Finished url 1\n",
      "Finished url 2\n",
      "Finished url 3\n"
     ]
    }
   ],
   "source": [
    "with open('zip_11205.csv', 'w') as csvfile:\n",
    "    therapist_writer = csv.writer(csvfile)\n",
    "    for index, url in enumerate(temp):  # therapist_urls\n",
    "        response_one = requests.get(url, headers = headers).text\n",
    "        one_therap = BeautifulSoup(response_one, 'html.parser')\n",
    "        scrape_single_page(one_therap, therapist_writer)\n",
    "        # Random sleep to avoid getting banned from the server\n",
    "        time.sleep(random.randint(1,2))\n",
    "        # Log the progress\n",
    "        print('Finished url ' + str(index + 1))"
   ]
  },
  {
   "cell_type": "code",
   "execution_count": 990,
   "metadata": {},
   "outputs": [
    {
     "data": {
      "text/plain": [
       "'https://therapists.psychologytoday.com/rms/prof_detail.php?profid=110966&rec_next=1&ref=2&sid=1507757611.7036_14284&zipcode=07670&tr=ResultsName'"
      ]
     },
     "execution_count": 990,
     "metadata": {},
     "output_type": "execute_result"
    }
   ],
   "source": [
    "# For a single therapist, parse his/her page:\n",
    "ter = 1\n",
    "response_one = requests.get(therapist_urls[ter], headers=headers).text\n",
    "one_therap = BeautifulSoup(response_one, 'html.parser')\n",
    "therapist_urls[ter]"
   ]
  },
  {
   "cell_type": "code",
   "execution_count": 991,
   "metadata": {
    "collapsed": true
   },
   "outputs": [],
   "source": [
    "# Grab qualifications of one therapist\n",
    "qualif_div = one_therap.find('div', {'class': \"profile-qualifications\"})\n",
    "allqualif = qualif_div.find_all('li')   # they are saved in 'li'\n",
    "# allqualif"
   ]
  },
  {
   "cell_type": "code",
   "execution_count": 992,
   "metadata": {
    "collapsed": true
   },
   "outputs": [],
   "source": [
    "# Collecting Years in Practice:\n",
    "\n",
    "years_check = [i.text.split('\\n')[2].strip() for i in allqualif if \"Years in Practice\" in i.text]\n",
    "if len(years_check) > 0:\n",
    "    years_in_practice = years_check[0].replace(' Years', '')\n",
    "else:\n",
    "    years_in_practice = ''"
   ]
  },
  {
   "cell_type": "code",
   "execution_count": 993,
   "metadata": {},
   "outputs": [
    {
     "data": {
      "text/plain": [
       "'21'"
      ]
     },
     "execution_count": 993,
     "metadata": {},
     "output_type": "execute_result"
    }
   ],
   "source": [
    "years_in_practice"
   ]
  },
  {
   "cell_type": "code",
   "execution_count": 994,
   "metadata": {
    "collapsed": true
   },
   "outputs": [],
   "source": [
    "# Collecting School:\n",
    "\n",
    "school_check = [i.text.split('\\n')[2].strip() for i in allqualif if \"School\" in i.text]\n",
    "if len(school_check) > 0:\n",
    "    school = school_check[0]\n",
    "    school = re.sub(r'\\([^)]*\\)', '', school).strip()\n",
    "    school = school.replace(' ', '_').lower()\n",
    "else:\n",
    "    school = ''"
   ]
  },
  {
   "cell_type": "code",
   "execution_count": 995,
   "metadata": {},
   "outputs": [
    {
     "data": {
      "text/plain": [
       "'hofstra_university'"
      ]
     },
     "execution_count": 995,
     "metadata": {},
     "output_type": "execute_result"
    }
   ],
   "source": [
    "school"
   ]
  },
  {
   "cell_type": "code",
   "execution_count": 996,
   "metadata": {
    "collapsed": true
   },
   "outputs": [],
   "source": [
    "# Collecting Year Graduated:\n",
    "\n",
    "yeargrad_check = [i.text.split('\\n')[2].strip() for i in allqualif if \"Year Graduated\" in i.text]\n",
    "if len(yeargrad_check) > 0:\n",
    "    yeargrad = int(yeargrad_check[0])\n",
    "else:\n",
    "    yeargrad = ''"
   ]
  },
  {
   "cell_type": "code",
   "execution_count": 997,
   "metadata": {},
   "outputs": [
    {
     "data": {
      "text/plain": [
       "1994"
      ]
     },
     "execution_count": 997,
     "metadata": {},
     "output_type": "execute_result"
    }
   ],
   "source": [
    "yeargrad"
   ]
  },
  {
   "cell_type": "code",
   "execution_count": 998,
   "metadata": {
    "collapsed": true
   },
   "outputs": [],
   "source": [
    "# Collecting Board Certification:\n",
    "\n",
    "board_check = [i.text.split('\\n')[2].strip() for i in allqualif if \"Board Certification\" in i.text]\n",
    "if len(board_check) > 0:\n",
    "    board_certif = 1\n",
    "else:\n",
    "    board_certif = 0"
   ]
  },
  {
   "cell_type": "code",
   "execution_count": 999,
   "metadata": {},
   "outputs": [
    {
     "data": {
      "text/plain": [
       "0"
      ]
     },
     "execution_count": 999,
     "metadata": {},
     "output_type": "execute_result"
    }
   ],
   "source": [
    "board_certif"
   ]
  },
  {
   "cell_type": "code",
   "execution_count": 1000,
   "metadata": {
    "collapsed": true
   },
   "outputs": [],
   "source": [
    "# Collecting License number & State:\n",
    "\n",
    "license_check = [i.text.split('\\n')[2].strip() for i in allqualif if \"License No. and State\" in i.text]\n",
    "if len(license_check) > 0:\n",
    "    # license = license_check[0]\n",
    "    license = license_check[0].split()[0]\n",
    "    license_state = \" \".join(license_check[0].split()[1:])\n",
    "else:\n",
    "    license = ''\n",
    "    license_state = ''"
   ]
  },
  {
   "cell_type": "code",
   "execution_count": 1001,
   "metadata": {},
   "outputs": [
    {
     "name": "stdout",
     "output_type": "stream",
     "text": [
      "35SI00540200\n",
      "New Jersey\n"
     ]
    }
   ],
   "source": [
    "print(license)\n",
    "print(license_state)"
   ]
  },
  {
   "cell_type": "code",
   "execution_count": 1002,
   "metadata": {
    "collapsed": true
   },
   "outputs": [],
   "source": [
    "# Grabbing all titles of one therapist\n",
    "titles = one_therap.find('div', {'class': \"profile-title\"}).text.strip()\n",
    "titles = titles.replace(\"\\n\", \"\")\n",
    "titles = titles.replace('/', '_').strip()\n",
    "titles = titles.replace(', ', ',')\n",
    "titles = titles.replace(' ', '_')\n",
    "titles = titles.replace(',', ', ')"
   ]
  },
  {
   "cell_type": "code",
   "execution_count": 1003,
   "metadata": {},
   "outputs": [
    {
     "data": {
      "text/plain": [
       "'Psychologist, PhD'"
      ]
     },
     "execution_count": 1003,
     "metadata": {},
     "output_type": "execute_result"
    }
   ],
   "source": [
    "titles"
   ]
  },
  {
   "cell_type": "code",
   "execution_count": 1004,
   "metadata": {
    "collapsed": true
   },
   "outputs": [],
   "source": [
    "# Grabbing financial info:\n",
    "finances = one_therap.find('div', {'class': \"profile-finances\"})\n",
    "# Grabbing several financial metrics:\n",
    "lis = finances.find_all('li')\n",
    "# print(lis)"
   ]
  },
  {
   "cell_type": "code",
   "execution_count": 1005,
   "metadata": {
    "collapsed": true
   },
   "outputs": [],
   "source": [
    "# Grab cost per session:\n",
    "\n",
    "persession_check = [i.text.split(': ')[1].strip() for i in lis if \"Avg Cost (per session)\" in i.text]\n",
    "\n",
    "if len(persession_check) > 0:\n",
    "    per_session = persession_check[0].replace('$', '')\n",
    "    per_session = per_session.replace(' ', '')\n",
    "else:\n",
    "    per_session = ''"
   ]
  },
  {
   "cell_type": "code",
   "execution_count": 1006,
   "metadata": {},
   "outputs": [
    {
     "data": {
      "text/plain": [
       "'150+'"
      ]
     },
     "execution_count": 1006,
     "metadata": {},
     "output_type": "execute_result"
    }
   ],
   "source": [
    "per_session"
   ]
  },
  {
   "cell_type": "code",
   "execution_count": 1007,
   "metadata": {
    "collapsed": true
   },
   "outputs": [],
   "source": [
    "# Grab sliding scale - yes or no:\n",
    "\n",
    "sliding_check = [i.text.split(': ')[1].strip() for i in lis if \"Sliding Scale\" in i.text]\n",
    "if len(sliding_check) > 0:\n",
    "     sliding = 1   # sliding_check[0]\n",
    "else:\n",
    "     sliding = 0    #''\n",
    "sliding"
   ]
  },
  {
   "cell_type": "code",
   "execution_count": 1009,
   "metadata": {
    "collapsed": true
   },
   "outputs": [],
   "source": [
    "# Grab Accepts Insurance - yes or no:\n",
    "\n",
    "insur_check = [i.text.split(': ')[1].strip() for i in lis if \"Accepts Insurance\" in i.text]\n",
    "if len(insur_check) > 0:\n",
    "     insurance_yes = 1   # insur_check[0]\n",
    "else:\n",
    "     insurance_yes = 0    # ''\n",
    "insurance_yes"
   ]
  },
  {
   "cell_type": "code",
   "execution_count": 1011,
   "metadata": {},
   "outputs": [
    {
     "data": {
      "text/plain": [
       "'ach_bank_transfer, cash, check'"
      ]
     },
     "execution_count": 1011,
     "metadata": {},
     "output_type": "execute_result"
    }
   ],
   "source": [
    "# Grab Methods of Payment:\n",
    "\n",
    "payment_check = [i.text for i in lis if \"Accepted Payment Methods\" in i.text]\n",
    "payment_check = [i.text.split('\\n')[2].strip().split(',') for i in lis if \"Accepted Payment Methods\" in i.text]\n",
    "if len(payment_check) == 0:\n",
    "    payment_methods = ''\n",
    "else:\n",
    "    payment_methods = [item for sublist in payment_check for item in sublist]\n",
    "    # print(payment_check)\n",
    "    # print(len(payment_check))\n",
    "    for index, item in enumerate(payment_methods):\n",
    "        out = item.strip().lower()\n",
    "        out = out.replace(\" \", \"_\")\n",
    "        payment_methods[index] = out\n",
    "payment_methods = ', '.join(payment_methods)\n",
    "payment_methods"
   ]
  },
  {
   "cell_type": "code",
   "execution_count": 1083,
   "metadata": {},
   "outputs": [
    {
     "data": {
      "text/plain": [
       "'cigna, out_of_network'"
      ]
     },
     "execution_count": 1083,
     "metadata": {},
     "output_type": "execute_result"
    }
   ],
   "source": [
    "# Grab Accepted Insurance Plans:\n",
    "\n",
    "long = one_therap.find_all('div', {'class': \"col-xs-12 col-sm-6 col-md-6 col-lg-6 col-tight-right\"})\n",
    "if len(long) > 0:\n",
    "    result = []\n",
    "    for i in long:\n",
    "        result.extend(i.find_all('li'))\n",
    "    plans = []\n",
    "    for i in range(len(result)):\n",
    "        out = result[i].text\n",
    "        out = re.sub(r'\\([^)]*\\)', '', out)\n",
    "        out = out.replace(' ', '_')\n",
    "        out = out.replace('-', '_')\n",
    "        plans.append(out)   # plans.append(result[i].text)\n",
    "    plans = ', '.join(plans).lower()\n",
    "else:\n",
    "    plans = ''\n",
    "plans"
   ]
  },
  {
   "cell_type": "code",
   "execution_count": 1120,
   "metadata": {
    "collapsed": true
   },
   "outputs": [],
   "source": [
    "# Grab specialties:\n",
    "\n",
    "spec_check = one_therap.find_all('li', {'class': \"highlight\"})\n",
    "if len(spec_check) == 0:\n",
    "    specialties = ''\n",
    "else:\n",
    "    specialties = []\n",
    "    for i in range(len(spec_check)):\n",
    "        out = spec_check[i].text.replace(', ', '_')\n",
    "        out = out.replace(' ', '_').lower()\n",
    "        specialties.append(out)\n",
    "    specialties = \", \".join(specialties)"
   ]
  },
  {
   "cell_type": "code",
   "execution_count": 1121,
   "metadata": {},
   "outputs": [
    {
     "data": {
      "text/plain": [
       "'trauma_and_ptsd, grief, emotional_disturbance'"
      ]
     },
     "execution_count": 1121,
     "metadata": {},
     "output_type": "execute_result"
    }
   ],
   "source": [
    "specialties"
   ]
  },
  {
   "cell_type": "code",
   "execution_count": 1122,
   "metadata": {},
   "outputs": [
    {
     "data": {
      "text/plain": [
       "'adoption, anxiety, behavioral_issues, bipolar_disorder, borderline_personality, chronic_pain, codependency, coping_skills, depression, divorce, domestic_abuse, eating_disorders, family_conflict, narcissistic_personality, obsessive_compulsive, parenting, peer_relationships, relationship_issues, self_esteem, self_harming, sexual_abuse, sleep_or_insomnia, spirituality, suicidal_ideation, transgender, weight_loss, dissociative_disorders, mood_disorders, personality_disorders, bisexual, gay, lesbian'"
      ]
     },
     "execution_count": 1122,
     "metadata": {},
     "output_type": "execute_result"
    }
   ],
   "source": [
    "# Grab issues:\n",
    "import re\n",
    "issues_check = one_therap.find_all('div', {'class': 'col-xs-12 col-sm-12 col-md-6 col-lg-6'})\n",
    "if len(issues_check) == 0:\n",
    "    issues = ''\n",
    "else:\n",
    "    result = []\n",
    "    for i in issues_check:\n",
    "        result.extend(i.find_all('li'))\n",
    "\n",
    "    issues = []\n",
    "    for i in range(len(result)):\n",
    "        out = result[i].text.strip()\n",
    "        out = re.sub(r'\\([^)]*\\)', '', out)\n",
    "        out = re.sub(r' $', '', out)\n",
    "        out = out.replace(', ', '_')\n",
    "        out = out.replace('-', '_')\n",
    "        out = out.replace('\\'', '')\n",
    "        out = out.replace(' ', '_').lower()\n",
    "        issues.append(out)\n",
    "    issues = \", \".join(issues)\n",
    "issues"
   ]
  },
  {
   "cell_type": "code",
   "execution_count": 1123,
   "metadata": {},
   "outputs": [
    {
     "data": {
      "text/plain": [
       "['Adolescents / Teenagers (14 to 19)', 'Adults', 'Elders (65+)']"
      ]
     },
     "execution_count": 1123,
     "metadata": {},
     "output_type": "execute_result"
    }
   ],
   "source": [
    "# Grab preferred ages:\n",
    " \n",
    "# In rare cases when no specialties were selected, we need to grab the 3rd, not the 4th element:\n",
    "if specialties == '':\n",
    "    age_check = one_therap.find_all('div', {'class': 'col-xs-12 col-sm-12 col-md-12 col-lg-12'})[2]\n",
    "else:\n",
    "    age_check = one_therap.find_all('div', {'class': 'col-xs-12 col-sm-12 col-md-12 col-lg-12'})[3]\n",
    "len(age_check)\n",
    "age_check\n",
    "\n",
    "age_lis = age_check.find_all('li')\n",
    "\n",
    "ages = []\n",
    "for i in age_lis:\n",
    "    ages.append(i.text)\n",
    "\n",
    "# Creating values for age categories:\n",
    "\n",
    "# Age - toddlers:\n",
    "if \"Toddlers / Preschoolers (0 to 6)\" in ages:\n",
    "    age_toddlers = 1\n",
    "else:\n",
    "    age_toddlers = 0\n",
    "\n",
    "# Age - children:\n",
    "if \"Children (6 to 10)\" in ages:\n",
    "    age_children = 1\n",
    "else:\n",
    "    age_children = 0\n",
    "    \n",
    "# Age - preteens:\n",
    "if \"Preteens / Tweens (11 to 13)\" in ages:\n",
    "    age_preteens = 1\n",
    "else:\n",
    "    age_preteens = 0\n",
    "\n",
    "# Age - teens:\n",
    "if \"Adolescents / Teenagers (14 to 19)\" in ages:\n",
    "    age_teens = 1\n",
    "else:\n",
    "    age_teens = 0\n",
    "\n",
    "# Age - adults:\n",
    "if \"Adults\" in ages:\n",
    "    age_adults = 1\n",
    "else:\n",
    "    age_adults = 0\n",
    "\n",
    "# Age - elders:\n",
    "if \"Elders (65+)\" in ages:\n",
    "    age_elders = 1\n",
    "else:\n",
    "    age_elders = 0\n",
    "ages"
   ]
  },
  {
   "cell_type": "code",
   "execution_count": 1124,
   "metadata": {},
   "outputs": [
    {
     "name": "stdout",
     "output_type": "stream",
     "text": [
      "0\n",
      "0\n",
      "0\n",
      "1\n",
      "1\n",
      "1\n"
     ]
    }
   ],
   "source": [
    "print(age_toddlers)\n",
    "print(age_children)\n",
    "print(age_preteens)\n",
    "print(age_teens)\n",
    "print(age_adults)\n",
    "print(age_elders)"
   ]
  },
  {
   "cell_type": "code",
   "execution_count": 1125,
   "metadata": {},
   "outputs": [
    {
     "data": {
      "text/plain": [
       "3"
      ]
     },
     "execution_count": 1125,
     "metadata": {},
     "output_type": "execute_result"
    }
   ],
   "source": [
    "agesum = age_toddlers+age_children+age_preteens+age_teens+age_adults+age_elders\n",
    "agesum"
   ]
  },
  {
   "cell_type": "code",
   "execution_count": 1126,
   "metadata": {},
   "outputs": [
    {
     "name": "stdout",
     "output_type": "stream",
     "text": [
      "['Bisexual Clients', 'Cancer', 'Gay Clients', 'HIV / AIDS Clients', 'Heterosexual Clients', 'Transgender Clients', 'Veterans']\n",
      "7\n"
     ]
    }
   ],
   "source": [
    "# Grab subcategories - h3, class spec-subcat\n",
    "\n",
    "# In rare cases when no specialties were selected, we need to grab the 3rd, not the 4th element:\n",
    "if specialties == '' and agesum == 0:\n",
    "    subcat_check = one_therap.find_all('div', {'class': 'col-xs-12 col-sm-12 col-md-12 col-lg-12'})[2]\n",
    "elif specialties == '' and agesum > 0:\n",
    "    subcat_check = one_therap.find_all('div', {'class': 'col-xs-12 col-sm-12 col-md-12 col-lg-12'})[3]\n",
    "else:\n",
    "    subcat_check = one_therap.find_all('div', {'class': 'col-xs-12 col-sm-12 col-md-12 col-lg-12'})[4]\n",
    "len(subcat_check)\n",
    "subcat_check\n",
    "\n",
    "subcat_lis = subcat_check.find_all('li')\n",
    "\n",
    "subcats = []\n",
    "for i in subcat_lis:\n",
    "    subcats.append(i.text)\n",
    "\n",
    "print(subcats)\n",
    "\n",
    "# Subcategories - Aviation:\n",
    "if \"Aviation Professionals\" in subcats:\n",
    "    sub_pilots = 1\n",
    "else:\n",
    "    sub_pilots = 0\n",
    "\n",
    "# Subcategories - Bisexual:\n",
    "if \"Bisexual Clients\" in subcats:\n",
    "    sub_bisexuals = 1\n",
    "else:\n",
    "    sub_bisexuals = 0\n",
    "\n",
    "# Subcategories - Cancer:\n",
    "if \"Cancer\" in subcats:\n",
    "    sub_cancer = 1\n",
    "else:\n",
    "    sub_cancer = 0\n",
    "\n",
    "# Subcategories - Gays:\n",
    "if \"Gay Clients\" in subcats:\n",
    "    sub_gays = 1\n",
    "else:\n",
    "    sub_gays = 0\n",
    "\n",
    "# Subcategories - HIV:\n",
    "if \"HIV / AIDS Clients\" in subcats:\n",
    "    sub_hiv = 1\n",
    "else:\n",
    "    sub_hiv = 0\n",
    "\n",
    "# Subcategories - Heterosexual:\n",
    "if \"Heterosexual Clients\" in subcats:\n",
    "    sub_heteros = 1\n",
    "else:\n",
    "    sub_heteros = 0\n",
    "\n",
    "# Subcategories - Lesbian:\n",
    "if \"Lesbian Clients\" in subcats:\n",
    "    sub_lesbians = 1\n",
    "else:\n",
    "    sub_lesbians = 0\n",
    "\n",
    "# Subcategories - Transgender:\n",
    "if \"Transgender Clients\" in subcats:\n",
    "    sub_transgender = 1\n",
    "else:\n",
    "    sub_transgender = 0\n",
    "\n",
    "# Subcategories - Veterans:\n",
    "if \"Veterans\" in subcats:\n",
    "    sub_veterans = 1\n",
    "else:\n",
    "    sub_veterans = 0\n",
    "\n",
    "subsum = sub_pilots+sub_bisexuals+sub_cancer+sub_gays+sub_hiv+sub_heteros+sub_lesbians+sub_transgender+sub_veterans\n",
    "print(subsum)"
   ]
  },
  {
   "cell_type": "code",
   "execution_count": 1127,
   "metadata": {
    "scrolled": false
   },
   "outputs": [
    {
     "name": "stdout",
     "output_type": "stream",
     "text": [
      "0\n",
      "1\n",
      "1\n",
      "1\n",
      "1\n",
      "\n",
      "\n",
      "1\n",
      "0\n",
      "1\n",
      "1\n"
     ]
    }
   ],
   "source": [
    "print(sub_pilots)\n",
    "print(sub_bisexuals)\n",
    "print(sub_cancer)\n",
    "print(sub_gays)\n",
    "print(sub_hiv)\n",
    "print('\\n')\n",
    "print(sub_heteros)\n",
    "print(sub_lesbians)\n",
    "print(sub_transgender)\n",
    "print(sub_veterans)"
   ]
  },
  {
   "cell_type": "code",
   "execution_count": 1128,
   "metadata": {
    "collapsed": true
   },
   "outputs": [],
   "source": [
    "age_and_sub_sum = agesum + subsum"
   ]
  },
  {
   "cell_type": "code",
   "execution_count": 1129,
   "metadata": {},
   "outputs": [
    {
     "name": "stdout",
     "output_type": "stream",
     "text": [
      "10\n",
      "attachment_based, cognitive_behavioral, emdr, eclectic, family_marital, humanistic, hypnotherapy, integrative, mindfulness_based, psychoanalytic, psychodynamic, relational, somatic, transpersonal, trauma_focused\n"
     ]
    }
   ],
   "source": [
    "# Grab treatment approaches:\n",
    "age_and_sub_sum = agesum + subsum\n",
    "print(age_and_sub_sum)\n",
    "approach_check = one_therap.find_all('div', {'class': 'col-xs-12 col-sm-12 col-md-12 col-lg-12'})\n",
    "if specialties == '' and age_and_sub_sum == 0:\n",
    "    approach_check = approach_check[2]\n",
    "elif specialties != '' and age_and_sub_sum == 0:\n",
    "    approach_check = approach_check[3]\n",
    "elif specialties == '' and agesum == 0 and subsum > 0:\n",
    "    approach_check = approach_check[3]\n",
    "elif specialties == '' and agesum > 0 and subsum == 0:\n",
    "    approach_check = approach_check[3]\n",
    "elif specialties != '' and agesum == 0  and subsum > 0:\n",
    "    approach_check = approach_check[4]\n",
    "elif specialties != '' and agesum > 0  and subsum == 0:\n",
    "    approach_check = approach_check[4]\n",
    "else:\n",
    "    approach_check = approach_check[5]\n",
    "\n",
    "approach_lis = approach_check.find_all('li')\n",
    "\n",
    "approaches = []\n",
    "for i in approach_lis:\n",
    "    approaches.append(i.text)\n",
    "\n",
    "for i in range(len(approaches)):\n",
    "    out = approaches[i]\n",
    "    out = out.replace(' / ', '_')\n",
    "    out = re.sub(r'\\([^)]*\\)', '', out)\n",
    "    out = re.sub(r' $', '', out)\n",
    "    out = out.strip().replace('-', '_')\n",
    "    out = out.replace('/', '')\n",
    "    out = out.replace('\\'', '')\n",
    "    out = out.replace(' ', '_').lower()\n",
    "    approaches[i] = out\n",
    "approaches = ', '.join(approaches)\n",
    "print(approaches)"
   ]
  },
  {
   "cell_type": "code",
   "execution_count": 1119,
   "metadata": {},
   "outputs": [
    {
     "data": {
      "text/plain": [
       "'https://therapists.psychologytoday.com/rms/prof_detail.php?profid=94804&rec_next=1&ref=4&sid=1507757611.7036_14284&zipcode=07670&tr=ResultsName'"
      ]
     },
     "execution_count": 1119,
     "metadata": {},
     "output_type": "execute_result"
    }
   ],
   "source": [
    "ther = 3\n",
    "response_one = requests.get(therapist_urls[ther], headers=headers).text\n",
    "one_therap = BeautifulSoup(response_one, 'html.parser')\n",
    "therapist_urls[ther]"
   ]
  },
  {
   "cell_type": "code",
   "execution_count": 1138,
   "metadata": {},
   "outputs": [
    {
     "ename": "SyntaxError",
     "evalue": "unexpected EOF while parsing (<ipython-input-1138-bb8d2efcdf57>, line 6)",
     "output_type": "error",
     "traceback": [
      "\u001b[1;36m  File \u001b[1;32m\"<ipython-input-1138-bb8d2efcdf57>\"\u001b[1;36m, line \u001b[1;32m6\u001b[0m\n\u001b[1;33m    print(i.tex\u001b[0m\n\u001b[1;37m               ^\u001b[0m\n\u001b[1;31mSyntaxError\u001b[0m\u001b[1;31m:\u001b[0m unexpected EOF while parsing\n"
     ]
    }
   ],
   "source": [
    "# grab modality\n",
    "all_lis = one_therap.find_all('li')\n",
    "all_lis[0]\n",
    "# texts = []\n",
    "for i in all_lis:\n",
    "    print(i.tex"
   ]
  },
  {
   "cell_type": "code",
   "execution_count": 1131,
   "metadata": {},
   "outputs": [
    {
     "data": {
      "text/plain": [
       "[<li><a href=\"https://therapists.psychologytoday.com/rms/?tr=Header_Menu2\" title=\"Find Therapists\">Therapists</a></li>,\n",
       " <li><a href=\"https://psychiatrists.psychologytoday.com/rms/?tr=Header_Menu2\" title=\"Find Psychiatrists\">Psychiatrists</a></li>,\n",
       " <li><a href=\"https://groups.psychologytoday.com/rms/?tr=Header_Menu2\" title=\"Find Support Groups\">Support Groups</a></li>,\n",
       " <li><a href=\"https://treatment.psychologytoday.com/rms/?tr=Header_Menu2\" title=\"Find Treatment Centers\">Treatment Centers</a></li>,\n",
       " <li><br/><a href=\"https://member.psychologytoday.com/rms-sec/\">Log In</a></li>,\n",
       " <li><a href=\"https://member.psychologytoday.com/therapist/?src=RMSLOG\">Sign Up</a></li>,\n",
       " <li>\n",
       " <a class=\"active\" href=\"https://therapists.psychologytoday.com/rms/prof_detail.php?profid=94804&amp;p=1&amp;sid=1507757611.7036_14284&amp;zipcode=07670&amp;rec_next=1&amp;ref=4\" title=\"About\">About</a>\n",
       " </li>,\n",
       " <li>\n",
       " <a href=\"https://therapists.psychologytoday.com/rms/prof_detail.php?profid=94804&amp;p=5&amp;sid=1507757611.7036_14284&amp;zipcode=07670&amp;rec_next=1&amp;ref=4\" title=\"Groups\">Groups</a>\n",
       " </li>,\n",
       " <li>\n",
       " <a class=\"textNoLink\" href=\"https://therapists.psychologytoday.com/rms/state/NJ/Bergenfield.html\" title=\"Therapists in Bergenfield, NJ\">Bergenfield, NJ</a>\n",
       " </li>,\n",
       " <li>\n",
       " <a class=\"textNoLink\" href=\"https://therapists.psychologytoday.com/rms/state/NJ/Englewood.html\" title=\"Therapists in Englewood, NJ\">Englewood, NJ</a>\n",
       " </li>,\n",
       " <li>\n",
       " <a class=\"textNoLink\" href=\"https://therapists.psychologytoday.com/rms/state/NJ/Tenafly.html\" title=\"Therapists in Tenafly, NJ\">Tenafly, NJ</a>\n",
       " </li>,\n",
       " <li>\n",
       " <a class=\"textNoLink\" href=\"https://therapists.psychologytoday.com/rms/county/NJ/Bergen.html\" title=\"Therapists in Bergen County, NJ\">Bergen</a>\n",
       " </li>,\n",
       " <li>\n",
       " <a class=\"textNoLink\" href=\"https://therapists.psychologytoday.com/rms/zip/07621.html\" title=\"Therapists in 07621\">07621</a>\n",
       " </li>,\n",
       " <li>\n",
       " <a class=\"textNoLink\" href=\"https://therapists.psychologytoday.com/rms/zip/07631.html\" title=\"Therapists in 07631\">07631</a>\n",
       " </li>,\n",
       " <li>\n",
       " <a class=\"textNoLink\" href=\"https://therapists.psychologytoday.com/rms/zip/07670.html\" title=\"Therapists in 07670\">07670</a>\n",
       " </li>,\n",
       " <li>\n",
       " <strong>Years in Practice:</strong>\n",
       "             20+ Years\n",
       "         </li>,\n",
       " <li>\n",
       " <strong>License No. and State:</strong>\n",
       "             37PC00066600 New Jersey\n",
       "         </li>,\n",
       " <li>\n",
       " <strong>Avg Cost (per session):</strong> $160+ \n",
       "             </li>,\n",
       " <li>\n",
       " <strong>Sliding Scale:</strong> Yes\n",
       "             </li>,\n",
       " <li>\n",
       " <strong>Accepted Payment Methods: </strong>\n",
       "                                     Cash,                                     Check                            </li>,\n",
       " <li>Out of Network</li>,\n",
       " <li><strong>Certificate:</strong> Eye Movement Desentization and Reprocessing</li>,\n",
       " <li>\n",
       " <a class=\"textNoLink\" href=\"https://therapists.psychologytoday.com/rms/state/NJ/Bergenfield.html\" title=\"Therapists in Bergenfield, NJ\">Bergenfield, NJ</a>\n",
       " </li>,\n",
       " <li>\n",
       " <a class=\"textNoLink\" href=\"https://therapists.psychologytoday.com/rms/state/NJ/Englewood.html\" title=\"Therapists in Englewood, NJ\">Englewood, NJ</a>\n",
       " </li>,\n",
       " <li>\n",
       " <a class=\"textNoLink\" href=\"https://therapists.psychologytoday.com/rms/state/NJ/Tenafly.html\" title=\"Therapists in Tenafly, NJ\">Tenafly, NJ</a>\n",
       " </li>,\n",
       " <li>\n",
       " <a class=\"textNoLink\" href=\"https://therapists.psychologytoday.com/rms/county/NJ/Bergen.html\" title=\"Therapists in Bergen County, NJ\">Bergen</a>\n",
       " </li>,\n",
       " <li>\n",
       " <a class=\"textNoLink\" href=\"https://therapists.psychologytoday.com/rms/zip/07621.html\" title=\"Therapists in 07621\">07621</a>\n",
       " </li>,\n",
       " <li>\n",
       " <a class=\"textNoLink\" href=\"https://therapists.psychologytoday.com/rms/zip/07631.html\" title=\"Therapists in 07631\">07631</a>\n",
       " </li>,\n",
       " <li>\n",
       " <a class=\"textNoLink\" href=\"https://therapists.psychologytoday.com/rms/zip/07670.html\" title=\"Therapists in 07670\">07670</a>\n",
       " </li>,\n",
       " <li class=\"highlight\">Trauma and PTSD</li>,\n",
       " <li class=\"highlight\">Grief</li>,\n",
       " <li class=\"highlight\">Emotional Disturbance</li>,\n",
       " <li>Adoption</li>,\n",
       " <li>Anxiety</li>,\n",
       " <li>Behavioral Issues</li>,\n",
       " <li>Bipolar Disorder</li>,\n",
       " <li>Borderline Personality</li>,\n",
       " <li>Chronic Pain</li>,\n",
       " <li>Codependency</li>,\n",
       " <li>Coping Skills</li>,\n",
       " <li>Depression</li>,\n",
       " <li>Divorce</li>,\n",
       " <li>Domestic Abuse</li>,\n",
       " <li>Eating Disorders</li>,\n",
       " <li>Family Conflict</li>,\n",
       " <li>Narcissistic Personality</li>,\n",
       " <li>Obsessive-Compulsive (OCD)</li>,\n",
       " <li>Parenting</li>,\n",
       " <li>Peer Relationships</li>,\n",
       " <li>Relationship Issues</li>,\n",
       " <li>Self Esteem</li>,\n",
       " <li>Self-Harming</li>,\n",
       " <li>Sexual Abuse</li>,\n",
       " <li>Sleep or Insomnia</li>,\n",
       " <li>Spirituality</li>,\n",
       " <li>Suicidal Ideation</li>,\n",
       " <li>Transgender</li>,\n",
       " <li>Weight Loss</li>,\n",
       " <li>Dissociative Disorders</li>,\n",
       " <li>Mood Disorders</li>,\n",
       " <li>Personality Disorders</li>,\n",
       " <li>Bisexual</li>,\n",
       " <li>Gay</li>,\n",
       " <li>Lesbian</li>,\n",
       " <li>Adolescents / Teenagers (14 to 19)</li>,\n",
       " <li>Adults</li>,\n",
       " <li>Elders (65+)</li>,\n",
       " <li>Bisexual Clients</li>,\n",
       " <li>Cancer</li>,\n",
       " <li>Gay Clients</li>,\n",
       " <li>HIV / AIDS Clients</li>,\n",
       " <li>Heterosexual Clients</li>,\n",
       " <li>Transgender Clients</li>,\n",
       " <li>Veterans</li>,\n",
       " <li><span data-glossary-id=\"580\" data-ui-type=\"glossary\">Attachment-based</span></li>,\n",
       " <li><span data-glossary-id=\"50\" data-ui-type=\"glossary\">Cognitive Behavioral (CBT)</span></li>,\n",
       " <li><span data-glossary-id=\"19\" data-ui-type=\"glossary\">EMDR</span></li>,\n",
       " <li><span data-glossary-id=\"51\" data-ui-type=\"glossary\">Eclectic</span></li>,\n",
       " <li><span data-glossary-id=\"54\" data-ui-type=\"glossary\">Family / Marital</span></li>,\n",
       " <li><span data-glossary-id=\"21\" data-ui-type=\"glossary\">Humanistic</span></li>,\n",
       " <li><span data-glossary-id=\"96\" data-ui-type=\"glossary\">Hypnotherapy</span></li>,\n",
       " <li><span data-glossary-id=\"585\" data-ui-type=\"glossary\">Integrative</span></li>,\n",
       " <li><span data-glossary-id=\"97\" data-ui-type=\"glossary\">Mindfulness-based (MBCT)</span></li>,\n",
       " <li><span data-glossary-id=\"22\" data-ui-type=\"glossary\">Psychoanalytic</span></li>,\n",
       " <li><span data-glossary-id=\"23\" data-ui-type=\"glossary\">Psychodynamic</span></li>,\n",
       " <li><span data-glossary-id=\"98\" data-ui-type=\"glossary\">Relational</span></li>,\n",
       " <li><span data-glossary-id=\"579\" data-ui-type=\"glossary\">Somatic</span></li>,\n",
       " <li><span data-glossary-id=\"25\" data-ui-type=\"glossary\">Transpersonal</span></li>,\n",
       " <li><span data-glossary-id=\"581\" data-ui-type=\"glossary\">Trauma Focused</span></li>,\n",
       " <li>Individuals</li>,\n",
       " <li>Couples</li>,\n",
       " <li>Family</li>,\n",
       " <li>\n",
       " <a class=\"textNoLink\" href=\"https://therapists.psychologytoday.com/rms/state/NJ/Bergenfield.html\" title=\"Therapists in Bergenfield, NJ\">Bergenfield, NJ</a>\n",
       " </li>,\n",
       " <li>\n",
       " <a class=\"textNoLink\" href=\"https://therapists.psychologytoday.com/rms/state/NJ/Englewood.html\" title=\"Therapists in Englewood, NJ\">Englewood, NJ</a>\n",
       " </li>,\n",
       " <li>\n",
       " <a class=\"textNoLink\" href=\"https://therapists.psychologytoday.com/rms/state/NJ/Tenafly.html\" title=\"Therapists in Tenafly, NJ\">Tenafly, NJ</a>\n",
       " </li>,\n",
       " <li>\n",
       " <a class=\"textNoLink\" href=\"https://therapists.psychologytoday.com/rms/county/NJ/Bergen.html\" title=\"Therapists in Bergen County, NJ\">Bergen</a>\n",
       " </li>,\n",
       " <li>\n",
       " <a class=\"textNoLink\" href=\"https://therapists.psychologytoday.com/rms/zip/07621.html\" title=\"Therapists in 07621\">07621</a>\n",
       " </li>,\n",
       " <li>\n",
       " <a class=\"textNoLink\" href=\"https://therapists.psychologytoday.com/rms/zip/07631.html\" title=\"Therapists in 07631\">07631</a>\n",
       " </li>,\n",
       " <li>\n",
       " <a class=\"textNoLink\" href=\"https://therapists.psychologytoday.com/rms/zip/07670.html\" title=\"Therapists in 07670\">07670</a>\n",
       " </li>,\n",
       " <li>The name and contact details of the professional\n",
       "                             </li>,\n",
       " <li>That the professional's license, if applicable, is valid within the state in which he or she practices\n",
       "                             </li>,\n",
       " <li>That the professional is not subject to any license strictures preventing practice\n",
       "                             </li>,\n",
       " <li><a href=\"https://therapists.psychologytoday.com/rms/prof_results.php?city=Tenafly&amp;state=NJ&amp;spec=328&amp;topid=94804\" title=\"65+ Therapists in Tenafly, NJ\">65+ Therapists in Tenafly, NJ</a></li>,\n",
       " <li><a href=\"https://therapists.psychologytoday.com/rms/prof_results.php?city=Tenafly&amp;state=NJ&amp;spec=326&amp;topid=94804\" title=\"Adolescents / Teenagers (14 to 19) Therapists in Tenafly, NJ\">Adolescents / Teenagers (14 to 19) Therapists in Tenafly, NJ</a></li>,\n",
       " <li><a href=\"https://therapists.psychologytoday.com/rms/prof_results.php?city=Tenafly&amp;state=NJ&amp;spec=180&amp;topid=94804\" title=\"Adoption Therapists in Tenafly, NJ\">Adoption Therapists in Tenafly, NJ</a></li>,\n",
       " <li><a href=\"https://therapists.psychologytoday.com/rms/prof_results.php?city=Tenafly&amp;state=NJ&amp;spec=327&amp;topid=94804\" title=\"Adults Therapists in Tenafly, NJ\">Adults Therapists in Tenafly, NJ</a></li>,\n",
       " <li><a href=\"https://therapists.psychologytoday.com/rms/prof_results.php?city=Tenafly&amp;state=NJ&amp;spec=20&amp;topid=94804\" title=\"Amnesia Therapists in Tenafly, NJ\">Amnesia Therapists in Tenafly, NJ</a></li>,\n",
       " <li><a href=\"https://therapists.psychologytoday.com/rms/prof_results.php?city=Tenafly&amp;state=NJ&amp;spec=9&amp;topid=94804\" title=\"Anorexia Therapists in Tenafly, NJ\">Anorexia Therapists in Tenafly, NJ</a></li>,\n",
       " <li><a href=\"https://therapists.psychologytoday.com/rms/prof_results.php?city=Tenafly&amp;state=NJ&amp;spec=3&amp;topid=94804\" title=\"Anxiety Therapists in Tenafly, NJ\">Anxiety Therapists in Tenafly, NJ</a></li>,\n",
       " <li><a href=\"https://therapists.psychologytoday.com/rms/prof_results.php?city=Tenafly&amp;state=NJ&amp;spec=496&amp;topid=94804\" title=\"Attachment-based Therapists in Tenafly, NJ\">Attachment-based Therapists in Tenafly, NJ</a></li>,\n",
       " <li><a href=\"https://therapists.psychologytoday.com/rms/prof_results.php?city=Tenafly&amp;state=NJ&amp;spec=196&amp;topid=94804\" title=\"BPD Therapists in Tenafly, NJ\">BPD Therapists in Tenafly, NJ</a></li>,\n",
       " <li><a href=\"https://therapists.psychologytoday.com/rms/prof_results.php?city=Tenafly&amp;state=NJ&amp;spec=195&amp;topid=94804\" title=\"Behavioral Issues Therapists in Tenafly, NJ\">Behavioral Issues Therapists in Tenafly, NJ</a></li>,\n",
       " <li><a href=\"https://therapists.psychologytoday.com/rms/prof_results.php?city=Tenafly&amp;state=NJ&amp;spec=14&amp;topid=94804\" title=\"Bereavement Therapists in Tenafly, NJ\">Bereavement Therapists in Tenafly, NJ</a></li>,\n",
       " <li><a href=\"https://therapists.psychologytoday.com/rms/prof_results.php?city=Tenafly&amp;state=NJ&amp;spec=168&amp;topid=94804\" title=\"Bipolar Disorder Therapists in Tenafly, NJ\">Bipolar Disorder Therapists in Tenafly, NJ</a></li>,\n",
       " <li><a href=\"https://therapists.psychologytoday.com/rms/prof_results.php?city=Tenafly&amp;state=NJ&amp;spec=271&amp;topid=94804\" title=\"Bisexual Clients Therapists in Tenafly, NJ\">Bisexual Clients Therapists in Tenafly, NJ</a></li>,\n",
       " <li><a href=\"https://therapists.psychologytoday.com/rms/prof_results.php?city=Tenafly&amp;state=NJ&amp;spec=185&amp;topid=94804\" title=\"Bisexual Therapists in Tenafly, NJ\">Bisexual Therapists in Tenafly, NJ</a></li>,\n",
       " <li><a href=\"https://therapists.psychologytoday.com/rms/prof_results.php?city=Tenafly&amp;state=NJ&amp;spec=196&amp;topid=94804\" title=\"Borderline Personality Therapists in Tenafly, NJ\">Borderline Personality Therapists in Tenafly, NJ</a></li>,\n",
       " <li><a href=\"https://therapists.psychologytoday.com/rms/prof_results.php?city=Tenafly&amp;state=NJ&amp;spec=9&amp;topid=94804\" title=\"Bulimia Therapists in Tenafly, NJ\">Bulimia Therapists in Tenafly, NJ</a></li>,\n",
       " <li><a href=\"https://therapists.psychologytoday.com/rms/prof_results.php?city=Tenafly&amp;state=NJ&amp;spec=267&amp;topid=94804\" title=\"Cancer Survivors Therapists in Tenafly, NJ\">Cancer Survivors Therapists in Tenafly, NJ</a></li>,\n",
       " <li><a href=\"https://therapists.psychologytoday.com/rms/prof_results.php?city=Tenafly&amp;state=NJ&amp;spec=267&amp;topid=94804\" title=\"Cancer Therapists in Tenafly, NJ\">Cancer Therapists in Tenafly, NJ</a></li>,\n",
       " <li><a href=\"https://therapists.psychologytoday.com/rms/prof_results.php?city=Tenafly&amp;state=NJ&amp;spec=7&amp;topid=94804\" title=\"Chronic Pain Therapists in Tenafly, NJ\">Chronic Pain Therapists in Tenafly, NJ</a></li>,\n",
       " <li><a href=\"https://therapists.psychologytoday.com/rms/prof_results.php?city=Tenafly&amp;state=NJ&amp;spec=503&amp;topid=94804\" title=\"Codependency Therapists in Tenafly, NJ\">Codependency Therapists in Tenafly, NJ</a></li>,\n",
       " <li><a href=\"https://therapists.psychologytoday.com/rms/prof_results.php?city=Tenafly&amp;state=NJ&amp;spec=293&amp;topid=94804\" title=\"Cognitive Behavioral (CBT) Therapists in Tenafly, NJ\">Cognitive Behavioral (CBT) Therapists in Tenafly, NJ</a></li>,\n",
       " <li><a href=\"https://therapists.psychologytoday.com/rms/prof_results.php?city=Tenafly&amp;state=NJ&amp;spec=249&amp;topid=94804\" title=\"Coping Skills Therapists in Tenafly, NJ\">Coping Skills Therapists in Tenafly, NJ</a></li>,\n",
       " <li><a href=\"https://therapists.psychologytoday.com/rms/prof_results.php?city=Tenafly&amp;state=NJ&amp;spec=287&amp;topid=94804\" title=\"Couples Therapists in Tenafly, NJ\">Couples Therapists in Tenafly, NJ</a></li>,\n",
       " <li><a href=\"https://therapists.psychologytoday.com/rms/prof_results.php?city=Tenafly&amp;state=NJ&amp;spec=283&amp;topid=94804\" title=\"Cutting Therapists in Tenafly, NJ\">Cutting Therapists in Tenafly, NJ</a></li>,\n",
       " <li><a href=\"https://therapists.psychologytoday.com/rms/prof_results.php?city=Tenafly&amp;state=NJ&amp;spec=2&amp;topid=94804\" title=\"Depression Therapists in Tenafly, NJ\">Depression Therapists in Tenafly, NJ</a></li>,\n",
       " <li><a href=\"https://therapists.psychologytoday.com/rms/prof_results.php?city=Tenafly&amp;state=NJ&amp;spec=20&amp;topid=94804\" title=\"Dissociative Disorders Therapists in Tenafly, NJ\">Dissociative Disorders Therapists in Tenafly, NJ</a></li>,\n",
       " <li><a href=\"https://therapists.psychologytoday.com/rms/prof_results.php?city=Tenafly&amp;state=NJ&amp;spec=26&amp;topid=94804\" title=\"Divorce Therapists in Tenafly, NJ\">Divorce Therapists in Tenafly, NJ</a></li>,\n",
       " <li><a href=\"https://therapists.psychologytoday.com/rms/prof_results.php?city=Tenafly&amp;state=NJ&amp;spec=8&amp;topid=94804\" title=\"Domestic Abuse Therapists in Tenafly, NJ\">Domestic Abuse Therapists in Tenafly, NJ</a></li>,\n",
       " <li><a href=\"https://therapists.psychologytoday.com/rms/prof_results.php?city=Tenafly&amp;state=NJ&amp;spec=301&amp;topid=94804\" title=\"EMDR Therapists in Tenafly, NJ\">EMDR Therapists in Tenafly, NJ</a></li>,\n",
       " <li><a href=\"https://therapists.psychologytoday.com/rms/prof_results.php?city=Tenafly&amp;state=NJ&amp;spec=9&amp;topid=94804\" title=\"Eating Disorders Therapists in Tenafly, NJ\">Eating Disorders Therapists in Tenafly, NJ</a></li>,\n",
       " <li><a href=\"https://therapists.psychologytoday.com/rms/prof_results.php?city=Tenafly&amp;state=NJ&amp;spec=295&amp;topid=94804\" title=\"Eclectic Therapists in Tenafly, NJ\">Eclectic Therapists in Tenafly, NJ</a></li>,\n",
       " <li><a href=\"https://therapists.psychologytoday.com/rms/prof_results.php?city=Tenafly&amp;state=NJ&amp;spec=328&amp;topid=94804\" title=\"Elders (65+) Therapists in Tenafly, NJ\">Elders (65+) Therapists in Tenafly, NJ</a></li>,\n",
       " <li><a href=\"https://therapists.psychologytoday.com/rms/prof_results.php?city=Tenafly&amp;state=NJ&amp;spec=198&amp;topid=94804\" title=\"Emotional Disturbance Therapists in Tenafly, NJ\">Emotional Disturbance Therapists in Tenafly, NJ</a></li>,\n",
       " <li><a href=\"https://therapists.psychologytoday.com/rms/prof_results.php?city=Tenafly&amp;state=NJ&amp;spec=296&amp;topid=94804\" title=\"Family / Marital Therapists in Tenafly, NJ\">Family / Marital Therapists in Tenafly, NJ</a></li>,\n",
       " <li><a href=\"https://therapists.psychologytoday.com/rms/prof_results.php?city=Tenafly&amp;state=NJ&amp;spec=200&amp;topid=94804\" title=\"Family Conflict Therapists in Tenafly, NJ\">Family Conflict Therapists in Tenafly, NJ</a></li>,\n",
       " <li><a href=\"https://therapists.psychologytoday.com/rms/prof_results.php?city=Tenafly&amp;state=NJ&amp;spec=288&amp;topid=94804\" title=\"Family Therapists in Tenafly, NJ\">Family Therapists in Tenafly, NJ</a></li>,\n",
       " <li><a href=\"https://therapists.psychologytoday.com/rms/prof_results.php?city=Tenafly&amp;state=NJ&amp;spec=3&amp;topid=94804\" title=\"Fears Therapists in Tenafly, NJ\">Fears Therapists in Tenafly, NJ</a></li>,\n",
       " <li><a href=\"https://therapists.psychologytoday.com/rms/prof_results.php?city=Tenafly&amp;state=NJ&amp;spec=7&amp;topid=94804\" title=\"Fibromyalgia Therapists in Tenafly, NJ\">Fibromyalgia Therapists in Tenafly, NJ</a></li>,\n",
       " <li><a href=\"https://therapists.psychologytoday.com/rms/prof_results.php?city=Tenafly&amp;state=NJ&amp;spec=268&amp;topid=94804\" title=\"Gay Clients Therapists in Tenafly, NJ\">Gay Clients Therapists in Tenafly, NJ</a></li>,\n",
       " <li><a href=\"https://therapists.psychologytoday.com/rms/prof_results.php?city=Tenafly&amp;state=NJ&amp;spec=172&amp;topid=94804\" title=\"Gay Therapists in Tenafly, NJ\">Gay Therapists in Tenafly, NJ</a></li>,\n",
       " <li><a href=\"https://therapists.psychologytoday.com/rms/prof_results.php?city=Tenafly&amp;state=NJ&amp;spec=187&amp;topid=94804\" title=\"Gender Dysphoria Therapists in Tenafly, NJ\">Gender Dysphoria Therapists in Tenafly, NJ</a></li>,\n",
       " <li><a href=\"https://therapists.psychologytoday.com/rms/prof_results.php?city=Tenafly&amp;state=NJ&amp;spec=14&amp;topid=94804\" title=\"Grief Therapists in Tenafly, NJ\">Grief Therapists in Tenafly, NJ</a></li>,\n",
       " <li><a href=\"https://therapists.psychologytoday.com/rms/prof_results.php?city=Tenafly&amp;state=NJ&amp;spec=266&amp;topid=94804\" title=\"HIV / AIDS Clients Therapists in Tenafly, NJ\">HIV / AIDS Clients Therapists in Tenafly, NJ</a></li>,\n",
       " <li><a href=\"https://therapists.psychologytoday.com/rms/prof_results.php?city=Tenafly&amp;state=NJ&amp;spec=15&amp;topid=94804\" title=\"Hair Pulling Therapists in Tenafly, NJ\">Hair Pulling Therapists in Tenafly, NJ</a></li>,\n",
       " <li><a href=\"https://therapists.psychologytoday.com/rms/prof_results.php?city=Tenafly&amp;state=NJ&amp;spec=272&amp;topid=94804\" title=\"Heterosexual Clients Therapists in Tenafly, NJ\">Heterosexual Clients Therapists in Tenafly, NJ</a></li>,\n",
       " <li><a href=\"https://therapists.psychologytoday.com/rms/prof_results.php?city=Tenafly&amp;state=NJ&amp;spec=297&amp;topid=94804\" title=\"Humanistic Therapists in Tenafly, NJ\">Humanistic Therapists in Tenafly, NJ</a></li>,\n",
       " <li><a href=\"https://therapists.psychologytoday.com/rms/prof_results.php?city=Tenafly&amp;state=NJ&amp;spec=305&amp;topid=94804\" title=\"Hypnotherapy Therapists in Tenafly, NJ\">Hypnotherapy Therapists in Tenafly, NJ</a></li>,\n",
       " <li><a href=\"https://therapists.psychologytoday.com/rms/prof_results.php?city=Tenafly&amp;state=NJ&amp;spec=286&amp;topid=94804\" title=\"Individuals Therapists in Tenafly, NJ\">Individuals Therapists in Tenafly, NJ</a></li>,\n",
       " <li><a href=\"https://therapists.psychologytoday.com/rms/prof_results.php?city=Tenafly&amp;state=NJ&amp;spec=498&amp;topid=94804\" title=\"Integrative Therapists in Tenafly, NJ\">Integrative Therapists in Tenafly, NJ</a></li>,\n",
       " <li><a href=\"https://therapists.psychologytoday.com/rms/prof_results.php?city=Tenafly&amp;state=NJ&amp;spec=172&amp;topid=94804\" title=\"LGBTQ Therapists in Tenafly, NJ\">LGBTQ Therapists in Tenafly, NJ</a></li>,\n",
       " <li><a href=\"https://therapists.psychologytoday.com/rms/prof_results.php?city=Tenafly&amp;state=NJ&amp;spec=186&amp;topid=94804\" title=\"Lesbian Therapists in Tenafly, NJ\">Lesbian Therapists in Tenafly, NJ</a></li>,\n",
       " <li><a href=\"https://therapists.psychologytoday.com/rms/prof_results.php?city=Tenafly&amp;state=NJ&amp;spec=14&amp;topid=94804\" title=\"Loss Therapists in Tenafly, NJ\">Loss Therapists in Tenafly, NJ</a></li>,\n",
       " <li><a href=\"https://therapists.psychologytoday.com/rms/prof_results.php?city=Tenafly&amp;state=NJ&amp;spec=168&amp;topid=94804\" title=\"Manic Depression Therapists in Tenafly, NJ\">Manic Depression Therapists in Tenafly, NJ</a></li>,\n",
       " <li><a href=\"https://therapists.psychologytoday.com/rms/prof_results.php?city=Tenafly&amp;state=NJ&amp;spec=510&amp;topid=94804\" title=\"Military Therapists in Tenafly, NJ\">Military Therapists in Tenafly, NJ</a></li>,\n",
       " <li><a href=\"https://therapists.psychologytoday.com/rms/prof_results.php?city=Tenafly&amp;state=NJ&amp;spec=307&amp;topid=94804\" title=\"Mindfulness-based (MBCT) Therapists in Tenafly, NJ\">Mindfulness-based (MBCT) Therapists in Tenafly, NJ</a></li>,\n",
       " <li><a href=\"https://therapists.psychologytoday.com/rms/prof_results.php?city=Tenafly&amp;state=NJ&amp;spec=201&amp;topid=94804\" title=\"Mood Disorders Therapists in Tenafly, NJ\">Mood Disorders Therapists in Tenafly, NJ</a></li>,\n",
       " <li><a href=\"https://therapists.psychologytoday.com/rms/prof_results.php?city=Tenafly&amp;state=NJ&amp;spec=14&amp;topid=94804\" title=\"Mourning Therapists in Tenafly, NJ\">Mourning Therapists in Tenafly, NJ</a></li>,\n",
       " <li><a href=\"https://therapists.psychologytoday.com/rms/prof_results.php?city=Tenafly&amp;state=NJ&amp;spec=20&amp;topid=94804\" title=\"Multiple Personality Therapists in Tenafly, NJ\">Multiple Personality Therapists in Tenafly, NJ</a></li>,\n",
       " <li><a href=\"https://therapists.psychologytoday.com/rms/prof_results.php?city=Tenafly&amp;state=NJ&amp;spec=203&amp;topid=94804\" title=\"Narcissistic Personality Therapists in Tenafly, NJ\">Narcissistic Personality Therapists in Tenafly, NJ</a></li>,\n",
       " <li><a href=\"https://therapists.psychologytoday.com/rms/prof_results.php?city=Tenafly&amp;state=NJ&amp;spec=22&amp;topid=94804\" title=\"Narcissistic Therapists in Tenafly, NJ\">Narcissistic Therapists in Tenafly, NJ</a></li>,\n",
       " <li><a href=\"https://therapists.psychologytoday.com/rms/prof_results.php?city=Tenafly&amp;state=NJ&amp;spec=15&amp;topid=94804\" title=\"Obsessive-Compulsive (OCD) Therapists in Tenafly, NJ\">Obsessive-Compulsive (OCD) Therapists in Tenafly, NJ</a></li>,\n",
       " <li><a href=\"https://therapists.psychologytoday.com/rms/prof_results.php?city=Tenafly&amp;state=NJ&amp;spec=461&amp;topid=94804\" title=\"Out of Network Therapists in Tenafly, NJ\">Out of Network Therapists in Tenafly, NJ</a></li>,\n",
       " <li><a href=\"https://therapists.psychologytoday.com/rms/prof_results.php?city=Tenafly&amp;state=NJ&amp;spec=22&amp;topid=94804\" title=\"Paranoid Therapists in Tenafly, NJ\">Paranoid Therapists in Tenafly, NJ</a></li>,\n",
       " <li><a href=\"https://therapists.psychologytoday.com/rms/prof_results.php?city=Tenafly&amp;state=NJ&amp;spec=16&amp;topid=94804\" title=\"Parenting Therapists in Tenafly, NJ\">Parenting Therapists in Tenafly, NJ</a></li>,\n",
       " <li><a href=\"https://therapists.psychologytoday.com/rms/prof_results.php?city=Tenafly&amp;state=NJ&amp;spec=228&amp;topid=94804\" title=\"Peer Relationships Therapists in Tenafly, NJ\">Peer Relationships Therapists in Tenafly, NJ</a></li>,\n",
       " <li><a href=\"https://therapists.psychologytoday.com/rms/prof_results.php?city=Tenafly&amp;state=NJ&amp;spec=22&amp;topid=94804\" title=\"Personality Disorders Therapists in Tenafly, NJ\">Personality Disorders Therapists in Tenafly, NJ</a></li>,\n",
       " <li><a href=\"https://therapists.psychologytoday.com/rms/prof_results.php?city=Tenafly&amp;state=NJ&amp;spec=3&amp;topid=94804\" title=\"Phobia Therapists in Tenafly, NJ\">Phobia Therapists in Tenafly, NJ</a></li>,\n",
       " <li><a href=\"https://therapists.psychologytoday.com/rms/prof_results.php?city=Tenafly&amp;state=NJ&amp;spec=201&amp;topid=94804\" title=\"Post-Partum Therapists in Tenafly, NJ\">Post-Partum Therapists in Tenafly, NJ</a></li>,\n",
       " <li><a href=\"https://therapists.psychologytoday.com/rms/prof_results.php?city=Tenafly&amp;state=NJ&amp;spec=19&amp;topid=94804\" title=\"Post-Traumatic Stress Therapists in Tenafly, NJ\">Post-Traumatic Stress Therapists in Tenafly, NJ</a></li>,\n",
       " <li><a href=\"https://therapists.psychologytoday.com/rms/prof_results.php?city=Tenafly&amp;state=NJ&amp;spec=298&amp;topid=94804\" title=\"Psychoanalytic Therapists in Tenafly, NJ\">Psychoanalytic Therapists in Tenafly, NJ</a></li>,\n",
       " <li><a href=\"https://therapists.psychologytoday.com/rms/prof_results.php?city=Tenafly&amp;state=NJ&amp;spec=299&amp;topid=94804\" title=\"Psychodynamic Therapists in Tenafly, NJ\">Psychodynamic Therapists in Tenafly, NJ</a></li>,\n",
       " <li><a href=\"https://therapists.psychologytoday.com/rms/prof_results.php?city=Tenafly&amp;state=NJ&amp;spec=308&amp;topid=94804\" title=\"Relational Therapists in Tenafly, NJ\">Relational Therapists in Tenafly, NJ</a></li>,\n",
       " <li><a href=\"https://therapists.psychologytoday.com/rms/prof_results.php?city=Tenafly&amp;state=NJ&amp;spec=1&amp;topid=94804\" title=\"Relationship Issues Therapists in Tenafly, NJ\">Relationship Issues Therapists in Tenafly, NJ</a></li>,\n",
       " <li><a href=\"https://therapists.psychologytoday.com/rms/prof_results.php?city=Tenafly&amp;state=NJ&amp;spec=201&amp;topid=94804\" title=\"Seasonal Affective Therapists in Tenafly, NJ\">Seasonal Affective Therapists in Tenafly, NJ</a></li>,\n",
       " <li><a href=\"https://therapists.psychologytoday.com/rms/prof_results.php?city=Tenafly&amp;state=NJ&amp;spec=260&amp;topid=94804\" title=\"Self Esteem Therapists in Tenafly, NJ\">Self Esteem Therapists in Tenafly, NJ</a></li>,\n",
       " <li><a href=\"https://therapists.psychologytoday.com/rms/prof_results.php?city=Tenafly&amp;state=NJ&amp;spec=283&amp;topid=94804\" title=\"Self-Harming Therapists in Tenafly, NJ\">Self-Harming Therapists in Tenafly, NJ</a></li>,\n",
       " <li><a href=\"https://therapists.psychologytoday.com/rms/prof_results.php?city=Tenafly&amp;state=NJ&amp;spec=328&amp;topid=94804\" title=\"Seniors Therapists in Tenafly, NJ\">Seniors Therapists in Tenafly, NJ</a></li>,\n",
       " <li><a href=\"https://therapists.psychologytoday.com/rms/prof_results.php?city=Tenafly&amp;state=NJ&amp;spec=256&amp;topid=94804\" title=\"Sexual Abuse Therapists in Tenafly, NJ\">Sexual Abuse Therapists in Tenafly, NJ</a></li>,\n",
       " <li><a href=\"https://therapists.psychologytoday.com/rms/prof_results.php?city=Tenafly&amp;state=NJ&amp;spec=15&amp;topid=94804\" title=\"Skin Picking Therapists in Tenafly, NJ\">Skin Picking Therapists in Tenafly, NJ</a></li>,\n",
       " <li><a href=\"https://therapists.psychologytoday.com/rms/prof_results.php?city=Tenafly&amp;state=NJ&amp;spec=190&amp;topid=94804\" title=\"Sleep or Insomnia Therapists in Tenafly, NJ\">Sleep or Insomnia Therapists in Tenafly, NJ</a></li>,\n",
       " <li><a href=\"https://therapists.psychologytoday.com/rms/prof_results.php?city=Tenafly&amp;state=NJ&amp;spec=494&amp;topid=94804\" title=\"Somatic Therapists in Tenafly, NJ\">Somatic Therapists in Tenafly, NJ</a></li>,\n",
       " <li><a href=\"https://therapists.psychologytoday.com/rms/prof_results.php?city=Tenafly&amp;state=NJ&amp;spec=18&amp;topid=94804\" title=\"Spirituality Therapists in Tenafly, NJ\">Spirituality Therapists in Tenafly, NJ</a></li>,\n",
       " <li><a href=\"https://therapists.psychologytoday.com/rms/prof_results.php?city=Tenafly&amp;state=NJ&amp;spec=205&amp;topid=94804\" title=\"Suicidal Ideation Therapists in Tenafly, NJ\">Suicidal Ideation Therapists in Tenafly, NJ</a></li>,\n",
       " <li><a href=\"https://therapists.psychologytoday.com/rms/prof_results.php?city=Tenafly&amp;state=NJ&amp;spec=270&amp;topid=94804\" title=\"Transgender Clients Therapists in Tenafly, NJ\">Transgender Clients Therapists in Tenafly, NJ</a></li>,\n",
       " <li><a href=\"https://therapists.psychologytoday.com/rms/prof_results.php?city=Tenafly&amp;state=NJ&amp;spec=187&amp;topid=94804\" title=\"Transgender Therapists in Tenafly, NJ\">Transgender Therapists in Tenafly, NJ</a></li>,\n",
       " <li><a href=\"https://therapists.psychologytoday.com/rms/prof_results.php?city=Tenafly&amp;state=NJ&amp;spec=300&amp;topid=94804\" title=\"Transpersonal Therapists in Tenafly, NJ\">Transpersonal Therapists in Tenafly, NJ</a></li>,\n",
       " <li><a href=\"https://therapists.psychologytoday.com/rms/prof_results.php?city=Tenafly&amp;state=NJ&amp;spec=495&amp;topid=94804\" title=\"Trauma Focused Therapists in Tenafly, NJ\">Trauma Focused Therapists in Tenafly, NJ</a></li>,\n",
       " <li><a href=\"https://therapists.psychologytoday.com/rms/prof_results.php?city=Tenafly&amp;state=NJ&amp;spec=19&amp;topid=94804\" title=\"Trauma and PTSD Therapists in Tenafly, NJ\">Trauma and PTSD Therapists in Tenafly, NJ</a></li>,\n",
       " <li><a href=\"https://therapists.psychologytoday.com/rms/prof_results.php?city=Tenafly&amp;state=NJ&amp;spec=15&amp;topid=94804\" title=\"Trichotillomania (TTM) Therapists in Tenafly, NJ\">Trichotillomania (TTM) Therapists in Tenafly, NJ</a></li>,\n",
       " <li><a href=\"https://therapists.psychologytoday.com/rms/prof_results.php?city=Tenafly&amp;state=NJ&amp;spec=510&amp;topid=94804\" title=\"Veterans Therapists in Tenafly, NJ\">Veterans Therapists in Tenafly, NJ</a></li>,\n",
       " <li><a href=\"https://therapists.psychologytoday.com/rms/prof_results.php?city=Tenafly&amp;state=NJ&amp;spec=262&amp;topid=94804\" title=\"Weight Loss Therapists in Tenafly, NJ\">Weight Loss Therapists in Tenafly, NJ</a></li>,\n",
       " <li><a href=\"https://therapists.psychologytoday.com/rms/prof_results.php?zipcode=07670&amp;spec=328&amp;topid=94804\" title=\"65+ Therapists in 07670\">65+ Therapists in 07670</a></li>,\n",
       " <li><a href=\"https://therapists.psychologytoday.com/rms/prof_results.php?zipcode=07670&amp;spec=326&amp;topid=94804\" title=\"Adolescents / Teenagers (14 to 19) Therapists in 07670\">Adolescents / Teenagers (14 to 19) Therapists in 07670</a></li>,\n",
       " <li><a href=\"https://therapists.psychologytoday.com/rms/prof_results.php?zipcode=07670&amp;spec=180&amp;topid=94804\" title=\"Adoption Therapists in 07670\">Adoption Therapists in 07670</a></li>,\n",
       " <li><a href=\"https://therapists.psychologytoday.com/rms/prof_results.php?zipcode=07670&amp;spec=327&amp;topid=94804\" title=\"Adults Therapists in 07670\">Adults Therapists in 07670</a></li>,\n",
       " <li><a href=\"https://therapists.psychologytoday.com/rms/prof_results.php?zipcode=07670&amp;spec=20&amp;topid=94804\" title=\"Amnesia Therapists in 07670\">Amnesia Therapists in 07670</a></li>,\n",
       " <li><a href=\"https://therapists.psychologytoday.com/rms/prof_results.php?zipcode=07670&amp;spec=9&amp;topid=94804\" title=\"Anorexia Therapists in 07670\">Anorexia Therapists in 07670</a></li>,\n",
       " <li><a href=\"https://therapists.psychologytoday.com/rms/prof_results.php?zipcode=07670&amp;spec=3&amp;topid=94804\" title=\"Anxiety Therapists in 07670\">Anxiety Therapists in 07670</a></li>,\n",
       " <li><a href=\"https://therapists.psychologytoday.com/rms/prof_results.php?zipcode=07670&amp;spec=496&amp;topid=94804\" title=\"Attachment-based Therapists in 07670\">Attachment-based Therapists in 07670</a></li>,\n",
       " <li><a href=\"https://therapists.psychologytoday.com/rms/prof_results.php?zipcode=07670&amp;spec=196&amp;topid=94804\" title=\"BPD Therapists in 07670\">BPD Therapists in 07670</a></li>,\n",
       " <li><a href=\"https://therapists.psychologytoday.com/rms/prof_results.php?zipcode=07670&amp;spec=195&amp;topid=94804\" title=\"Behavioral Issues Therapists in 07670\">Behavioral Issues Therapists in 07670</a></li>,\n",
       " <li><a href=\"https://therapists.psychologytoday.com/rms/prof_results.php?zipcode=07670&amp;spec=14&amp;topid=94804\" title=\"Bereavement Therapists in 07670\">Bereavement Therapists in 07670</a></li>,\n",
       " <li><a href=\"https://therapists.psychologytoday.com/rms/prof_results.php?zipcode=07670&amp;spec=168&amp;topid=94804\" title=\"Bipolar Disorder Therapists in 07670\">Bipolar Disorder Therapists in 07670</a></li>,\n",
       " <li><a href=\"https://therapists.psychologytoday.com/rms/prof_results.php?zipcode=07670&amp;spec=271&amp;topid=94804\" title=\"Bisexual Clients Therapists in 07670\">Bisexual Clients Therapists in 07670</a></li>,\n",
       " <li><a href=\"https://therapists.psychologytoday.com/rms/prof_results.php?zipcode=07670&amp;spec=185&amp;topid=94804\" title=\"Bisexual Therapists in 07670\">Bisexual Therapists in 07670</a></li>,\n",
       " <li><a href=\"https://therapists.psychologytoday.com/rms/prof_results.php?zipcode=07670&amp;spec=196&amp;topid=94804\" title=\"Borderline Personality Therapists in 07670\">Borderline Personality Therapists in 07670</a></li>,\n",
       " <li><a href=\"https://therapists.psychologytoday.com/rms/prof_results.php?zipcode=07670&amp;spec=9&amp;topid=94804\" title=\"Bulimia Therapists in 07670\">Bulimia Therapists in 07670</a></li>,\n",
       " <li><a href=\"https://therapists.psychologytoday.com/rms/prof_results.php?zipcode=07670&amp;spec=267&amp;topid=94804\" title=\"Cancer Survivors Therapists in 07670\">Cancer Survivors Therapists in 07670</a></li>,\n",
       " <li><a href=\"https://therapists.psychologytoday.com/rms/prof_results.php?zipcode=07670&amp;spec=267&amp;topid=94804\" title=\"Cancer Therapists in 07670\">Cancer Therapists in 07670</a></li>,\n",
       " <li><a href=\"https://therapists.psychologytoday.com/rms/prof_results.php?zipcode=07670&amp;spec=7&amp;topid=94804\" title=\"Chronic Pain Therapists in 07670\">Chronic Pain Therapists in 07670</a></li>,\n",
       " <li><a href=\"https://therapists.psychologytoday.com/rms/prof_results.php?zipcode=07670&amp;spec=503&amp;topid=94804\" title=\"Codependency Therapists in 07670\">Codependency Therapists in 07670</a></li>,\n",
       " <li><a href=\"https://therapists.psychologytoday.com/rms/prof_results.php?zipcode=07670&amp;spec=293&amp;topid=94804\" title=\"Cognitive Behavioral (CBT) Therapists in 07670\">Cognitive Behavioral (CBT) Therapists in 07670</a></li>,\n",
       " <li><a href=\"https://therapists.psychologytoday.com/rms/prof_results.php?zipcode=07670&amp;spec=249&amp;topid=94804\" title=\"Coping Skills Therapists in 07670\">Coping Skills Therapists in 07670</a></li>,\n",
       " <li><a href=\"https://therapists.psychologytoday.com/rms/prof_results.php?zipcode=07670&amp;spec=287&amp;topid=94804\" title=\"Couples Therapists in 07670\">Couples Therapists in 07670</a></li>,\n",
       " <li><a href=\"https://therapists.psychologytoday.com/rms/prof_results.php?zipcode=07670&amp;spec=283&amp;topid=94804\" title=\"Cutting Therapists in 07670\">Cutting Therapists in 07670</a></li>,\n",
       " <li><a href=\"https://therapists.psychologytoday.com/rms/prof_results.php?zipcode=07670&amp;spec=2&amp;topid=94804\" title=\"Depression Therapists in 07670\">Depression Therapists in 07670</a></li>,\n",
       " <li><a href=\"https://therapists.psychologytoday.com/rms/prof_results.php?zipcode=07670&amp;spec=20&amp;topid=94804\" title=\"Dissociative Disorders Therapists in 07670\">Dissociative Disorders Therapists in 07670</a></li>,\n",
       " <li><a href=\"https://therapists.psychologytoday.com/rms/prof_results.php?zipcode=07670&amp;spec=26&amp;topid=94804\" title=\"Divorce Therapists in 07670\">Divorce Therapists in 07670</a></li>,\n",
       " <li><a href=\"https://therapists.psychologytoday.com/rms/prof_results.php?zipcode=07670&amp;spec=8&amp;topid=94804\" title=\"Domestic Abuse Therapists in 07670\">Domestic Abuse Therapists in 07670</a></li>,\n",
       " <li><a href=\"https://therapists.psychologytoday.com/rms/prof_results.php?zipcode=07670&amp;spec=301&amp;topid=94804\" title=\"EMDR Therapists in 07670\">EMDR Therapists in 07670</a></li>,\n",
       " <li><a href=\"https://therapists.psychologytoday.com/rms/prof_results.php?zipcode=07670&amp;spec=9&amp;topid=94804\" title=\"Eating Disorders Therapists in 07670\">Eating Disorders Therapists in 07670</a></li>,\n",
       " <li><a href=\"https://therapists.psychologytoday.com/rms/prof_results.php?zipcode=07670&amp;spec=295&amp;topid=94804\" title=\"Eclectic Therapists in 07670\">Eclectic Therapists in 07670</a></li>,\n",
       " <li><a href=\"https://therapists.psychologytoday.com/rms/prof_results.php?zipcode=07670&amp;spec=328&amp;topid=94804\" title=\"Elders (65+) Therapists in 07670\">Elders (65+) Therapists in 07670</a></li>,\n",
       " <li><a href=\"https://therapists.psychologytoday.com/rms/prof_results.php?zipcode=07670&amp;spec=198&amp;topid=94804\" title=\"Emotional Disturbance Therapists in 07670\">Emotional Disturbance Therapists in 07670</a></li>,\n",
       " <li><a href=\"https://therapists.psychologytoday.com/rms/prof_results.php?zipcode=07670&amp;spec=296&amp;topid=94804\" title=\"Family / Marital Therapists in 07670\">Family / Marital Therapists in 07670</a></li>,\n",
       " <li><a href=\"https://therapists.psychologytoday.com/rms/prof_results.php?zipcode=07670&amp;spec=200&amp;topid=94804\" title=\"Family Conflict Therapists in 07670\">Family Conflict Therapists in 07670</a></li>,\n",
       " <li><a href=\"https://therapists.psychologytoday.com/rms/prof_results.php?zipcode=07670&amp;spec=288&amp;topid=94804\" title=\"Family Therapists in 07670\">Family Therapists in 07670</a></li>,\n",
       " <li><a href=\"https://therapists.psychologytoday.com/rms/prof_results.php?zipcode=07670&amp;spec=3&amp;topid=94804\" title=\"Fears Therapists in 07670\">Fears Therapists in 07670</a></li>,\n",
       " <li><a href=\"https://therapists.psychologytoday.com/rms/prof_results.php?zipcode=07670&amp;spec=7&amp;topid=94804\" title=\"Fibromyalgia Therapists in 07670\">Fibromyalgia Therapists in 07670</a></li>,\n",
       " <li><a href=\"https://therapists.psychologytoday.com/rms/prof_results.php?zipcode=07670&amp;spec=268&amp;topid=94804\" title=\"Gay Clients Therapists in 07670\">Gay Clients Therapists in 07670</a></li>,\n",
       " <li><a href=\"https://therapists.psychologytoday.com/rms/prof_results.php?zipcode=07670&amp;spec=172&amp;topid=94804\" title=\"Gay Therapists in 07670\">Gay Therapists in 07670</a></li>,\n",
       " <li><a href=\"https://therapists.psychologytoday.com/rms/prof_results.php?zipcode=07670&amp;spec=187&amp;topid=94804\" title=\"Gender Dysphoria Therapists in 07670\">Gender Dysphoria Therapists in 07670</a></li>,\n",
       " <li><a href=\"https://therapists.psychologytoday.com/rms/prof_results.php?zipcode=07670&amp;spec=14&amp;topid=94804\" title=\"Grief Therapists in 07670\">Grief Therapists in 07670</a></li>,\n",
       " <li><a href=\"https://therapists.psychologytoday.com/rms/prof_results.php?zipcode=07670&amp;spec=266&amp;topid=94804\" title=\"HIV / AIDS Clients Therapists in 07670\">HIV / AIDS Clients Therapists in 07670</a></li>,\n",
       " <li><a href=\"https://therapists.psychologytoday.com/rms/prof_results.php?zipcode=07670&amp;spec=15&amp;topid=94804\" title=\"Hair Pulling Therapists in 07670\">Hair Pulling Therapists in 07670</a></li>,\n",
       " <li><a href=\"https://therapists.psychologytoday.com/rms/prof_results.php?zipcode=07670&amp;spec=272&amp;topid=94804\" title=\"Heterosexual Clients Therapists in 07670\">Heterosexual Clients Therapists in 07670</a></li>,\n",
       " <li><a href=\"https://therapists.psychologytoday.com/rms/prof_results.php?zipcode=07670&amp;spec=297&amp;topid=94804\" title=\"Humanistic Therapists in 07670\">Humanistic Therapists in 07670</a></li>,\n",
       " <li><a href=\"https://therapists.psychologytoday.com/rms/prof_results.php?zipcode=07670&amp;spec=305&amp;topid=94804\" title=\"Hypnotherapy Therapists in 07670\">Hypnotherapy Therapists in 07670</a></li>,\n",
       " <li><a href=\"https://therapists.psychologytoday.com/rms/prof_results.php?zipcode=07670&amp;spec=286&amp;topid=94804\" title=\"Individuals Therapists in 07670\">Individuals Therapists in 07670</a></li>,\n",
       " <li><a href=\"https://therapists.psychologytoday.com/rms/prof_results.php?zipcode=07670&amp;spec=498&amp;topid=94804\" title=\"Integrative Therapists in 07670\">Integrative Therapists in 07670</a></li>,\n",
       " <li><a href=\"https://therapists.psychologytoday.com/rms/prof_results.php?zipcode=07670&amp;spec=172&amp;topid=94804\" title=\"LGBTQ Therapists in 07670\">LGBTQ Therapists in 07670</a></li>,\n",
       " <li><a href=\"https://therapists.psychologytoday.com/rms/prof_results.php?zipcode=07670&amp;spec=186&amp;topid=94804\" title=\"Lesbian Therapists in 07670\">Lesbian Therapists in 07670</a></li>,\n",
       " <li><a href=\"https://therapists.psychologytoday.com/rms/prof_results.php?zipcode=07670&amp;spec=14&amp;topid=94804\" title=\"Loss Therapists in 07670\">Loss Therapists in 07670</a></li>,\n",
       " <li><a href=\"https://therapists.psychologytoday.com/rms/prof_results.php?zipcode=07670&amp;spec=168&amp;topid=94804\" title=\"Manic Depression Therapists in 07670\">Manic Depression Therapists in 07670</a></li>,\n",
       " <li><a href=\"https://therapists.psychologytoday.com/rms/prof_results.php?zipcode=07670&amp;spec=510&amp;topid=94804\" title=\"Military Therapists in 07670\">Military Therapists in 07670</a></li>,\n",
       " <li><a href=\"https://therapists.psychologytoday.com/rms/prof_results.php?zipcode=07670&amp;spec=307&amp;topid=94804\" title=\"Mindfulness-based (MBCT) Therapists in 07670\">Mindfulness-based (MBCT) Therapists in 07670</a></li>,\n",
       " <li><a href=\"https://therapists.psychologytoday.com/rms/prof_results.php?zipcode=07670&amp;spec=201&amp;topid=94804\" title=\"Mood Disorders Therapists in 07670\">Mood Disorders Therapists in 07670</a></li>,\n",
       " <li><a href=\"https://therapists.psychologytoday.com/rms/prof_results.php?zipcode=07670&amp;spec=14&amp;topid=94804\" title=\"Mourning Therapists in 07670\">Mourning Therapists in 07670</a></li>,\n",
       " <li><a href=\"https://therapists.psychologytoday.com/rms/prof_results.php?zipcode=07670&amp;spec=20&amp;topid=94804\" title=\"Multiple Personality Therapists in 07670\">Multiple Personality Therapists in 07670</a></li>,\n",
       " <li><a href=\"https://therapists.psychologytoday.com/rms/prof_results.php?zipcode=07670&amp;spec=203&amp;topid=94804\" title=\"Narcissistic Personality Therapists in 07670\">Narcissistic Personality Therapists in 07670</a></li>,\n",
       " <li><a href=\"https://therapists.psychologytoday.com/rms/prof_results.php?zipcode=07670&amp;spec=22&amp;topid=94804\" title=\"Narcissistic Therapists in 07670\">Narcissistic Therapists in 07670</a></li>,\n",
       " <li><a href=\"https://therapists.psychologytoday.com/rms/prof_results.php?zipcode=07670&amp;spec=15&amp;topid=94804\" title=\"Obsessive-Compulsive (OCD) Therapists in 07670\">Obsessive-Compulsive (OCD) Therapists in 07670</a></li>,\n",
       " <li><a href=\"https://therapists.psychologytoday.com/rms/prof_results.php?zipcode=07670&amp;spec=461&amp;topid=94804\" title=\"Out of Network Therapists in 07670\">Out of Network Therapists in 07670</a></li>,\n",
       " <li><a href=\"https://therapists.psychologytoday.com/rms/prof_results.php?zipcode=07670&amp;spec=22&amp;topid=94804\" title=\"Paranoid Therapists in 07670\">Paranoid Therapists in 07670</a></li>,\n",
       " <li><a href=\"https://therapists.psychologytoday.com/rms/prof_results.php?zipcode=07670&amp;spec=16&amp;topid=94804\" title=\"Parenting Therapists in 07670\">Parenting Therapists in 07670</a></li>,\n",
       " <li><a href=\"https://therapists.psychologytoday.com/rms/prof_results.php?zipcode=07670&amp;spec=228&amp;topid=94804\" title=\"Peer Relationships Therapists in 07670\">Peer Relationships Therapists in 07670</a></li>,\n",
       " <li><a href=\"https://therapists.psychologytoday.com/rms/prof_results.php?zipcode=07670&amp;spec=22&amp;topid=94804\" title=\"Personality Disorders Therapists in 07670\">Personality Disorders Therapists in 07670</a></li>,\n",
       " <li><a href=\"https://therapists.psychologytoday.com/rms/prof_results.php?zipcode=07670&amp;spec=3&amp;topid=94804\" title=\"Phobia Therapists in 07670\">Phobia Therapists in 07670</a></li>,\n",
       " <li><a href=\"https://therapists.psychologytoday.com/rms/prof_results.php?zipcode=07670&amp;spec=201&amp;topid=94804\" title=\"Post-Partum Therapists in 07670\">Post-Partum Therapists in 07670</a></li>,\n",
       " <li><a href=\"https://therapists.psychologytoday.com/rms/prof_results.php?zipcode=07670&amp;spec=19&amp;topid=94804\" title=\"Post-Traumatic Stress Therapists in 07670\">Post-Traumatic Stress Therapists in 07670</a></li>,\n",
       " <li><a href=\"https://therapists.psychologytoday.com/rms/prof_results.php?zipcode=07670&amp;spec=298&amp;topid=94804\" title=\"Psychoanalytic Therapists in 07670\">Psychoanalytic Therapists in 07670</a></li>,\n",
       " <li><a href=\"https://therapists.psychologytoday.com/rms/prof_results.php?zipcode=07670&amp;spec=299&amp;topid=94804\" title=\"Psychodynamic Therapists in 07670\">Psychodynamic Therapists in 07670</a></li>,\n",
       " <li><a href=\"https://therapists.psychologytoday.com/rms/prof_results.php?zipcode=07670&amp;spec=308&amp;topid=94804\" title=\"Relational Therapists in 07670\">Relational Therapists in 07670</a></li>,\n",
       " <li><a href=\"https://therapists.psychologytoday.com/rms/prof_results.php?zipcode=07670&amp;spec=1&amp;topid=94804\" title=\"Relationship Issues Therapists in 07670\">Relationship Issues Therapists in 07670</a></li>,\n",
       " <li><a href=\"https://therapists.psychologytoday.com/rms/prof_results.php?zipcode=07670&amp;spec=201&amp;topid=94804\" title=\"Seasonal Affective Therapists in 07670\">Seasonal Affective Therapists in 07670</a></li>,\n",
       " <li><a href=\"https://therapists.psychologytoday.com/rms/prof_results.php?zipcode=07670&amp;spec=260&amp;topid=94804\" title=\"Self Esteem Therapists in 07670\">Self Esteem Therapists in 07670</a></li>,\n",
       " <li><a href=\"https://therapists.psychologytoday.com/rms/prof_results.php?zipcode=07670&amp;spec=283&amp;topid=94804\" title=\"Self-Harming Therapists in 07670\">Self-Harming Therapists in 07670</a></li>,\n",
       " <li><a href=\"https://therapists.psychologytoday.com/rms/prof_results.php?zipcode=07670&amp;spec=328&amp;topid=94804\" title=\"Seniors Therapists in 07670\">Seniors Therapists in 07670</a></li>,\n",
       " <li><a href=\"https://therapists.psychologytoday.com/rms/prof_results.php?zipcode=07670&amp;spec=256&amp;topid=94804\" title=\"Sexual Abuse Therapists in 07670\">Sexual Abuse Therapists in 07670</a></li>,\n",
       " <li><a href=\"https://therapists.psychologytoday.com/rms/prof_results.php?zipcode=07670&amp;spec=15&amp;topid=94804\" title=\"Skin Picking Therapists in 07670\">Skin Picking Therapists in 07670</a></li>,\n",
       " <li><a href=\"https://therapists.psychologytoday.com/rms/prof_results.php?zipcode=07670&amp;spec=190&amp;topid=94804\" title=\"Sleep or Insomnia Therapists in 07670\">Sleep or Insomnia Therapists in 07670</a></li>,\n",
       " <li><a href=\"https://therapists.psychologytoday.com/rms/prof_results.php?zipcode=07670&amp;spec=494&amp;topid=94804\" title=\"Somatic Therapists in 07670\">Somatic Therapists in 07670</a></li>,\n",
       " <li><a href=\"https://therapists.psychologytoday.com/rms/prof_results.php?zipcode=07670&amp;spec=18&amp;topid=94804\" title=\"Spirituality Therapists in 07670\">Spirituality Therapists in 07670</a></li>,\n",
       " <li><a href=\"https://therapists.psychologytoday.com/rms/prof_results.php?zipcode=07670&amp;spec=205&amp;topid=94804\" title=\"Suicidal Ideation Therapists in 07670\">Suicidal Ideation Therapists in 07670</a></li>,\n",
       " <li><a href=\"https://therapists.psychologytoday.com/rms/prof_results.php?zipcode=07670&amp;spec=270&amp;topid=94804\" title=\"Transgender Clients Therapists in 07670\">Transgender Clients Therapists in 07670</a></li>,\n",
       " <li><a href=\"https://therapists.psychologytoday.com/rms/prof_results.php?zipcode=07670&amp;spec=187&amp;topid=94804\" title=\"Transgender Therapists in 07670\">Transgender Therapists in 07670</a></li>,\n",
       " <li><a href=\"https://therapists.psychologytoday.com/rms/prof_results.php?zipcode=07670&amp;spec=300&amp;topid=94804\" title=\"Transpersonal Therapists in 07670\">Transpersonal Therapists in 07670</a></li>,\n",
       " <li><a href=\"https://therapists.psychologytoday.com/rms/prof_results.php?zipcode=07670&amp;spec=495&amp;topid=94804\" title=\"Trauma Focused Therapists in 07670\">Trauma Focused Therapists in 07670</a></li>,\n",
       " <li><a href=\"https://therapists.psychologytoday.com/rms/prof_results.php?zipcode=07670&amp;spec=19&amp;topid=94804\" title=\"Trauma and PTSD Therapists in 07670\">Trauma and PTSD Therapists in 07670</a></li>,\n",
       " <li><a href=\"https://therapists.psychologytoday.com/rms/prof_results.php?zipcode=07670&amp;spec=15&amp;topid=94804\" title=\"Trichotillomania (TTM) Therapists in 07670\">Trichotillomania (TTM) Therapists in 07670</a></li>,\n",
       " <li><a href=\"https://therapists.psychologytoday.com/rms/prof_results.php?zipcode=07670&amp;spec=510&amp;topid=94804\" title=\"Veterans Therapists in 07670\">Veterans Therapists in 07670</a></li>,\n",
       " <li><a href=\"https://therapists.psychologytoday.com/rms/prof_results.php?zipcode=07670&amp;spec=262&amp;topid=94804\" title=\"Weight Loss Therapists in 07670\">Weight Loss Therapists in 07670</a></li>,\n",
       " <li>\n",
       " <a class=\"footerNavItem first\" href=\"https://therapists.psychologytoday.com/rms/content/about.html\">About</a>\n",
       " </li>,\n",
       " <li><a class=\"footerNavItem first\" href=\"https://therapists.psychologytoday.com/us/careers\">Careers</a></li>,\n",
       " <li>\n",
       " <a class=\"footerNavItem\" href=\"https://therapists.psychologytoday.com/rms/content/privacy.html\">Privacy</a>\n",
       " </li>,\n",
       " <li>\n",
       " <a class=\"footerNavItem\" href=\"https://therapists.psychologytoday.com/rms/content/terms.html\">Terms</a>\n",
       " </li>]"
      ]
     },
     "execution_count": 1131,
     "metadata": {},
     "output_type": "execute_result"
    }
   ],
   "source": [
    "individuals = [i for i in all_lis.t]\n"
   ]
  },
  {
   "cell_type": "code",
   "execution_count": null,
   "metadata": {
    "collapsed": true
   },
   "outputs": [],
   "source": []
  }
 ],
 "metadata": {
  "kernelspec": {
   "display_name": "Python 3",
   "language": "python",
   "name": "python3"
  },
  "language_info": {
   "codemirror_mode": {
    "name": "ipython",
    "version": 3
   },
   "file_extension": ".py",
   "mimetype": "text/x-python",
   "name": "python",
   "nbconvert_exporter": "python",
   "pygments_lexer": "ipython3",
   "version": "3.6.1"
  }
 },
 "nbformat": 4,
 "nbformat_minor": 2
}
