{
 "cells": [
  {
   "cell_type": "code",
   "execution_count": 12,
   "metadata": {
    "collapsed": true
   },
   "outputs": [],
   "source": [
    "from bs4 import BeautifulSoup\n",
    "import requests, re, time, random\n",
    "import pandas as pd\n",
    "headers = {\n",
    "    'Connection': 'keep-alive',\n",
    "    'Access-Control-Request-Headers': 'content-type',\n",
    "    'Accept': '*/*',\n",
    "    'User-Agent': 'Mozilla/5.0 (Macintosh; Intel Mac OS X 10_12_3) AppleWebKit/537.36 (KHTML, like Gecko) Chrome/58.0.3029.110 Safari/537.36'\n",
    "}"
   ]
  },
  {
   "cell_type": "code",
   "execution_count": 13,
   "metadata": {
    "collapsed": true
   },
   "outputs": [],
   "source": [
    "# Create a list of zipcodes:     \n",
    "myzips = ['10001','10002','10003','10004','10005','10006','10007','10009','10010','10011','10012', \\\n",
    "          '10013','10014','10016','10017','10018','10019','10020','10021','10022','10023','10024', \\\n",
    "          '10025','10026','10027','10028','10029','10030','10031','10032','10033','10034','10035', \\\n",
    "          '10036','10037','10038','10039','10040','10044','10045','10065','10115','10119','10128', \\\n",
    "          '10154','10278','10280','10301','10302','10303','10304','10305','10306','10307','10309', \\\n",
    "          '10310','10312','10314','10451','10452','10453','10454','10455','10456','10457','10458', \\\n",
    "          '10459','10460','10461','10462','10463','10464','10465','10466','10467','10468','10469', \\\n",
    "          '10471','10472','10473','10474','10475','10514','10543','10553','10573','10701','10705', \\\n",
    "          '10911','10965','10977','11001','11021','11050','11101','11102','11103','11104','11105', \\\n",
    "          '11106','11111','11112','11201','11202','11203','11204','11205','11206','11207','11208', \\\n",
    "          '11209','11210','11211','11212','11213','11214','11215','11216','11217','11218','11219', \\\n",
    "          '11220','11221','11222','11223','11224','11225','11226','11228','11229','11230','11231', \\\n",
    "          '11232','11233','11234','11235','11236','11237','11238','11239','11252','11354','11355', \\\n",
    "          '11356','11357','11358','11360','11361','11362','11364','11365','11366','11367','11368', \\\n",
    "          '11369','11370','11371','11372','11373','11374','11375','11377','11378','11379','11385', \\\n",
    "          '11411','11412','11413','11414','11415','11416','11417','11418','11419','11420','11421', \\\n",
    "          '11422','11423','11424','11425','11426','11427','11428','11429','11430','11431','11432', \\\n",
    "          '11433','11434','11435','11436','11439','11451','11471','11510','11548','11566','11577', \\\n",
    "          '11580','11598','11629','11691','11692','11693','11694','11695','11731','11798','11968', \\\n",
    "          '12423','12428','12435','12458','12466','12473','12528','12701','12733','12734','12737', \\\n",
    "          '12750','12751','12754','12758','12759','12763','12764','12768','12779','12783','12786', \\\n",
    "          '12788','12789','13731','16091','20459']"
   ]
  },
  {
   "cell_type": "code",
   "execution_count": 17,
   "metadata": {},
   "outputs": [],
   "source": [
    "lognurl = 'http://www.city-data.com/zipmaps/New-York-New-York.html#'\n",
    "myurls = []\n",
    "for zip in myzips:\n",
    "    myurls.append(lognurl+zip)"
   ]
  },
  {
   "cell_type": "code",
   "execution_count": 22,
   "metadata": {},
   "outputs": [
    {
     "data": {
      "text/plain": [
       "236"
      ]
     },
     "execution_count": 22,
     "metadata": {},
     "output_type": "execute_result"
    }
   ],
   "source": [
    "len(myurls)"
   ]
  },
  {
   "cell_type": "code",
   "execution_count": 25,
   "metadata": {},
   "outputs": [],
   "source": [
    "# myurl = 'http://www.city-data.com/zipmaps/New-York-New-York.html'\n",
    "myurl = 'http://www.city-data.com/zipmaps/New-York-New-York.html#11697'\n",
    "response = requests.get(myurl, headers=headers).text\n",
    "soup = BeautifulSoup(response, 'html.parser')"
   ]
  },
  {
   "cell_type": "code",
   "execution_count": 26,
   "metadata": {},
   "outputs": [
    {
     "data": {
      "text/plain": [
       "<div class=\"zip data-block\" id=\"10001\">\n",
       "<strong>Zip code 10001 statistics:</strong> (<a href=\"javascript:sm(0);\">Find on map</a>)<br/><br/>\n",
       "<b>Estimated zip code population in 2013:</b> 21,966<br/>\n",
       "<b>Zip code population in 2010:</b> 21,102<br/>\n",
       "<b>Zip code population in 2000:</b> 17,310<br/>\n",
       "<b>Mar. 2013 cost of living index in zip code 10001:</b> 157.4 <b>(very high, U.S. average is 100)</b><br/>\n",
       "<br/><b>Land area:</b> 0.6 <b>sq. mi.</b><br/>\n",
       "<b>Water area:</b> 0.0 <b>sq. mi.</b><br/>\n",
       "<table border=\"0\" cellpadding=\"0\" cellspacing=\"0\"><tr><td><b>Population density:</b> 35,350 <b>people per square mile </b></td><td><div align=\"left\"><table bgcolor=\"#000\" border=\"2\" bordercolor=\"#DDDD00\" cellpadding=\"0\" cellspacing=\"0\" width=\"20\"><tr><td> </td></tr></table></div></td> <td> (very high).</td></tr></table><br>\n",
       "<br><div align=\"left\"><table border=\"0\" cellpadding=\"0\" cellspacing=\"0\"><tr><td><b>Males:</b> 10,732 </td><td><img border=\"0\" height=\"10\" src=\"http://pics3.city-data.com/sg.gif\" width=\"97\"/> (48.9%)</td></tr><tr><td><b>Females:</b> 11,234 </td><td><img border=\"0\" height=\"10\" src=\"http://pics3.city-data.com/sg3.gif\" width=\"102\"/> (51.1%)</td></tr></table></div>\n",
       "<br/><b>Real estate property taxes paid for housing units in 2013:</b> 0.9% ($6,100)<br/>\n",
       "<b>Median real estate property taxes paid for housing units with mortgages in 2013:</b> $8,399 (0.8%)<br/>\n",
       "<b>Median real estate property taxes paid for housing units with no mortgage in 2013:</b> $4,314 (1.2%)<br/>\n",
       "<br/>\n",
       "<b>Estimated median house/condo value in 2013:</b> $650,200<br><b>Estimated median household income in 2013:</b> $81,671<br><b>Median monthly owner costs for units with a mortgage:</b> $4,001<br>\n",
       "<b>Median monthly owner costs for units without a mortgage:</b> S532<br>\n",
       "<br><br><b>Median gross rent in 2013:</b> $1,830<br>\n",
       "<b>Median price asked for vacant for-sale houses and condos in 2013:</b> $252,424<br>\n",
       "<br><b>Unemployment</b>: 9.1%<br><br/>50 <b>houses sold in Q2 2011 for a median price of</b> $1,202,180<br/><div class=\"sex-offenders\"><p align=\"left\"><br/><br/><b>According to our research of New York and other state lists there </b><a href=\"/soz/soz-10001.html\"><strong>were 59 registered sex offenders</strong> living in 10001 zip code</a><b> as of October 18, 2017</b>.<br/><b>The ratio of number of residents in zip code 10001 to the number of sex offenders is </b> 334 to 1.<br/>\n",
       "</p><br>\n",
       "</br></div>\n",
       "<br><a href=\"/zips/10001.html\">Zip code 10001 detailed profile</a>\n",
       "</br></br></br></br></br></br></br></br></br></br></br></br></br></div>"
      ]
     },
     "execution_count": 26,
     "metadata": {},
     "output_type": "execute_result"
    }
   ],
   "source": [
    "# Grab zipcodes themselves:\n",
    "zips = soup.find('div', {'class': \"zip data-block\"})\n",
    "len(zips)\n",
    "# allqualif = qualif_div.find_all('li')   # they are saved in 'li'\n",
    "zips"
   ]
  },
  {
   "cell_type": "code",
   "execution_count": null,
   "metadata": {
    "collapsed": true
   },
   "outputs": [],
   "source": []
  }
 ],
 "metadata": {
  "kernelspec": {
   "display_name": "Python 3",
   "language": "python",
   "name": "python3"
  },
  "language_info": {
   "codemirror_mode": {
    "name": "ipython",
    "version": 3
   },
   "file_extension": ".py",
   "mimetype": "text/x-python",
   "name": "python",
   "nbconvert_exporter": "python",
   "pygments_lexer": "ipython3",
   "version": "3.6.1"
  }
 },
 "nbformat": 4,
 "nbformat_minor": 2
}
