{
 "cells": [
  {
   "cell_type": "code",
   "execution_count": null,
   "metadata": {
    "collapsed": true
   },
   "outputs": [],
   "source": [
    "Looking at Psychology Today search results for 07670"
   ]
  },
  {
   "cell_type": "code",
   "execution_count": 1,
   "metadata": {
    "collapsed": true
   },
   "outputs": [],
   "source": [
    "from bs4 import BeautifulSoup\n",
    "import requests, re, time, random"
   ]
  },
  {
   "cell_type": "code",
   "execution_count": 2,
   "metadata": {},
   "outputs": [
    {
     "name": "stdout",
     "output_type": "stream",
     "text": [
      "https://therapists.psychologytoday.com/rms/prof_results.php?search=07670\n"
     ]
    }
   ],
   "source": [
    "headers = {\n",
    "    'Connection': 'keep-alive',\n",
    "    'Access-Control-Request-Headers': 'content-type',\n",
    "    'Accept': '*/*',\n",
    "    'User-Agent': 'Mozilla/5.0 (Macintosh; Intel Mac OS X 10_12_3) AppleWebKit/537.36 (KHTML, like Gecko) Chrome/58.0.3029.110 Safari/537.36'\n",
    "}\n",
    "# Grabbing just the results of therapist search in ONE zip code: myzip:\n",
    "myzip = ['07670']\n",
    "zipurl = 'https://therapists.psychologytoday.com/rms/prof_results.php?search=' + str(myzip[0])\n",
    "print(zipurl)\n",
    "response_zip = requests.get(zipurl, headers=headers).text\n",
    "soup_zip = BeautifulSoup(response_zip, 'html.parser')"
   ]
  },
  {
   "cell_type": "code",
   "execution_count": 3,
   "metadata": {},
   "outputs": [
    {
     "data": {
      "text/plain": [
       "bs4.BeautifulSoup"
      ]
     },
     "execution_count": 3,
     "metadata": {},
     "output_type": "execute_result"
    }
   ],
   "source": [
    "type(soup_zip)"
   ]
  },
  {
   "cell_type": "code",
   "execution_count": 4,
   "metadata": {
    "collapsed": true
   },
   "outputs": [],
   "source": [
    "# Manually constructing the list of urls for ALL available search result pages for that tip - 20 therapists per page:\n",
    "pages_url_list = []\n",
    "i = 1\n",
    "while True:\n",
    "    myurl = 'https://therapists.psychologytoday.com/rms/prof_results.php?sid=1507757611.7036_14284&zipcode=07670&rec_next='+str(i)\n",
    "    response = requests.get(myurl, headers=headers).text\n",
    "    soup = BeautifulSoup(response, 'html.parser')\n",
    "    alert = soup.find('div', attrs={'class': 'alert-alert'})\n",
    "    if alert is None:\n",
    "        i = i + 20\n",
    "        pages_url_list.append(myurl)\n",
    "        # time.sleep(random.randint(1,2))\n",
    "    else:\n",
    "        break"
   ]
  },
  {
   "cell_type": "code",
   "execution_count": 5,
   "metadata": {},
   "outputs": [
    {
     "name": "stdout",
     "output_type": "stream",
     "text": [
      "['https://therapists.psychologytoday.com/rms/prof_results.php?sid=1507757611.7036_14284&zipcode=07670&rec_next=1', 'https://therapists.psychologytoday.com/rms/prof_results.php?sid=1507757611.7036_14284&zipcode=07670&rec_next=21', 'https://therapists.psychologytoday.com/rms/prof_results.php?sid=1507757611.7036_14284&zipcode=07670&rec_next=41', 'https://therapists.psychologytoday.com/rms/prof_results.php?sid=1507757611.7036_14284&zipcode=07670&rec_next=61']\n",
      "4\n"
     ]
    }
   ],
   "source": [
    "print(pages_url_list)  # This list contains URLs of all pages that contain therapists found for this zip\n",
    "print(len(pages_url_list))"
   ]
  },
  {
   "cell_type": "code",
   "execution_count": 6,
   "metadata": {
    "collapsed": true
   },
   "outputs": [],
   "source": [
    "# Loop through all urls found above (for pages of therapist search for that zip) and grab the urls of each and every therapist:\n",
    "therapist_urls = []\n",
    "for url in pages_url_list:\n",
    "    response = requests.get(url, headers = headers).text\n",
    "    soup = BeautifulSoup(response, 'html.parser')\n",
    "    therapists = soup.find_all('a', {'class': \"result-name\"})\n",
    "    for i in range(len(therapists)):\n",
    "        therapist_urls.append(therapists[i][\"href\"])\n",
    "        # time.sleep(random.randint(1,2))"
   ]
  },
  {
   "cell_type": "code",
   "execution_count": 11,
   "metadata": {},
   "outputs": [
    {
     "name": "stdout",
     "output_type": "stream",
     "text": [
      "75\n",
      "https://therapists.psychologytoday.com/rms/prof_detail.php?profid=143075&rec_next=1&ref=1&sid=1507757611.7036_14284&zipcode=07670&tr=ResultsName\n",
      "https://therapists.psychologytoday.com/rms/prof_detail.php?profid=352700&rec_next=61&ref=15&sid=1507757611.7036_14284&zipcode=07670&tr=ResultsName\n"
     ]
    }
   ],
   "source": [
    "print(len(therapist_urls))\n",
    "print(therapist_urls[0])\n",
    "print(therapist_urls[len(therapist_urls)-1])"
   ]
  },
  {
   "cell_type": "code",
   "execution_count": 763,
   "metadata": {},
   "outputs": [
    {
     "data": {
      "text/plain": [
       "'https://therapists.psychologytoday.com/rms/prof_detail.php?profid=59173&rec_next=1&ref=16&sid=1507757611.7036_14284&zipcode=07670&tr=ResultsName'"
      ]
     },
     "execution_count": 763,
     "metadata": {},
     "output_type": "execute_result"
    }
   ],
   "source": [
    "therapist_urls[15]"
   ]
  },
  {
   "cell_type": "code",
   "execution_count": 848,
   "metadata": {
    "collapsed": true
   },
   "outputs": [],
   "source": [
    "# For a single therapist, parse his/her page:\n",
    "response_one = requests.get(therapist_urls[16], headers=headers).text\n",
    "one_therap = BeautifulSoup(response_one, 'html.parser')"
   ]
  },
  {
   "cell_type": "code",
   "execution_count": 849,
   "metadata": {
    "collapsed": true
   },
   "outputs": [],
   "source": [
    "# Grab qualifications of one therapist\n",
    "qualif_div = one_therap.find('div', {'class': \"profile-qualifications\"})\n",
    "allqualif = qualif_div.find_all('li')   # they are saved in 'li'\n",
    "# allqualif"
   ]
  },
  {
   "cell_type": "code",
   "execution_count": 850,
   "metadata": {
    "collapsed": true
   },
   "outputs": [],
   "source": [
    "# Collecting Years in Practice:\n",
    "\n",
    "years_check = [i.text.split('\\n')[2].strip() for i in allqualif if \"Years in Practice\" in i.text]\n",
    "if len(years_check) > 0:\n",
    "    years_in_practice = years_check[0].replace(' Years', '')\n",
    "else:\n",
    "    years_in_practice = ''"
   ]
  },
  {
   "cell_type": "code",
   "execution_count": 851,
   "metadata": {},
   "outputs": [
    {
     "data": {
      "text/plain": [
       "'21'"
      ]
     },
     "execution_count": 851,
     "metadata": {},
     "output_type": "execute_result"
    }
   ],
   "source": [
    "years_in_practice"
   ]
  },
  {
   "cell_type": "code",
   "execution_count": 852,
   "metadata": {
    "collapsed": true
   },
   "outputs": [],
   "source": [
    "# Collecting School:\n",
    "\n",
    "school_check = [i.text.split('\\n')[2].strip() for i in allqualif if \"School\" in i.text]\n",
    "if len(school_check) > 0:\n",
    "    school = school_check[0]\n",
    "else:\n",
    "    school = ''"
   ]
  },
  {
   "cell_type": "code",
   "execution_count": 853,
   "metadata": {},
   "outputs": [
    {
     "name": "stdout",
     "output_type": "stream",
     "text": [
      "Hofstra University\n"
     ]
    }
   ],
   "source": [
    "print(school)"
   ]
  },
  {
   "cell_type": "code",
   "execution_count": 854,
   "metadata": {
    "collapsed": true
   },
   "outputs": [],
   "source": [
    "# Collecting Year Graduated:\n",
    "\n",
    "yeargrad_check = [i.text.split('\\n')[2].strip() for i in allqualif if \"Year Graduated\" in i.text]\n",
    "if len(yeargrad_check) > 0:\n",
    "    yeargrad = int(yeargrad_check[0])\n",
    "else:\n",
    "    yeargrad = ''"
   ]
  },
  {
   "cell_type": "code",
   "execution_count": 855,
   "metadata": {},
   "outputs": [
    {
     "name": "stdout",
     "output_type": "stream",
     "text": [
      "1994\n"
     ]
    }
   ],
   "source": [
    "print(yeargrad)"
   ]
  },
  {
   "cell_type": "code",
   "execution_count": 856,
   "metadata": {
    "collapsed": true
   },
   "outputs": [],
   "source": [
    "# Collecting Board Certification:\n",
    "\n",
    "board_check = [i.text.split('\\n')[2].strip() for i in allqualif if \"Board Certification\" in i.text]\n",
    "if len(board_check) > 0:\n",
    "    board_certif = board_check[0]\n",
    "else:\n",
    "    board_certif = ''"
   ]
  },
  {
   "cell_type": "code",
   "execution_count": 857,
   "metadata": {},
   "outputs": [
    {
     "data": {
      "text/plain": [
       "''"
      ]
     },
     "execution_count": 857,
     "metadata": {},
     "output_type": "execute_result"
    }
   ],
   "source": [
    "board_certif"
   ]
  },
  {
   "cell_type": "code",
   "execution_count": 858,
   "metadata": {
    "collapsed": true
   },
   "outputs": [],
   "source": [
    "# Collecting License number & State:\n",
    "\n",
    "license_check = [i.text.split('\\n')[2].strip() for i in allqualif if \"License No. and State\" in i.text]\n",
    "if len(license_check) > 0:\n",
    "    # license = license_check[0]\n",
    "    license = license_check[0].split()[0]\n",
    "    license_state = \" \".join(license_check[0].split()[1:])\n",
    "else:\n",
    "    license = ''\n",
    "    license_state = ''"
   ]
  },
  {
   "cell_type": "code",
   "execution_count": 859,
   "metadata": {},
   "outputs": [
    {
     "name": "stdout",
     "output_type": "stream",
     "text": [
      "35SI00540200\n",
      "New Jersey\n"
     ]
    }
   ],
   "source": [
    "print(license)\n",
    "print(license_state)"
   ]
  },
  {
   "cell_type": "code",
   "execution_count": 860,
   "metadata": {
    "collapsed": true
   },
   "outputs": [],
   "source": [
    "# Grabbing all titles of one therapist\n",
    "titles = one_therap.find('div', {'class': \"profile-title\"}).text\n",
    "titles = titles.replace(\"\\n\", \"\")"
   ]
  },
  {
   "cell_type": "code",
   "execution_count": 861,
   "metadata": {},
   "outputs": [
    {
     "data": {
      "text/plain": [
       "'Psychologist, PhD'"
      ]
     },
     "execution_count": 861,
     "metadata": {},
     "output_type": "execute_result"
    }
   ],
   "source": [
    "titles"
   ]
  },
  {
   "cell_type": "code",
   "execution_count": 862,
   "metadata": {},
   "outputs": [],
   "source": [
    "# Grabbing financial info:\n",
    "finances = one_therap.find('div', {'class': \"profile-finances\"})\n",
    "# Grabbing several financial metrics:\n",
    "lis = finances.find_all('li')\n",
    "# print(lis)"
   ]
  },
  {
   "cell_type": "code",
   "execution_count": 863,
   "metadata": {
    "collapsed": true
   },
   "outputs": [],
   "source": [
    "# Grab cost per session:\n",
    "\n",
    "persession_check = [i.text.split(': ')[1].strip() for i in lis if \"Avg Cost (per session)\" in i.text]\n",
    "if len(persession_check) > 0:\n",
    "    per_session = persession_check[0]\n",
    "else:\n",
    "    per_session = ''"
   ]
  },
  {
   "cell_type": "code",
   "execution_count": 864,
   "metadata": {},
   "outputs": [
    {
     "data": {
      "text/plain": [
       "'$150+'"
      ]
     },
     "execution_count": 864,
     "metadata": {},
     "output_type": "execute_result"
    }
   ],
   "source": [
    "per_session"
   ]
  },
  {
   "cell_type": "code",
   "execution_count": 865,
   "metadata": {
    "collapsed": true
   },
   "outputs": [],
   "source": [
    "# Grab sliding scale - yes or no:\n",
    "\n",
    "sliding_check = [i.text.split(': ')[1].strip() for i in lis if \"Sliding Scale\" in i.text]\n",
    "if len(sliding_check) > 0:\n",
    "     sliding = sliding_check[0]\n",
    "else:\n",
    "     sliding = ''"
   ]
  },
  {
   "cell_type": "code",
   "execution_count": 866,
   "metadata": {},
   "outputs": [
    {
     "data": {
      "text/plain": [
       "'Yes'"
      ]
     },
     "execution_count": 866,
     "metadata": {},
     "output_type": "execute_result"
    }
   ],
   "source": [
    "sliding"
   ]
  },
  {
   "cell_type": "code",
   "execution_count": 867,
   "metadata": {
    "collapsed": true
   },
   "outputs": [],
   "source": [
    "# Grab Accepts Insurance - yes or no:\n",
    "\n",
    "insur_check = [i.text.split(': ')[1].strip() for i in lis if \"Accepts Insurance\" in i.text]\n",
    "if len(insur_check) > 0:\n",
    "     insurance_yes = insur_check[0]\n",
    "else:\n",
    "     insurance_yes = ''"
   ]
  },
  {
   "cell_type": "code",
   "execution_count": 868,
   "metadata": {},
   "outputs": [
    {
     "data": {
      "text/plain": [
       "'Yes'"
      ]
     },
     "execution_count": 868,
     "metadata": {},
     "output_type": "execute_result"
    }
   ],
   "source": [
    "insurance_yes"
   ]
  },
  {
   "cell_type": "code",
   "execution_count": 869,
   "metadata": {
    "collapsed": true
   },
   "outputs": [],
   "source": [
    "# Grab Methods of Payment:\n",
    "\n",
    "payment_check = [i.text for i in lis if \"Accepted Payment Methods\" in i.text]\n",
    "payment_check = [i.text.split('\\n')[2].strip().split(',') for i in lis if \"Accepted Payment Methods\" in i.text]\n"
   ]
  },
  {
   "cell_type": "code",
   "execution_count": 874,
   "metadata": {},
   "outputs": [],
   "source": [
    "if len(payment_check) == 0:\n",
    "    payment_methods = ''\n",
    "else:\n",
    "    payment_methods = [item for sublist in payment_check for item in sublist]\n",
    "    # print(payment_check)\n",
    "    # print(len(payment_check))\n",
    "    for index, item in enumerate(payment_methods):\n",
    "        payment_methods[index] = item.strip()\n",
    "    payment_methods = ', '.join(payment_methods)"
   ]
  },
  {
   "cell_type": "code",
   "execution_count": 875,
   "metadata": {},
   "outputs": [
    {
     "data": {
      "text/plain": [
       "'ACH Bank transfer, Cash, Check'"
      ]
     },
     "execution_count": 875,
     "metadata": {},
     "output_type": "execute_result"
    }
   ],
   "source": [
    "payment_methods"
   ]
  },
  {
   "cell_type": "code",
   "execution_count": 878,
   "metadata": {},
   "outputs": [],
   "source": [
    "# Grab Accepted Insurance Plans:\n",
    "\n",
    "long = one_therap.find_all('div', {'class': \"col-xs-12 col-sm-6 col-md-6 col-lg-6 col-tight-right\"})\n",
    "if len(long) > 0:\n",
    "    result = []\n",
    "    for i in long:\n",
    "        result.extend(i.find_all('li'))\n",
    "    plans = []\n",
    "    for i in range(len(result)):\n",
    "        plans.append(result[i].text)\n",
    "    plans = ', '.join(plans).lower()\n",
    "else:\n",
    "    plans = ''"
   ]
  },
  {
   "cell_type": "code",
   "execution_count": 879,
   "metadata": {
    "scrolled": true
   },
   "outputs": [
    {
     "data": {
      "text/plain": [
       "'bluecross and blueshield, medicare, qualcare, out of network'"
      ]
     },
     "execution_count": 879,
     "metadata": {},
     "output_type": "execute_result"
    }
   ],
   "source": [
    "plans"
   ]
  },
  {
   "cell_type": "code",
   "execution_count": 880,
   "metadata": {},
   "outputs": [],
   "source": [
    "# Grab specialties:\n",
    "\n",
    "spec_check = one_therap.find_all('li', {'class': \"highlight\"})\n",
    "if len(spec_check) == 0:\n",
    "    specialties = ''\n",
    "else:\n",
    "    specialties = []\n",
    "    for i in range(len(spec_check)):\n",
    "        specialties.append(spec_check[i].text)\n",
    "    specialties = \", \".join(specialties)"
   ]
  },
  {
   "cell_type": "code",
   "execution_count": 881,
   "metadata": {},
   "outputs": [
    {
     "data": {
      "text/plain": [
       "'Anxiety, Depression, Marital and Premarital'"
      ]
     },
     "execution_count": 881,
     "metadata": {},
     "output_type": "execute_result"
    }
   ],
   "source": [
    "specialties"
   ]
  },
  {
   "cell_type": "code",
   "execution_count": 882,
   "metadata": {
    "collapsed": true
   },
   "outputs": [],
   "source": [
    "# Grab issues:\n",
    "\n",
    "issues_check = one_therap.find_all('div', {'class': 'col-xs-12 col-sm-12 col-md-6 col-lg-6'})\n",
    "if len(issues_check) == 0:\n",
    "    issues = ''\n",
    "else:\n",
    "    result = []\n",
    "    for i in issues_check:\n",
    "        result.extend(i.find_all('li'))\n",
    "\n",
    "    issues = []\n",
    "    for i in range(len(result)):\n",
    "        issues.append(result[i].text)\n",
    "    issues = \", \".join(issues)"
   ]
  },
  {
   "cell_type": "code",
   "execution_count": 883,
   "metadata": {},
   "outputs": [
    {
     "data": {
      "text/plain": [
       "\"Adoption, Alzheimer's, Anger Management, Bipolar Disorder, Borderline Personality, Chronic Illness, Chronic Impulsivity, Chronic Pain, Coping Skills, Divorce, Domestic Abuse, Eating Disorders, Emotional Disturbance, Family Conflict, Grief, Hoarding, Infidelity, Life Transitions, Obsessive-Compulsive (OCD), Parenting, Peer Relationships, Relationship Issues, Self Esteem, Sleep or Insomnia, Stress, Suicidal Ideation, Women's Issues, Elderly Persons Disorders, Impulse Control Disorders, Mood Disorders, Personality Disorders, Psychosis, Thinking Disorders, Bisexual, Gay, Lesbian\""
      ]
     },
     "execution_count": 883,
     "metadata": {},
     "output_type": "execute_result"
    }
   ],
   "source": [
    "issues"
   ]
  },
  {
   "cell_type": "code",
   "execution_count": 845,
   "metadata": {
    "collapsed": true
   },
   "outputs": [],
   "source": [
    "response_one = requests.get(therapist_urls[16], headers=headers).text\n",
    "one_therap = BeautifulSoup(response_one, 'html.parser')# Grab specialties:"
   ]
  },
  {
   "cell_type": "code",
   "execution_count": 847,
   "metadata": {},
   "outputs": [
    {
     "data": {
      "text/plain": [
       "'https://therapists.psychologytoday.com/rms/prof_detail.php?profid=110966&rec_next=1&ref=17&sid=1507757611.7036_14284&zipcode=07670&tr=ResultsName'"
      ]
     },
     "execution_count": 847,
     "metadata": {},
     "output_type": "execute_result"
    }
   ],
   "source": [
    "therapist_urls[16]"
   ]
  },
  {
   "cell_type": "code",
   "execution_count": null,
   "metadata": {
    "collapsed": true
   },
   "outputs": [],
   "source": [
    "# Grab preferred ages:\n"
   ]
  }
 ],
 "metadata": {
  "kernelspec": {
   "display_name": "Python 3",
   "language": "python",
   "name": "python3"
  },
  "language_info": {
   "codemirror_mode": {
    "name": "ipython",
    "version": 3
   },
   "file_extension": ".py",
   "mimetype": "text/x-python",
   "name": "python",
   "nbconvert_exporter": "python",
   "pygments_lexer": "ipython3",
   "version": "3.6.1"
  }
 },
 "nbformat": 4,
 "nbformat_minor": 2
}
